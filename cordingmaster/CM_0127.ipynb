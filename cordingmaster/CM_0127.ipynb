{
 "cells": [
  {
   "cell_type": "code",
   "execution_count": 1,
   "id": "standing-sucking",
   "metadata": {},
   "outputs": [
    {
     "name": "stdout",
     "output_type": "stream",
     "text": [
      " CM_0127.ipynb\r\n",
      "'CM_01일. 파이썬 시작하기 (01번 ~ 10번).ipynb'\r\n",
      "'CM_02일. 파이썬 시작하기 (10번 ~ 20번).ipynb'\r\n",
      "'CM_03일. 파이썬 시작하기 (20번 ~ 30번).ipynb'\r\n",
      "'CM_04일. 파이썬 시작하기 (30번 ~ 40번).ipynb'\r\n",
      "'CM_05일. 파이썬 시작하기 (40번 ~ 50번).ipynb'\r\n",
      "'CM_06일. 파이썬 시작하기 (50번 ~ 60번).ipynb'\r\n",
      "'CM_07일. 파이썬 시작하기 (60번 ~ 70번).ipynb'\r\n",
      "'CM_08일. 파이썬 시작하기 (70번 ~ 80번).ipynb'\r\n",
      "'CM_09일. 파이썬 시작하기 (80번 ~ 90번).ipynb'\r\n",
      "'CM_10일. 파이썬 시작하기 (90번 ~ 100번).ipynb'\r\n",
      "'CM_11일. 파이썬 시작하기 (100번 ~ 110번).ipynb'\r\n",
      "'CM_12일. 파이썬 시작하기 (110번 ~ 120번).ipynb'\r\n",
      "'CM_13일. 파이썬 시작하기 (120번 ~ 130번).ipynb'\r\n",
      "'CM_14일. 파이썬 시작하기 (130번 ~ 140번).ipynb'\r\n",
      "'CM_15일. 파이썬 시작하기 (141번 ~ 150번).ipynb'\r\n",
      " Untitled.ipynb\r\n"
     ]
    }
   ],
   "source": [
    "!ls"
   ]
  },
  {
   "cell_type": "code",
   "execution_count": 2,
   "id": "headed-sponsorship",
   "metadata": {},
   "outputs": [
    {
     "name": "stdout",
     "output_type": "stream",
     "text": [
      " CM_0127.ipynb\r\n",
      "'CM_01일. 파이썬 시작하기 (01번 ~ 10번).ipynb'\r\n",
      "'CM_02일. 파이썬 시작하기 (10번 ~ 20번).ipynb'\r\n",
      "'CM_03일. 파이썬 시작하기 (20번 ~ 30번).ipynb'\r\n",
      "'CM_04일. 파이썬 시작하기 (30번 ~ 40번).ipynb'\r\n",
      "'CM_05일. 파이썬 시작하기 (40번 ~ 50번).ipynb'\r\n",
      "'CM_06일. 파이썬 시작하기 (50번 ~ 60번).ipynb'\r\n",
      "'CM_07일. 파이썬 시작하기 (60번 ~ 70번).ipynb'\r\n",
      "'CM_08일. 파이썬 시작하기 (70번 ~ 80번).ipynb'\r\n",
      "'CM_09일. 파이썬 시작하기 (80번 ~ 90번).ipynb'\r\n",
      "'CM_10일. 파이썬 시작하기 (90번 ~ 100번).ipynb'\r\n",
      "'CM_11일. 파이썬 시작하기 (100번 ~ 110번).ipynb'\r\n",
      "'CM_12일. 파이썬 시작하기 (110번 ~ 120번).ipynb'\r\n",
      "'CM_13일. 파이썬 시작하기 (120번 ~ 130번).ipynb'\r\n",
      "'CM_14일. 파이썬 시작하기 (130번 ~ 140번).ipynb'\r\n",
      "'CM_15일. 파이썬 시작하기 (141번 ~ 150번).ipynb'\r\n",
      " Untitled.ipynb\r\n"
     ]
    }
   ],
   "source": [
    "%ls #매직커맨드 여기서만 쓰는 명령어  #폴더에 무엇이 있는지 확인을 하고 싶을 때 사용합니다. "
   ]
  },
  {
   "cell_type": "code",
   "execution_count": 3,
   "id": "thrown-enough",
   "metadata": {},
   "outputs": [],
   "source": [
    "!mkdir special_quiz"
   ]
  },
  {
   "cell_type": "code",
   "execution_count": 4,
   "id": "outstanding-float",
   "metadata": {},
   "outputs": [
    {
     "name": "stdout",
     "output_type": "stream",
     "text": [
      " CM_0127.ipynb\r\n",
      "'CM_01일. 파이썬 시작하기 (01번 ~ 10번).ipynb'\r\n",
      "'CM_02일. 파이썬 시작하기 (10번 ~ 20번).ipynb'\r\n",
      "'CM_03일. 파이썬 시작하기 (20번 ~ 30번).ipynb'\r\n",
      "'CM_04일. 파이썬 시작하기 (30번 ~ 40번).ipynb'\r\n",
      "'CM_05일. 파이썬 시작하기 (40번 ~ 50번).ipynb'\r\n",
      "'CM_06일. 파이썬 시작하기 (50번 ~ 60번).ipynb'\r\n",
      "'CM_07일. 파이썬 시작하기 (60번 ~ 70번).ipynb'\r\n",
      "'CM_08일. 파이썬 시작하기 (70번 ~ 80번).ipynb'\r\n",
      "'CM_09일. 파이썬 시작하기 (80번 ~ 90번).ipynb'\r\n",
      "'CM_10일. 파이썬 시작하기 (90번 ~ 100번).ipynb'\r\n",
      "'CM_11일. 파이썬 시작하기 (100번 ~ 110번).ipynb'\r\n",
      "'CM_12일. 파이썬 시작하기 (110번 ~ 120번).ipynb'\r\n",
      "'CM_13일. 파이썬 시작하기 (120번 ~ 130번).ipynb'\r\n",
      "'CM_14일. 파이썬 시작하기 (130번 ~ 140번).ipynb'\r\n",
      "'CM_15일. 파이썬 시작하기 (141번 ~ 150번).ipynb'\r\n",
      " Untitled.ipynb\r\n",
      " special_quiz\r\n"
     ]
    }
   ],
   "source": [
    "!ls"
   ]
  },
  {
   "cell_type": "code",
   "execution_count": 5,
   "id": "cardiovascular-burden",
   "metadata": {},
   "outputs": [],
   "source": [
    "!mkdir 수업정리"
   ]
  },
  {
   "cell_type": "code",
   "execution_count": 6,
   "id": "possible-thinking",
   "metadata": {},
   "outputs": [
    {
     "name": "stdout",
     "output_type": "stream",
     "text": [
      " CM_0127.ipynb\r\n",
      "'CM_01일. 파이썬 시작하기 (01번 ~ 10번).ipynb'\r\n",
      "'CM_02일. 파이썬 시작하기 (10번 ~ 20번).ipynb'\r\n",
      "'CM_03일. 파이썬 시작하기 (20번 ~ 30번).ipynb'\r\n",
      "'CM_04일. 파이썬 시작하기 (30번 ~ 40번).ipynb'\r\n",
      "'CM_05일. 파이썬 시작하기 (40번 ~ 50번).ipynb'\r\n",
      "'CM_06일. 파이썬 시작하기 (50번 ~ 60번).ipynb'\r\n",
      "'CM_07일. 파이썬 시작하기 (60번 ~ 70번).ipynb'\r\n",
      "'CM_08일. 파이썬 시작하기 (70번 ~ 80번).ipynb'\r\n",
      "'CM_09일. 파이썬 시작하기 (80번 ~ 90번).ipynb'\r\n",
      "'CM_10일. 파이썬 시작하기 (90번 ~ 100번).ipynb'\r\n",
      "'CM_11일. 파이썬 시작하기 (100번 ~ 110번).ipynb'\r\n",
      "'CM_12일. 파이썬 시작하기 (110번 ~ 120번).ipynb'\r\n",
      "'CM_13일. 파이썬 시작하기 (120번 ~ 130번).ipynb'\r\n",
      "'CM_14일. 파이썬 시작하기 (130번 ~ 140번).ipynb'\r\n",
      "'CM_15일. 파이썬 시작하기 (141번 ~ 150번).ipynb'\r\n",
      " Untitled.ipynb\r\n",
      " special_quiz\r\n",
      " 수업정리\r\n"
     ]
    }
   ],
   "source": [
    "!ls"
   ]
  },
  {
   "cell_type": "code",
   "execution_count": 7,
   "id": "senior-challenge",
   "metadata": {},
   "outputs": [],
   "source": [
    "dir_files = !ls"
   ]
  },
  {
   "cell_type": "code",
   "execution_count": 8,
   "id": "increased-cambridge",
   "metadata": {},
   "outputs": [
    {
     "data": {
      "text/plain": [
       "IPython.utils.text.SList"
      ]
     },
     "execution_count": 8,
     "metadata": {},
     "output_type": "execute_result"
    }
   ],
   "source": [
    "type(dir_files)"
   ]
  },
  {
   "cell_type": "code",
   "execution_count": 13,
   "id": "small-education",
   "metadata": {},
   "outputs": [
    {
     "name": "stderr",
     "output_type": "stream",
     "text": [
      "UsageError: Line magic function `%%writefile` not found.\n"
     ]
    }
   ],
   "source": [
    "# %loadpy ../rcp.py #상위경로에서 이거를 불러오라.\n",
    "%%writefile hello.py\n",
    "print('Hello world')"
   ]
  },
  {
   "cell_type": "code",
   "execution_count": 14,
   "id": "separated-enemy",
   "metadata": {},
   "outputs": [
    {
     "ename": "NameError",
     "evalue": "name 'data' is not defined",
     "output_type": "error",
     "traceback": [
      "\u001b[0;31m---------------------------------------------------------------------------\u001b[0m",
      "\u001b[0;31mNameError\u001b[0m                                 Traceback (most recent call last)",
      "\u001b[0;32m<ipython-input-14-445b903de478>\u001b[0m in \u001b[0;36m<module>\u001b[0;34m\u001b[0m\n\u001b[1;32m      1\u001b[0m \u001b[0mget_ipython\u001b[0m\u001b[0;34m(\u001b[0m\u001b[0;34m)\u001b[0m\u001b[0;34m.\u001b[0m\u001b[0mrun_line_magic\u001b[0m\u001b[0;34m(\u001b[0m\u001b[0;34m'matplotlib'\u001b[0m\u001b[0;34m,\u001b[0m \u001b[0;34m'notebook '\u001b[0m\u001b[0;34m)\u001b[0m\u001b[0;34m\u001b[0m\u001b[0;34m\u001b[0m\u001b[0m\n\u001b[0;32m----> 2\u001b[0;31m \u001b[0mdata\u001b[0m\u001b[0;34m.\u001b[0m\u001b[0mplot\u001b[0m\u001b[0;34m(\u001b[0m\u001b[0;34m)\u001b[0m\u001b[0;34m\u001b[0m\u001b[0;34m\u001b[0m\u001b[0m\n\u001b[0m",
      "\u001b[0;31mNameError\u001b[0m: name 'data' is not defined"
     ]
    }
   ],
   "source": [
    "%matplotlib notebook \n",
    "data.plot()\n",
    "#줌버튼 누르고 역역지정"
   ]
  },
  {
   "cell_type": "code",
   "execution_count": null,
   "id": "eleven-mistress",
   "metadata": {},
   "outputs": [],
   "source": [
    "튜플 앞에 *를 넣으면 각각 튜플 \n",
    "**kwargs 딕셔너리 언패킹하는 거 \n",
    "\n",
    "#CLASS  \n",
    "\n",
    "+ "
   ]
  },
  {
   "cell_type": "code",
   "execution_count": null,
   "id": "accessible-accused",
   "metadata": {},
   "outputs": [],
   "source": [
    "class smartphone:\n",
    "    \n",
    "    where='main'\n",
    "    power='off'\n",
    "    app_list = ['시계','달력','카메라','사진첩']\n",
    "    internet = 'off'"
   ]
  },
  {
   "cell_type": "code",
   "execution_count": 20,
   "id": "boxed-nation",
   "metadata": {},
   "outputs": [
    {
     "ename": "AttributeError",
     "evalue": "'str' object has no attribute 'power'",
     "output_type": "error",
     "traceback": [
      "\u001b[0;31m---------------------------------------------------------------------------\u001b[0m",
      "\u001b[0;31mAttributeError\u001b[0m                            Traceback (most recent call last)",
      "\u001b[0;32m<ipython-input-20-1cb40d5dbd13>\u001b[0m in \u001b[0;36m<module>\u001b[0;34m\u001b[0m\n\u001b[1;32m      8\u001b[0m         \u001b[0mprint\u001b[0m\u001b[0;34m(\u001b[0m\u001b[0;34m'전원이 꺼졌습니다. '\u001b[0m\u001b[0;34m)\u001b[0m\u001b[0;34m\u001b[0m\u001b[0;34m\u001b[0m\u001b[0m\n\u001b[1;32m      9\u001b[0m \u001b[0;34m\u001b[0m\u001b[0m\n\u001b[0;32m---> 10\u001b[0;31m \u001b[0mpower_on_or_off\u001b[0m\u001b[0;34m(\u001b[0m\u001b[0;34m'off'\u001b[0m\u001b[0;34m)\u001b[0m\u001b[0;34m\u001b[0m\u001b[0;34m\u001b[0m\u001b[0m\n\u001b[0m",
      "\u001b[0;32m<ipython-input-20-1cb40d5dbd13>\u001b[0m in \u001b[0;36mpower_on_or_off\u001b[0;34m(self)\u001b[0m\n\u001b[1;32m      1\u001b[0m \u001b[0;31m# 함수의 이름을 잘 들어야 합니다.\u001b[0m\u001b[0;34m\u001b[0m\u001b[0;34m\u001b[0m\u001b[0;34m\u001b[0m\u001b[0m\n\u001b[1;32m      2\u001b[0m \u001b[0;32mdef\u001b[0m \u001b[0mpower_on_or_off\u001b[0m\u001b[0;34m(\u001b[0m\u001b[0mself\u001b[0m\u001b[0;34m)\u001b[0m\u001b[0;34m:\u001b[0m\u001b[0;34m\u001b[0m\u001b[0;34m\u001b[0m\u001b[0m\n\u001b[0;32m----> 3\u001b[0;31m     \u001b[0;32mif\u001b[0m \u001b[0mself\u001b[0m\u001b[0;34m.\u001b[0m\u001b[0mpower\u001b[0m \u001b[0;34m==\u001b[0m\u001b[0;34m'off'\u001b[0m\u001b[0;34m:\u001b[0m\u001b[0;34m\u001b[0m\u001b[0;34m\u001b[0m\u001b[0m\n\u001b[0m\u001b[1;32m      4\u001b[0m         \u001b[0mself\u001b[0m\u001b[0;34m.\u001b[0m\u001b[0mpower\u001b[0m \u001b[0;34m=\u001b[0m\u001b[0;34m'on'\u001b[0m\u001b[0;34m\u001b[0m\u001b[0;34m\u001b[0m\u001b[0m\n\u001b[1;32m      5\u001b[0m         \u001b[0mprint\u001b[0m\u001b[0;34m(\u001b[0m\u001b[0;34m'전원이 켜졌습니다'\u001b[0m\u001b[0;34m)\u001b[0m\u001b[0;34m\u001b[0m\u001b[0;34m\u001b[0m\u001b[0m\n",
      "\u001b[0;31mAttributeError\u001b[0m: 'str' object has no attribute 'power'"
     ]
    }
   ],
   "source": [
    "# 함수의 이름을 잘 들어야 합니다. \n",
    "def power_on_or_off(self):\n",
    "    if self.power =='off':\n",
    "        self.power ='on'\n",
    "        print('전원이 켜졌습니다')\n",
    "    elif self.power =='on':\n",
    "        self.power ='off'\n",
    "        print('전원이 꺼졌습니다. ')\n",
    "\n",
    "power_on_or_off('off')"
   ]
  },
  {
   "cell_type": "code",
   "execution_count": null,
   "id": "treated-consultancy",
   "metadata": {},
   "outputs": [],
   "source": []
  },
  {
   "cell_type": "code",
   "execution_count": null,
   "id": "sacred-memory",
   "metadata": {},
   "outputs": [],
   "source": []
  }
 ],
 "metadata": {
  "kernelspec": {
   "display_name": "aiffel",
   "language": "python",
   "name": "aiffel"
  },
  "language_info": {
   "codemirror_mode": {
    "name": "ipython",
    "version": 3
   },
   "file_extension": ".py",
   "mimetype": "text/x-python",
   "name": "python",
   "nbconvert_exporter": "python",
   "pygments_lexer": "ipython3",
   "version": "3.7.6"
  }
 },
 "nbformat": 4,
 "nbformat_minor": 5
}
