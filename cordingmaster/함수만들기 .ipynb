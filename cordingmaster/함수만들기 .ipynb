{
 "cells": [
  {
   "cell_type": "code",
   "execution_count": 7,
   "id": "bronze-puzzle",
   "metadata": {},
   "outputs": [],
   "source": [
    "import os\n",
    "image_path = os.getenv('HOME') + '/aiffel/face_embedding/images'"
   ]
  },
  {
   "cell_type": "code",
   "execution_count": 12,
   "id": "paperback-intranet",
   "metadata": {},
   "outputs": [],
   "source": [
    "def print_diclist(image):\n",
    "    file_list = os.listdir(image)\n",
    "    print(f'file_list:{file_list}' )\n",
    "    return file_list"
   ]
  },
  {
   "cell_type": "code",
   "execution_count": 13,
   "id": "instrumental-paris",
   "metadata": {},
   "outputs": [
    {
     "name": "stdout",
     "output_type": "stream",
     "text": [
      "file_list:['obama.jpg', 'reagan.jpg', 'biden.jpg', 'clinton.jpeg', 'bush.jpeg', 'trump.jpg']\n"
     ]
    },
    {
     "data": {
      "text/plain": [
       "['obama.jpg',\n",
       " 'reagan.jpg',\n",
       " 'biden.jpg',\n",
       " 'clinton.jpeg',\n",
       " 'bush.jpeg',\n",
       " 'trump.jpg']"
      ]
     },
     "execution_count": 13,
     "metadata": {},
     "output_type": "execute_result"
    }
   ],
   "source": [
    "print_diclist(image_path)"
   ]
  },
  {
   "cell_type": "code",
   "execution_count": null,
   "id": "alpha-motivation",
   "metadata": {},
   "outputs": [],
   "source": []
  }
 ],
 "metadata": {
  "kernelspec": {
   "display_name": "aiffel",
   "language": "python",
   "name": "aiffel"
  },
  "language_info": {
   "codemirror_mode": {
    "name": "ipython",
    "version": 3
   },
   "file_extension": ".py",
   "mimetype": "text/x-python",
   "name": "python",
   "nbconvert_exporter": "python",
   "pygments_lexer": "ipython3",
   "version": "3.7.9"
  }
 },
 "nbformat": 4,
 "nbformat_minor": 5
}
