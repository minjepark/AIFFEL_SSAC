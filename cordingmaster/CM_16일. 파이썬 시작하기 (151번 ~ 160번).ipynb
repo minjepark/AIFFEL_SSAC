{
 "cells": [
  {
   "cell_type": "code",
   "execution_count": 3,
   "id": "incorporate-benchmark",
   "metadata": {},
   "outputs": [
    {
     "name": "stdout",
     "output_type": "stream",
     "text": [
      "-20\n",
      "-3\n"
     ]
    }
   ],
   "source": [
    "a = [3,-20,-3,44]\n",
    "result = []\n",
    "\n",
    "for i in a:\n",
    "    if i < 0:\n",
    "#         result.append(i)\n",
    "        print(i)\n",
    "# print(result)"
   ]
  },
  {
   "cell_type": "code",
   "execution_count": 4,
   "id": "dimensional-lease",
   "metadata": {},
   "outputs": [
    {
     "name": "stdout",
     "output_type": "stream",
     "text": [
      "3\n"
     ]
    }
   ],
   "source": [
    "#152\n",
    "\n",
    "a = [3,100,23,44]\n",
    "\n",
    "for i in a:\n",
    "    if i % 3 ==0:\n",
    "        print(i)"
   ]
  },
  {
   "cell_type": "code",
   "execution_count": 5,
   "id": "nervous-magazine",
   "metadata": {},
   "outputs": [
    {
     "name": "stdout",
     "output_type": "stream",
     "text": [
      "12\n",
      "18\n"
     ]
    }
   ],
   "source": [
    "#153\n",
    "a = [13,21,12,14,30,18]\n",
    "\n",
    "for i in a:\n",
    "    if (i<20) and (i%3==0):\n",
    "        print(i)"
   ]
  },
  {
   "cell_type": "code",
   "execution_count": 7,
   "id": "competitive-poverty",
   "metadata": {},
   "outputs": [
    {
     "name": "stdout",
     "output_type": "stream",
     "text": [
      "study\n",
      "python\n",
      "language\n"
     ]
    }
   ],
   "source": [
    "#154\n",
    "a = ['I','study','python','language','!']\n",
    "\n",
    "for i in a:\n",
    "    if len(i) >= 3:\n",
    "        print(i)"
   ]
  },
  {
   "cell_type": "code",
   "execution_count": 11,
   "id": "greenhouse-musical",
   "metadata": {},
   "outputs": [
    {
     "name": "stdout",
     "output_type": "stream",
     "text": [
      "A\n",
      "D\n"
     ]
    }
   ],
   "source": [
    "#155\n",
    "\n",
    "a = ['A','D','b','c']\n",
    "\n",
    "for i in a:\n",
    "    if i.isupper() == True:\n",
    "        print(i)"
   ]
  },
  {
   "cell_type": "code",
   "execution_count": 12,
   "id": "prompt-mouth",
   "metadata": {},
   "outputs": [
    {
     "name": "stdout",
     "output_type": "stream",
     "text": [
      "b\n",
      "c\n"
     ]
    }
   ],
   "source": [
    "#156\n",
    "for i in a:\n",
    "    if i.isupper() == False:\n",
    "        print(i)"
   ]
  },
  {
   "cell_type": "code",
   "execution_count": 23,
   "id": "bearing-portal",
   "metadata": {},
   "outputs": [
    {
     "name": "stdout",
     "output_type": "stream",
     "text": [
      "['Dog', 'Cat', 'Parrot']\n"
     ]
    }
   ],
   "source": [
    "#157\n",
    "a = ['dog','cat','parrot']\n",
    "data = enumerate(a)\n",
    "for i,j in data:\n",
    "    a[i]= j.capitalize()\n",
    "print(a)"
   ]
  },
  {
   "cell_type": "code",
   "execution_count": 25,
   "id": "large-halloween",
   "metadata": {},
   "outputs": [
    {
     "name": "stdout",
     "output_type": "stream",
     "text": [
      "['Dog', 'Cat', 'Parrot']\n"
     ]
    }
   ],
   "source": [
    "#157\n",
    "for i in a:\n",
    "    i[0].upper()\n",
    "print(a)"
   ]
  },
  {
   "cell_type": "code",
   "execution_count": 28,
   "id": "advance-sound",
   "metadata": {},
   "outputs": [
    {
     "name": "stdout",
     "output_type": "stream",
     "text": [
      "hello\n",
      "ex01\n",
      "intro\n"
     ]
    }
   ],
   "source": [
    "#158\n",
    "a = ['hello.py','ex01.py','intro.hwp']\n",
    "\n",
    "for i in a:\n",
    "    b = i.split('.')[0]\n",
    "    print(b)\n"
   ]
  },
  {
   "cell_type": "code",
   "execution_count": 29,
   "id": "immune-emission",
   "metadata": {},
   "outputs": [
    {
     "name": "stdout",
     "output_type": "stream",
     "text": [
      "intra.h\n",
      "define.h\n"
     ]
    }
   ],
   "source": [
    "#159\n",
    "a = ['intra.h','intra.c','define.h','run.py']\n",
    "\n",
    "for i in a:\n",
    "    if i.split('.')[1] == 'h':\n",
    "        print(i)"
   ]
  },
  {
   "cell_type": "code",
   "execution_count": 33,
   "id": "broke-graph",
   "metadata": {},
   "outputs": [
    {
     "name": "stdout",
     "output_type": "stream",
     "text": [
      "intra.h\n",
      "intra.c\n",
      "define.h\n"
     ]
    }
   ],
   "source": [
    "#160\n",
    "for i in a:\n",
    "    if (i.split('.')[1] == 'h') or (i.split('.')[1] == 'c'):\n",
    "        print(i)\n",
    "#괄호를 꼭 묶어줍시다!"
   ]
  },
  {
   "cell_type": "code",
   "execution_count": 35,
   "id": "compatible-period",
   "metadata": {},
   "outputs": [
    {
     "name": "stdout",
     "output_type": "stream",
     "text": [
      "cp: 'CM_16일. 파이썬 시작하기 (151번 ~ 160번).ipynb' 다음에 대상 파일 명령이 누락됨\r\n",
      "Try 'cp --help' for more information.\r\n"
     ]
    }
   ],
   "source": [
    "!cp 'CM_16일. 파이썬 시작하기 (151번 ~ 160번).ipynb' "
   ]
  },
  {
   "cell_type": "code",
   "execution_count": 36,
   "id": "written-absence",
   "metadata": {},
   "outputs": [
    {
     "name": "stdout",
     "output_type": "stream",
     "text": [
      "/bin/sh: 1: cd..: not found\r\n"
     ]
    }
   ],
   "source": [
    "!cd.."
   ]
  },
  {
   "cell_type": "code",
   "execution_count": 37,
   "id": "hollow-borough",
   "metadata": {},
   "outputs": [
    {
     "name": "stdout",
     "output_type": "stream",
     "text": [
      " CM_0127.ipynb\r\n",
      "'CM_01일. 파이썬 시작하기 (01번 ~ 10번).ipynb'\r\n",
      "'CM_02일. 파이썬 시작하기 (10번 ~ 20번).ipynb'\r\n",
      "'CM_03일. 파이썬 시작하기 (20번 ~ 30번).ipynb'\r\n",
      "'CM_04일. 파이썬 시작하기 (30번 ~ 40번).ipynb'\r\n",
      "'CM_05일. 파이썬 시작하기 (40번 ~ 50번).ipynb'\r\n",
      "'CM_06일. 파이썬 시작하기 (50번 ~ 60번).ipynb'\r\n",
      "'CM_07일. 파이썬 시작하기 (60번 ~ 70번).ipynb'\r\n",
      "'CM_08일. 파이썬 시작하기 (70번 ~ 80번).ipynb'\r\n",
      "'CM_09일. 파이썬 시작하기 (80번 ~ 90번).ipynb'\r\n",
      "'CM_10일. 파이썬 시작하기 (90번 ~ 100번).ipynb'\r\n",
      "'CM_11일. 파이썬 시작하기 (100번 ~ 110번).ipynb'\r\n",
      "'CM_12일. 파이썬 시작하기 (110번 ~ 120번).ipynb'\r\n",
      "'CM_13일. 파이썬 시작하기 (120번 ~ 130번).ipynb'\r\n",
      "'CM_14일. 파이썬 시작하기 (130번 ~ 140번).ipynb'\r\n",
      "'CM_15일. 파이썬 시작하기 (141번 ~ 150번).ipynb'\r\n",
      "'CM_16일. 파이썬 시작하기 (151번 ~ 160번).ipynb'\r\n",
      " Untitled.ipynb\r\n",
      " special_quiz\r\n",
      " 수업정리\r\n"
     ]
    }
   ],
   "source": [
    "!ls"
   ]
  },
  {
   "cell_type": "code",
   "execution_count": null,
   "id": "continuous-taiwan",
   "metadata": {},
   "outputs": [],
   "source": []
  }
 ],
 "metadata": {
  "kernelspec": {
   "display_name": "aiffel",
   "language": "python",
   "name": "aiffel"
  },
  "language_info": {
   "codemirror_mode": {
    "name": "ipython",
    "version": 3
   },
   "file_extension": ".py",
   "mimetype": "text/x-python",
   "name": "python",
   "nbconvert_exporter": "python",
   "pygments_lexer": "ipython3",
   "version": "3.7.6"
  }
 },
 "nbformat": 4,
 "nbformat_minor": 5
}
