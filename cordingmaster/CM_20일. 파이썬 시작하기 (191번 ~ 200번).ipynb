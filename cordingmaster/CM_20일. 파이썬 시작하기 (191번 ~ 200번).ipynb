{
 "cells": [
  {
   "cell_type": "code",
   "execution_count": 6,
   "id": "approved-check",
   "metadata": {},
   "outputs": [
    {
     "data": {
      "text/plain": [
       "2000.28"
      ]
     },
     "execution_count": 6,
     "metadata": {},
     "output_type": "execute_result"
    }
   ],
   "source": [
    "#191번\n",
    "data = [\n",
    "    [ 2000,  3050,  2050,  1980],\n",
    "    [ 7500,  2050,  2050,  1980],\n",
    "    [15450, 15050, 15550, 14900]\n",
    "]\n",
    "\n",
    "data[0][0] + data[0][0]*0.00014"
   ]
  },
  {
   "cell_type": "code",
   "execution_count": 14,
   "id": "hourly-hopkins",
   "metadata": {},
   "outputs": [
    {
     "name": "stdout",
     "output_type": "stream",
     "text": [
      "2000.28\n",
      "3050.427\n",
      "2050.287\n",
      "1980.2772\n",
      "7501.05\n",
      "2050.287\n",
      "2050.287\n",
      "1980.2772\n",
      "15452.163\n",
      "15052.107\n",
      "15552.177\n",
      "14902.086\n"
     ]
    }
   ],
   "source": [
    "for i in data:\n",
    "    for j in range(4):\n",
    "        print(i[j]+ i[j]*0.00014)"
   ]
  },
  {
   "cell_type": "code",
   "execution_count": 21,
   "id": "rotary-exhibit",
   "metadata": {},
   "outputs": [
    {
     "name": "stdout",
     "output_type": "stream",
     "text": [
      "2000.28\n",
      "3050.427\n",
      "2050.2870000000003\n",
      "1980.2772\n",
      "=========\n",
      "7501.05\n",
      "2050.2870000000003\n",
      "2050.2870000000003\n",
      "1980.2772\n",
      "=========\n",
      "15452.163\n",
      "15052.107\n",
      "15552.177\n",
      "14902.086000000001\n",
      "=========\n"
     ]
    }
   ],
   "source": [
    "#192번 문제 \n",
    "for i in data:\n",
    "    \n",
    "    for c in i:\n",
    "        print(c*1.00014)\n",
    "    print('=========')   "
   ]
  },
  {
   "cell_type": "code",
   "execution_count": 22,
   "id": "bound-generation",
   "metadata": {},
   "outputs": [
    {
     "name": "stdout",
     "output_type": "stream",
     "text": [
      "[2000.28, 3050.427, 2050.2870000000003, 1980.2772, 7501.05, 2050.2870000000003, 2050.2870000000003, 1980.2772, 15452.163, 15052.107, 15552.177, 14902.086000000001]\n"
     ]
    }
   ],
   "source": [
    "#193번문제 \n",
    "\n",
    "result = []\n",
    "\n",
    "for i in data:\n",
    "    for j in i:\n",
    "        result.append(j*1.00014)\n",
    "        \n",
    "print(result)"
   ]
  },
  {
   "cell_type": "code",
   "execution_count": 44,
   "id": "delayed-blanket",
   "metadata": {},
   "outputs": [],
   "source": [
    "#194번문제 \n",
    "a = []\n",
    "\n",
    "for i in data:\n",
    "    s = []\n",
    "    for j in i:\n",
    "        s.append(j*1.00014)\n",
    "    a.append(s)    "
   ]
  },
  {
   "cell_type": "code",
   "execution_count": 45,
   "id": "neural-flush",
   "metadata": {},
   "outputs": [
    {
     "name": "stdout",
     "output_type": "stream",
     "text": [
      "[[2000.28, 3050.427, 2050.2870000000003, 1980.2772], [7501.05, 2050.2870000000003, 2050.2870000000003, 1980.2772], [15452.163, 15052.107, 15552.177, 14902.086000000001]]\n"
     ]
    }
   ],
   "source": [
    "print(a)"
   ]
  },
  {
   "cell_type": "code",
   "execution_count": 46,
   "id": "educated-president",
   "metadata": {},
   "outputs": [],
   "source": [
    "#195번 문제 종가데이터를 출력하라 \n",
    "ohlc = [[\"open\", \"high\", \"low\", \"close\"],\n",
    "        [100, 110, 70, 100],\n",
    "        [200, 210, 180, 190],\n",
    "        [300, 310, 300, 310]]"
   ]
  },
  {
   "cell_type": "code",
   "execution_count": 47,
   "id": "boolean-mistake",
   "metadata": {},
   "outputs": [
    {
     "name": "stdout",
     "output_type": "stream",
     "text": [
      "100\n",
      "190\n",
      "310\n"
     ]
    }
   ],
   "source": [
    "for i in range(1,4):\n",
    "    print(ohlc[i][3])\n",
    "    "
   ]
  },
  {
   "cell_type": "code",
   "execution_count": 48,
   "id": "rolled-essence",
   "metadata": {},
   "outputs": [
    {
     "name": "stdout",
     "output_type": "stream",
     "text": [
      "100\n",
      "190\n",
      "310\n"
     ]
    }
   ],
   "source": [
    "for i in ohlc[1:]:\n",
    "    print(i[3])"
   ]
  },
  {
   "cell_type": "code",
   "execution_count": 49,
   "id": "express-asset",
   "metadata": {},
   "outputs": [
    {
     "name": "stdout",
     "output_type": "stream",
     "text": [
      "190\n",
      "310\n"
     ]
    }
   ],
   "source": [
    "#196번 문제 \n",
    "\n",
    "for i in ohlc[1:]:\n",
    "    if i[3] > 150:\n",
    "        print(i[3])"
   ]
  },
  {
   "cell_type": "code",
   "execution_count": 51,
   "id": "partial-iraqi",
   "metadata": {},
   "outputs": [
    {
     "name": "stdout",
     "output_type": "stream",
     "text": [
      "100\n",
      "310\n"
     ]
    }
   ],
   "source": [
    "#197번 문제 \n",
    "\n",
    "for i in ohlc[1:]:\n",
    "    if i[3] >= i[0]:\n",
    "        print(i[3])"
   ]
  },
  {
   "cell_type": "code",
   "execution_count": 52,
   "id": "invalid-blind",
   "metadata": {},
   "outputs": [
    {
     "name": "stdout",
     "output_type": "stream",
     "text": [
      "[40, 30, 10]\n"
     ]
    }
   ],
   "source": [
    "#198번 문제 \n",
    "\n",
    "volatility = []\n",
    "for i in ohlc[1:]:\n",
    "    volatility.append(i[1] -i[2])\n",
    "print(volatility)"
   ]
  },
  {
   "cell_type": "code",
   "execution_count": 58,
   "id": "proof-stanley",
   "metadata": {},
   "outputs": [
    {
     "name": "stdout",
     "output_type": "stream",
     "text": [
      "10\n"
     ]
    }
   ],
   "source": [
    "#199번 문제 \n",
    "\n",
    "for i in ohlc[1:]:\n",
    "    if i[3] > i[0]:\n",
    "        print(i[1]-i[2])"
   ]
  },
  {
   "cell_type": "code",
   "execution_count": 69,
   "id": "floppy-transcription",
   "metadata": {},
   "outputs": [
    {
     "name": "stdout",
     "output_type": "stream",
     "text": [
      "0\n"
     ]
    }
   ],
   "source": [
    "#200번 문제 \n",
    "result = 0\n",
    "for i in ohlc[1:]:\n",
    "    \n",
    "    a = i[0] -i[3]\n",
    "    result += a\n",
    "print(result) \n"
   ]
  },
  {
   "cell_type": "markdown",
   "id": "herbal-there",
   "metadata": {},
   "source": [
    "## TIL\n",
    "\n",
    "* 194번 문제: 2차원리스트는 처음 for문에 변수 지정하고 안에도 하나 더 지정하면 됩니다. \n",
    "* 195번 문제: list에서도 요소를 쪼개서 사용가능하다. `for i in ohlc[1:]:\n",
    "* 200번 문제: result를 전역변수로 놓는 것과 지역변수로 놓는 것의 차이 ///안에 루프를 다 돌고 결과를 밖에 수익금을 더해주기때문에 이렇게 해야합니다. "
   ]
  },
  {
   "cell_type": "code",
   "execution_count": null,
   "id": "flush-purpose",
   "metadata": {},
   "outputs": [],
   "source": []
  }
 ],
 "metadata": {
  "kernelspec": {
   "display_name": "aiffel",
   "language": "python",
   "name": "aiffel"
  },
  "language_info": {
   "codemirror_mode": {
    "name": "ipython",
    "version": 3
   },
   "file_extension": ".py",
   "mimetype": "text/x-python",
   "name": "python",
   "nbconvert_exporter": "python",
   "pygments_lexer": "ipython3",
   "version": "3.7.9"
  }
 },
 "nbformat": 4,
 "nbformat_minor": 5
}
