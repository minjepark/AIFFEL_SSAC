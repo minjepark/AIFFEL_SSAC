{
 "cells": [
  {
   "cell_type": "code",
   "execution_count": 1,
   "id": "metallic-spray",
   "metadata": {},
   "outputs": [
    {
     "name": "stdout",
     "output_type": "stream",
     "text": [
      "안녕\n",
      "HI\n"
     ]
    }
   ],
   "source": [
    "# 211번 문제 \n",
    "\n",
    "def 함수 (문자열):\n",
    "    print(문자열)\n",
    "\n",
    "함수('안녕')\n",
    "함수('HI')\n",
    "\n",
    "#안녕, HI가 순서대로 출력됩니다. "
   ]
  },
  {
   "cell_type": "code",
   "execution_count": 3,
   "id": "opposed-karma",
   "metadata": {},
   "outputs": [
    {
     "name": "stdout",
     "output_type": "stream",
     "text": [
      "7\n",
      "15\n"
     ]
    }
   ],
   "source": [
    "#212번 문제 \n",
    "\n",
    "def 함수 (a,b):\n",
    "    print(a+b)\n",
    "\n",
    "함수(3,4)\n",
    "함수(7,8)\n",
    "#결과는 7,15가 순서대로 나옵니다. "
   ]
  },
  {
   "cell_type": "code",
   "execution_count": 7,
   "id": "universal-webster",
   "metadata": {},
   "outputs": [
    {
     "name": "stdout",
     "output_type": "stream",
     "text": [
      "<function 함수 at 0x7f7cd05a8320>\n"
     ]
    }
   ],
   "source": [
    "#213번 문제 \n",
    "\n",
    "def 함수(문자열):\n",
    "    print(문자열)\n",
    "함수(함수)\n",
    "\n",
    "# 이유는 지금 함수(문자열) 함수는 인자를 받는 함수인데 호출할 때 인자를 빼 먹고 불러서 그렇습니다! "
   ]
  },
  {
   "cell_type": "code",
   "execution_count": 8,
   "id": "experimental-shopping",
   "metadata": {},
   "outputs": [
    {
     "ename": "TypeError",
     "evalue": "can only concatenate str (not \"int\") to str",
     "output_type": "error",
     "traceback": [
      "\u001b[0;31m---------------------------------------------------------------------------\u001b[0m",
      "\u001b[0;31mTypeError\u001b[0m                                 Traceback (most recent call last)",
      "\u001b[0;32m<ipython-input-8-c9991a0fc256>\u001b[0m in \u001b[0;36m<module>\u001b[0;34m\u001b[0m\n\u001b[1;32m      4\u001b[0m     \u001b[0mprint\u001b[0m\u001b[0;34m(\u001b[0m\u001b[0ma\u001b[0m\u001b[0;34m+\u001b[0m\u001b[0mb\u001b[0m\u001b[0;34m)\u001b[0m\u001b[0;34m\u001b[0m\u001b[0;34m\u001b[0m\u001b[0m\n\u001b[1;32m      5\u001b[0m \u001b[0;34m\u001b[0m\u001b[0m\n\u001b[0;32m----> 6\u001b[0;31m \u001b[0m함수\u001b[0m\u001b[0;34m(\u001b[0m\u001b[0;34m'안녕'\u001b[0m\u001b[0;34m,\u001b[0m\u001b[0;36m3\u001b[0m\u001b[0;34m)\u001b[0m\u001b[0;34m\u001b[0m\u001b[0;34m\u001b[0m\u001b[0m\n\u001b[0m\u001b[1;32m      7\u001b[0m \u001b[0;34m\u001b[0m\u001b[0m\n\u001b[1;32m      8\u001b[0m \u001b[0;31m#에러가 나는 이유는.... int, str은 더하기 연산이 불가하기 때문입니다.\u001b[0m\u001b[0;34m\u001b[0m\u001b[0;34m\u001b[0m\u001b[0;34m\u001b[0m\u001b[0m\n",
      "\u001b[0;32m<ipython-input-8-c9991a0fc256>\u001b[0m in \u001b[0;36m함수\u001b[0;34m(a, b)\u001b[0m\n\u001b[1;32m      2\u001b[0m \u001b[0;34m\u001b[0m\u001b[0m\n\u001b[1;32m      3\u001b[0m \u001b[0;32mdef\u001b[0m \u001b[0m함수\u001b[0m\u001b[0;34m(\u001b[0m\u001b[0ma\u001b[0m\u001b[0;34m,\u001b[0m\u001b[0mb\u001b[0m\u001b[0;34m)\u001b[0m\u001b[0;34m:\u001b[0m\u001b[0;34m\u001b[0m\u001b[0;34m\u001b[0m\u001b[0m\n\u001b[0;32m----> 4\u001b[0;31m     \u001b[0mprint\u001b[0m\u001b[0;34m(\u001b[0m\u001b[0ma\u001b[0m\u001b[0;34m+\u001b[0m\u001b[0mb\u001b[0m\u001b[0;34m)\u001b[0m\u001b[0;34m\u001b[0m\u001b[0;34m\u001b[0m\u001b[0m\n\u001b[0m\u001b[1;32m      5\u001b[0m \u001b[0;34m\u001b[0m\u001b[0m\n\u001b[1;32m      6\u001b[0m \u001b[0m함수\u001b[0m\u001b[0;34m(\u001b[0m\u001b[0;34m'안녕'\u001b[0m\u001b[0;34m,\u001b[0m\u001b[0;36m3\u001b[0m\u001b[0;34m)\u001b[0m\u001b[0;34m\u001b[0m\u001b[0;34m\u001b[0m\u001b[0m\n",
      "\u001b[0;31mTypeError\u001b[0m: can only concatenate str (not \"int\") to str"
     ]
    }
   ],
   "source": [
    "#214번 문제 \n",
    "\n",
    "def 함수(a,b):\n",
    "    print(a+b)\n",
    "\n",
    "함수('안녕',3)\n",
    "\n",
    "#에러가 나는 이유는.... int, str은 더하기 연산이 불가하기 때문입니다. "
   ]
  },
  {
   "cell_type": "code",
   "execution_count": 9,
   "id": "turned-maximum",
   "metadata": {},
   "outputs": [
    {
     "name": "stdout",
     "output_type": "stream",
     "text": [
      "안녕하세요:D\n"
     ]
    }
   ],
   "source": [
    "# 215번 문제\n",
    "\n",
    "def print_with_smile(문자열):\n",
    "    print(문자열 + ':D')\n",
    "\n",
    "    "
   ]
  },
  {
   "cell_type": "code",
   "execution_count": 10,
   "id": "frequent-proxy",
   "metadata": {},
   "outputs": [
    {
     "name": "stdout",
     "output_type": "stream",
     "text": [
      "안녕하세요:D\n"
     ]
    }
   ],
   "source": [
    "#216번 문제 \n",
    "print_with_smile('안녕하세요')"
   ]
  },
  {
   "cell_type": "code",
   "execution_count": 13,
   "id": "dying-characterization",
   "metadata": {},
   "outputs": [],
   "source": [
    "#217번 문제 \n",
    "\n",
    "def print_upper_price(price):\n",
    "    print(price *1.3)"
   ]
  },
  {
   "cell_type": "code",
   "execution_count": 14,
   "id": "engaging-silver",
   "metadata": {},
   "outputs": [
    {
     "name": "stdout",
     "output_type": "stream",
     "text": [
      "130.0\n"
     ]
    }
   ],
   "source": [
    "print_upper_price(100)"
   ]
  },
  {
   "cell_type": "code",
   "execution_count": 15,
   "id": "specified-cheese",
   "metadata": {},
   "outputs": [
    {
     "name": "stdout",
     "output_type": "stream",
     "text": [
      "8\n"
     ]
    }
   ],
   "source": [
    "#218번 문제 두 개의 숫자를 입력받아 두 수의 합을 출력하는 print_sum 함수를 정의하라.\n",
    "\n",
    "def print_sum (a,b):\n",
    "    print(a+b)\n",
    "print_sum(3,5)"
   ]
  },
  {
   "cell_type": "code",
   "execution_count": 21,
   "id": "collected-repository",
   "metadata": {},
   "outputs": [
    {
     "name": "stdout",
     "output_type": "stream",
     "text": [
      "3+4 = 7\n",
      "3-4 = -1\n",
      "3*4 = 12\n",
      "3/4 = 0.75\n"
     ]
    }
   ],
   "source": [
    "#219번 문제 두 개의 숫자를 입력받아 합/차/곱/나눗셈을 출력하는 print_arithmetic_operation 함수를 작성하라.\n",
    "\n",
    "def print_arithmetic_operation(a,b):\n",
    "    print(f'{a}+{b} = {a+b}')\n",
    "    print(f'{a}-{b} = {a-b}')\n",
    "    print(f'{a}*{b} = {a*b}')\n",
    "    print(f'{a}/{b} = {a/b}')\n",
    "print_arithmetic_operation(3,4)"
   ]
  },
  {
   "cell_type": "code",
   "execution_count": 23,
   "id": "clear-absence",
   "metadata": {},
   "outputs": [
    {
     "name": "stdout",
     "output_type": "stream",
     "text": [
      "3\n"
     ]
    }
   ],
   "source": [
    "#220번 문제 세 개의 숫자를 입력받아 가장 큰수를 출력하는 print_max 함수를 정의하라. 단 if 문을 사용해서 수를 비교하라.\n",
    "\n",
    "def print_max (a,b,c):\n",
    "    if a > b and a>c:\n",
    "        print(a)\n",
    "    elif b>a and b>c:\n",
    "        print(b)\n",
    "    else:\n",
    "        print(c)\n",
    "print_max(2,1,3)"
   ]
  },
  {
   "cell_type": "markdown",
   "id": "essential-tampa",
   "metadata": {},
   "source": [
    "# TIL \n",
    "\n",
    "* 함수의 괄호에 인자를 넣어서 출력합니다! \n",
    "\n",
    "* 213번 문제: 함수(함수)이렇게 넣었더니 에러가 아닌 m\n",
    "    ![image](https://user-images.githubusercontent.com/68840414/108942371-37509080-769a-11eb-8ee3-a27c596c275c.png)\n",
    "이렇게 아스키코드..? 이런게 나오는데 이건 왜 이러는 걸까요? \n",
    "\n",
    "* 219번 문제: 나누기에서 //는 몫을 나타내고. /은 나눈 값을 나타내며, %는 나머지를 뜻합니다. \n",
    "    "
   ]
  },
  {
   "cell_type": "code",
   "execution_count": null,
   "id": "cooperative-senegal",
   "metadata": {},
   "outputs": [],
   "source": []
  }
 ],
 "metadata": {
  "kernelspec": {
   "display_name": "aiffel",
   "language": "python",
   "name": "aiffel"
  },
  "language_info": {
   "codemirror_mode": {
    "name": "ipython",
    "version": 3
   },
   "file_extension": ".py",
   "mimetype": "text/x-python",
   "name": "python",
   "nbconvert_exporter": "python",
   "pygments_lexer": "ipython3",
   "version": "3.7.9"
  }
 },
 "nbformat": 4,
 "nbformat_minor": 5
}
