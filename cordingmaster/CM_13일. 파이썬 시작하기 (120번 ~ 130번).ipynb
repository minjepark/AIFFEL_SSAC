{
 "cells": [
  {
   "cell_type": "code",
   "execution_count": 8,
   "metadata": {},
   "outputs": [
    {
     "name": "stdout",
     "output_type": "stream",
     "text": [
      "a\n",
      "A\n"
     ]
    }
   ],
   "source": [
    "a = input('')\n",
    "\n",
    "if a.islower():\n",
    "    print(a.upper())\n",
    "else:\n",
    "    print(a.lower())"
   ]
  },
  {
   "cell_type": "code",
   "execution_count": 11,
   "metadata": {},
   "outputs": [
    {
     "name": "stdout",
     "output_type": "stream",
     "text": [
      "21\n",
      "grade is D\n"
     ]
    }
   ],
   "source": [
    "score = int(input())\n",
    "\n",
    "if score > 80:\n",
    "    print('grade is A')\n",
    "elif score > 60:\n",
    "    print('grade is B')\n",
    "elif score > 40:\n",
    "    print('grade is C')\n",
    "elif score > 20:\n",
    "    print('grade is D')\n",
    "else:\n",
    "    print('grade is E')"
   ]
  },
  {
   "cell_type": "code",
   "execution_count": 17,
   "metadata": {},
   "outputs": [
    {
     "name": "stdout",
     "output_type": "stream",
     "text": [
      "입력:1위안\n",
      "171.0 원\n"
     ]
    }
   ],
   "source": [
    "money = input('입력:')\n",
    "\n",
    "if money[-2:] == '달러':\n",
    "    print(float(money[0:-2])*1167, '원')\n",
    "elif money[-1:] =='엔':\n",
    "    print(float(money[0:-1])*1.096, '원')\n",
    "elif money[-2:] =='유로':\n",
    "    print(float(money[0:-2])*1268, '원')\n",
    "else:\n",
    "    print(float(money[0:-2])*171, '원')"
   ]
  },
  {
   "cell_type": "code",
   "execution_count": 23,
   "metadata": {},
   "outputs": [
    {
     "name": "stdout",
     "output_type": "stream",
     "text": [
      "input number1:3\n",
      "input number2:2\n",
      "input number3:1\n",
      "3\n"
     ]
    }
   ],
   "source": [
    "num1 = int(input('input number1:'))\n",
    "num2 = int(input('input number2:'))\n",
    "num3 = int(input('input number3:'))\n",
    "            \n",
    "if num1>num2 and num1>num3:\n",
    "    print(num1)\n",
    "elif num2>num1 and num2>num3:\n",
    "    print(num2)\n",
    "elif num3>num1 and num3>num2:\n",
    "    print(num3)\n"
   ]
  },
  {
   "cell_type": "code",
   "execution_count": 28,
   "metadata": {},
   "outputs": [
    {
     "name": "stdout",
     "output_type": "stream",
     "text": [
      "휴대전화 번호 입력:011\n",
      "당신은 SKT 사용자입니다.\n"
     ]
    }
   ],
   "source": [
    "telecom = {'011':'SKT' ,'016':'KT','019':'LGU','010':'알수없음'}\n",
    "\n",
    "select = input('휴대전화 번호 입력:')\n",
    "\n",
    "a = select.split('-')[0]\n",
    "print('당신은', telecom[a],'사용자입니다.' )"
   ]
  },
  {
   "cell_type": "code",
   "execution_count": 33,
   "metadata": {},
   "outputs": [
    {
     "name": "stdout",
     "output_type": "stream",
     "text": [
      "우편번호:0324\n",
      "강북구\n"
     ]
    }
   ],
   "source": [
    "post = input('우편번호:')\n",
    "\n",
    "if post[2] == '0' or '1' or '2':\n",
    "    print('강북구')\n",
    "elif post[2]  == '3' or '4' or '5':\n",
    "    print('도봉구')\n",
    "elif post[2] == '6' or '7' or '8' or '9':\n",
    "    print('노원구')"
   ]
  },
  {
   "cell_type": "code",
   "execution_count": 35,
   "metadata": {},
   "outputs": [
    {
     "name": "stdout",
     "output_type": "stream",
     "text": [
      "주민번호를 입력해주세요:901027-2\n",
      "여자\n"
     ]
    }
   ],
   "source": [
    "a = input('주민번호를 입력해주세요:')\n",
    "if a[7] in [1,3]:\n",
    "    print('남자')\n",
    "else:\n",
    "    print('여자')"
   ]
  },
  {
   "cell_type": "code",
   "execution_count": 37,
   "metadata": {},
   "outputs": [
    {
     "name": "stdout",
     "output_type": "stream",
     "text": [
      "주민번호를 입력해주세요:901026-2637617\n",
      "서울이 아닙니다.\n"
     ]
    }
   ],
   "source": [
    "a = input('주민번호를 입력해주세요:')\n",
    "b = a.split('-')[1]\n",
    "\n",
    "if 0< int(b[1:3]) <= 8:\n",
    "    print('서울사람입니다.')\n",
    "else: \n",
    "    print('서울이 아닙니다.')"
   ]
  },
  {
   "cell_type": "code",
   "execution_count": null,
   "metadata": {},
   "outputs": [],
   "source": []
  },
  {
   "cell_type": "code",
   "execution_count": null,
   "metadata": {},
   "outputs": [],
   "source": []
  },
  {
   "cell_type": "code",
   "execution_count": null,
   "metadata": {},
   "outputs": [],
   "source": []
  },
  {
   "cell_type": "code",
   "execution_count": null,
   "metadata": {},
   "outputs": [],
   "source": []
  },
  {
   "cell_type": "code",
   "execution_count": null,
   "metadata": {},
   "outputs": [],
   "source": []
  },
  {
   "cell_type": "markdown",
   "metadata": {},
   "source": [
    "## TIL\n",
    "\n",
    "+ 121번 문제: `변수.islower()` bool결과값 나옴. True,False      \n",
    "+ 123번 문제: '환율을 딕셔너리로 만들어서 `num.currency`로 split을 함. float로 형 변환 후 딕셔너리에 환율[currency]로 value 값을 print 할 수있음.  \n",
    "\n",
    "+ 126번 문제: int형은 index가 안됨."
   ]
  }
 ],
 "metadata": {
  "kernelspec": {
   "display_name": "aiffel",
   "language": "python",
   "name": "aiffel"
  },
  "language_info": {
   "codemirror_mode": {
    "name": "ipython",
    "version": 3
   },
   "file_extension": ".py",
   "mimetype": "text/x-python",
   "name": "python",
   "nbconvert_exporter": "python",
   "pygments_lexer": "ipython3",
   "version": "3.7.9"
  }
 },
 "nbformat": 4,
 "nbformat_minor": 4
}
