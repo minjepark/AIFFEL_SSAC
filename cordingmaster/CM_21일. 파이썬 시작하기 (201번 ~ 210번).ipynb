{
 "cells": [
  {
   "cell_type": "code",
   "execution_count": 1,
   "id": "variable-break",
   "metadata": {},
   "outputs": [
    {
     "name": "stdout",
     "output_type": "stream",
     "text": [
      "비트코인\n"
     ]
    }
   ],
   "source": [
    "#201번 문제 \n",
    "\n",
    "def print_coin():\n",
    "    print('비트코인')\n",
    "print_coin()"
   ]
  },
  {
   "cell_type": "code",
   "execution_count": 2,
   "id": "historical-spider",
   "metadata": {},
   "outputs": [
    {
     "name": "stdout",
     "output_type": "stream",
     "text": [
      "비트코인\n"
     ]
    }
   ],
   "source": [
    "#202번문제 \n",
    "print_coin()"
   ]
  },
  {
   "cell_type": "code",
   "execution_count": 3,
   "id": "proprietary-light",
   "metadata": {},
   "outputs": [
    {
     "name": "stdout",
     "output_type": "stream",
     "text": [
      "비트코인\n",
      "비트코인\n",
      "비트코인\n",
      "비트코인\n",
      "비트코인\n",
      "비트코인\n",
      "비트코인\n",
      "비트코인\n",
      "비트코인\n",
      "비트코인\n",
      "비트코인\n",
      "비트코인\n",
      "비트코인\n",
      "비트코인\n",
      "비트코인\n",
      "비트코인\n",
      "비트코인\n",
      "비트코인\n",
      "비트코인\n",
      "비트코인\n",
      "비트코인\n",
      "비트코인\n",
      "비트코인\n",
      "비트코인\n",
      "비트코인\n",
      "비트코인\n",
      "비트코인\n",
      "비트코인\n",
      "비트코인\n",
      "비트코인\n",
      "비트코인\n",
      "비트코인\n",
      "비트코인\n",
      "비트코인\n",
      "비트코인\n",
      "비트코인\n",
      "비트코인\n",
      "비트코인\n",
      "비트코인\n",
      "비트코인\n",
      "비트코인\n",
      "비트코인\n",
      "비트코인\n",
      "비트코인\n",
      "비트코인\n",
      "비트코인\n",
      "비트코인\n",
      "비트코인\n",
      "비트코인\n",
      "비트코인\n",
      "비트코인\n",
      "비트코인\n",
      "비트코인\n",
      "비트코인\n",
      "비트코인\n",
      "비트코인\n",
      "비트코인\n",
      "비트코인\n",
      "비트코인\n",
      "비트코인\n",
      "비트코인\n",
      "비트코인\n",
      "비트코인\n",
      "비트코인\n",
      "비트코인\n",
      "비트코인\n",
      "비트코인\n",
      "비트코인\n",
      "비트코인\n",
      "비트코인\n",
      "비트코인\n",
      "비트코인\n",
      "비트코인\n",
      "비트코인\n",
      "비트코인\n",
      "비트코인\n",
      "비트코인\n",
      "비트코인\n",
      "비트코인\n",
      "비트코인\n",
      "비트코인\n",
      "비트코인\n",
      "비트코인\n",
      "비트코인\n",
      "비트코인\n",
      "비트코인\n",
      "비트코인\n",
      "비트코인\n",
      "비트코인\n",
      "비트코인\n",
      "비트코인\n",
      "비트코인\n",
      "비트코인\n",
      "비트코인\n",
      "비트코인\n",
      "비트코인\n",
      "비트코인\n",
      "비트코인\n",
      "비트코인\n",
      "비트코인\n"
     ]
    }
   ],
   "source": [
    "#203번문제 \n",
    "\n",
    "for i in range(100):\n",
    "    print_coin()"
   ]
  },
  {
   "cell_type": "code",
   "execution_count": 4,
   "id": "magnetic-mercy",
   "metadata": {},
   "outputs": [],
   "source": [
    "#204번문제 \n",
    "def print_coins():\n",
    "    for i in range(100):\n",
    "        print_coin()"
   ]
  },
  {
   "cell_type": "code",
   "execution_count": 5,
   "id": "worth-character",
   "metadata": {},
   "outputs": [
    {
     "name": "stdout",
     "output_type": "stream",
     "text": [
      "비트코인\n",
      "비트코인\n",
      "비트코인\n",
      "비트코인\n",
      "비트코인\n",
      "비트코인\n",
      "비트코인\n",
      "비트코인\n",
      "비트코인\n",
      "비트코인\n",
      "비트코인\n",
      "비트코인\n",
      "비트코인\n",
      "비트코인\n",
      "비트코인\n",
      "비트코인\n",
      "비트코인\n",
      "비트코인\n",
      "비트코인\n",
      "비트코인\n",
      "비트코인\n",
      "비트코인\n",
      "비트코인\n",
      "비트코인\n",
      "비트코인\n",
      "비트코인\n",
      "비트코인\n",
      "비트코인\n",
      "비트코인\n",
      "비트코인\n",
      "비트코인\n",
      "비트코인\n",
      "비트코인\n",
      "비트코인\n",
      "비트코인\n",
      "비트코인\n",
      "비트코인\n",
      "비트코인\n",
      "비트코인\n",
      "비트코인\n",
      "비트코인\n",
      "비트코인\n",
      "비트코인\n",
      "비트코인\n",
      "비트코인\n",
      "비트코인\n",
      "비트코인\n",
      "비트코인\n",
      "비트코인\n",
      "비트코인\n",
      "비트코인\n",
      "비트코인\n",
      "비트코인\n",
      "비트코인\n",
      "비트코인\n",
      "비트코인\n",
      "비트코인\n",
      "비트코인\n",
      "비트코인\n",
      "비트코인\n",
      "비트코인\n",
      "비트코인\n",
      "비트코인\n",
      "비트코인\n",
      "비트코인\n",
      "비트코인\n",
      "비트코인\n",
      "비트코인\n",
      "비트코인\n",
      "비트코인\n",
      "비트코인\n",
      "비트코인\n",
      "비트코인\n",
      "비트코인\n",
      "비트코인\n",
      "비트코인\n",
      "비트코인\n",
      "비트코인\n",
      "비트코인\n",
      "비트코인\n",
      "비트코인\n",
      "비트코인\n",
      "비트코인\n",
      "비트코인\n",
      "비트코인\n",
      "비트코인\n",
      "비트코인\n",
      "비트코인\n",
      "비트코인\n",
      "비트코인\n",
      "비트코인\n",
      "비트코인\n",
      "비트코인\n",
      "비트코인\n",
      "비트코인\n",
      "비트코인\n",
      "비트코인\n",
      "비트코인\n",
      "비트코인\n",
      "비트코인\n"
     ]
    }
   ],
   "source": [
    "print_coins()"
   ]
  },
  {
   "cell_type": "code",
   "execution_count": 7,
   "id": "joined-lawyer",
   "metadata": {},
   "outputs": [
    {
     "ename": "NameError",
     "evalue": "name 'hello' is not defined",
     "output_type": "error",
     "traceback": [
      "\u001b[0;31m---------------------------------------------------------------------------\u001b[0m",
      "\u001b[0;31mNameError\u001b[0m                                 Traceback (most recent call last)",
      "\u001b[0;32m<ipython-input-7-244c2d2f1238>\u001b[0m in \u001b[0;36m<module>\u001b[0;34m\u001b[0m\n\u001b[1;32m      1\u001b[0m \u001b[0;31m#205번 문제\u001b[0m\u001b[0;34m\u001b[0m\u001b[0;34m\u001b[0m\u001b[0;34m\u001b[0m\u001b[0m\n\u001b[0;32m----> 2\u001b[0;31m \u001b[0mhello\u001b[0m\u001b[0;34m(\u001b[0m\u001b[0;34m)\u001b[0m\u001b[0;34m\u001b[0m\u001b[0;34m\u001b[0m\u001b[0m\n\u001b[0m\u001b[1;32m      3\u001b[0m \u001b[0;32mdef\u001b[0m \u001b[0mhello\u001b[0m\u001b[0;34m(\u001b[0m\u001b[0;34m)\u001b[0m\u001b[0;34m:\u001b[0m\u001b[0;34m\u001b[0m\u001b[0;34m\u001b[0m\u001b[0m\n\u001b[1;32m      4\u001b[0m     \u001b[0mprint\u001b[0m\u001b[0;34m(\u001b[0m\u001b[0;34m'hi'\u001b[0m\u001b[0;34m)\u001b[0m\u001b[0;34m\u001b[0m\u001b[0;34m\u001b[0m\u001b[0m\n\u001b[1;32m      5\u001b[0m \u001b[0;34m\u001b[0m\u001b[0m\n",
      "\u001b[0;31mNameError\u001b[0m: name 'hello' is not defined"
     ]
    }
   ],
   "source": [
    "#205번 문제 \n",
    "hello()\n",
    "def hello():\n",
    "    print('hi')\n",
    "\n",
    "# 오류가 나는 이유는... hello() 아무것도 지정되어 있지 않기 때문입니다. \n",
    "# 정답지에서는 함수가 지정되기 전에 호출되어서라고 합니다. "
   ]
  },
  {
   "cell_type": "code",
   "execution_count": 8,
   "id": "retained-refund",
   "metadata": {},
   "outputs": [
    {
     "name": "stdout",
     "output_type": "stream",
     "text": [
      "A\n",
      "B\n",
      "C\n",
      "A\n",
      "B\n"
     ]
    }
   ],
   "source": [
    "#206번 문제 \n",
    "def message():\n",
    "    print('A')\n",
    "    print('B')\n",
    "    \n",
    "message()\n",
    "print('C')\n",
    "message()\n",
    "\n",
    "#예상결과는 a,b,c,a,b 한 줄씩 출력됩니다. "
   ]
  },
  {
   "cell_type": "code",
   "execution_count": 9,
   "id": "labeled-thompson",
   "metadata": {},
   "outputs": [
    {
     "name": "stdout",
     "output_type": "stream",
     "text": [
      "A\n",
      "C\n",
      "B\n"
     ]
    }
   ],
   "source": [
    "#207번 문제\n",
    "\n",
    "print('A')\n",
    "def message():\n",
    "    print('B')\n",
    "print('C')\n",
    "message()\n",
    "\n",
    "#결과는 A,C,B가 순서대로 출력됩니다. "
   ]
  },
  {
   "cell_type": "code",
   "execution_count": 10,
   "id": "miniature-median",
   "metadata": {},
   "outputs": [
    {
     "name": "stdout",
     "output_type": "stream",
     "text": [
      "A\n",
      "C\n",
      "B\n",
      "E\n",
      "D\n"
     ]
    }
   ],
   "source": [
    "#208번 문제\n",
    "\n",
    "print('A')\n",
    "\n",
    "def message1():\n",
    "    print('B')\n",
    "print('C')\n",
    "\n",
    "def message2():\n",
    "    print('D')\n",
    "message1()\n",
    "print('E')\n",
    "message2()\n",
    "#결과는 A,C,B,E,D 순서대로 출력됩니다. "
   ]
  },
  {
   "cell_type": "code",
   "execution_count": 11,
   "id": "sudden-traffic",
   "metadata": {},
   "outputs": [
    {
     "name": "stdout",
     "output_type": "stream",
     "text": [
      "B\n",
      "A\n"
     ]
    }
   ],
   "source": [
    "#209번 문제 \n",
    "def message1():\n",
    "    print('A')\n",
    "def message2():\n",
    "    print('B')\n",
    "    message1()\n",
    "message2()\n",
    "\n",
    "#결과는 B,A가 순서대로 나옵니다. "
   ]
  },
  {
   "cell_type": "code",
   "execution_count": 12,
   "id": "skilled-small",
   "metadata": {},
   "outputs": [
    {
     "name": "stdout",
     "output_type": "stream",
     "text": [
      "B\n",
      "C\n",
      "B\n",
      "C\n",
      "B\n",
      "C\n",
      "A\n"
     ]
    }
   ],
   "source": [
    "#210번 문제 \n",
    "\n",
    "def message1():\n",
    "    print('A')\n",
    "def message2():\n",
    "    print('B')\n",
    "def message3():\n",
    "    for i in range(3) :\n",
    "        message2()\n",
    "        print('C')\n",
    "    message1()\n",
    "message3()\n",
    "\n",
    "# B,C,B,C,B,C,A가 순서대로 출력됩니다. "
   ]
  },
  {
   "cell_type": "markdown",
   "id": "unlike-flower",
   "metadata": {},
   "source": [
    "# TIL\n",
    "\n",
    "* 204번 문제:  \n",
    "    def print_coins():\n",
    "        for i in range(100):\n",
    "            print(print_coin()) # 이렇게 print()안에 함수를 넣으면 왜 none값이 나오는 걸까요?\n",
    "            \n",
    "* 209번 문제:\n",
    "    함수 안에 함수가 들어갈 수 있습니다. \n"
   ]
  },
  {
   "cell_type": "code",
   "execution_count": null,
   "id": "emotional-enemy",
   "metadata": {},
   "outputs": [],
   "source": []
  }
 ],
 "metadata": {
  "kernelspec": {
   "display_name": "aiffel",
   "language": "python",
   "name": "aiffel"
  },
  "language_info": {
   "codemirror_mode": {
    "name": "ipython",
    "version": 3
   },
   "file_extension": ".py",
   "mimetype": "text/x-python",
   "name": "python",
   "nbconvert_exporter": "python",
   "pygments_lexer": "ipython3",
   "version": "3.7.9"
  }
 },
 "nbformat": 4,
 "nbformat_minor": 5
}
