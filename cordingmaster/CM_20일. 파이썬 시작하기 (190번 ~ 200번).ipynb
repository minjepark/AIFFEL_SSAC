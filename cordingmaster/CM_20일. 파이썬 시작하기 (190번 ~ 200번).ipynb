{
 "cells": [
  {
   "cell_type": "code",
   "execution_count": null,
   "id": "digital-expert",
   "metadata": {},
   "outputs": [],
   "source": [
    "#191번 \n",
    "data = [ [2000, 3050,2050,1980],\n",
    "        [7500,2050,2050,1980],\n",
    "        [15450,15050,15550,14900]]\n",
    "\n"
   ]
  }
 ],
 "metadata": {
  "kernelspec": {
   "display_name": "aiffel",
   "language": "python",
   "name": "aiffel"
  },
  "language_info": {
   "codemirror_mode": {
    "name": "ipython",
    "version": 3
   },
   "file_extension": ".py",
   "mimetype": "text/x-python",
   "name": "python",
   "nbconvert_exporter": "python",
   "pygments_lexer": "ipython3",
   "version": "3.7.9"
  }
 },
 "nbformat": 4,
 "nbformat_minor": 5
}
