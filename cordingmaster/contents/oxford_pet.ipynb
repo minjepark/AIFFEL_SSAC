{
 "cells": [
  {
   "cell_type": "code",
   "execution_count": 12,
   "id": "proud-illness",
   "metadata": {},
   "outputs": [],
   "source": [
    "import os\n",
    "import re\n",
    "from glob import glob\n",
    "import tensorflow as tf\n",
    "from tensorflow import keras\n",
    "import tensorflow.experimental.numpy as np #연산이 기존 넘파이에 비해 빠르다고 합니다. \n",
    "from PIL import Image\n",
    "import matplotlib.pyplot as plt"
   ]
  },
  {
   "cell_type": "code",
   "execution_count": 11,
   "id": "interesting-album",
   "metadata": {
    "scrolled": false
   },
   "outputs": [
    {
     "name": "stdout",
     "output_type": "stream",
     "text": [
      "Requirement already satisfied: pillow in /home/ssac11/anaconda3/envs/coding/lib/python3.7/site-packages (8.1.2)\n",
      "Collecting matplotlib\n",
      "  Downloading matplotlib-3.3.4-cp37-cp37m-manylinux1_x86_64.whl (11.5 MB)\n",
      "\u001b[K     |████████████████████████████████| 11.5 MB 1.1 MB/s eta 0:00:01\n",
      "\u001b[?25hCollecting kiwisolver>=1.0.1\n",
      "  Downloading kiwisolver-1.3.1-cp37-cp37m-manylinux1_x86_64.whl (1.1 MB)\n",
      "\u001b[K     |████████████████████████████████| 1.1 MB 19.5 MB/s eta 0:00:01\n",
      "\u001b[?25hRequirement already satisfied: numpy>=1.15 in /home/ssac11/anaconda3/envs/coding/lib/python3.7/site-packages (from matplotlib) (1.19.5)\n",
      "Requirement already satisfied: pyparsing!=2.0.4,!=2.1.2,!=2.1.6,>=2.0.3 in /home/ssac11/anaconda3/envs/coding/lib/python3.7/site-packages (from matplotlib) (2.4.7)\n",
      "Requirement already satisfied: pillow>=6.2.0 in /home/ssac11/anaconda3/envs/coding/lib/python3.7/site-packages (from matplotlib) (8.1.2)\n",
      "Requirement already satisfied: python-dateutil>=2.1 in /home/ssac11/anaconda3/envs/coding/lib/python3.7/site-packages (from matplotlib) (2.8.1)\n",
      "Collecting cycler>=0.10\n",
      "  Downloading cycler-0.10.0-py2.py3-none-any.whl (6.5 kB)\n",
      "Requirement already satisfied: six in /home/ssac11/anaconda3/envs/coding/lib/python3.7/site-packages (from cycler>=0.10->matplotlib) (1.15.0)\n",
      "Installing collected packages: kiwisolver, cycler, matplotlib\n",
      "Successfully installed cycler-0.10.0 kiwisolver-1.3.1 matplotlib-3.3.4\n"
     ]
    }
   ],
   "source": [
    "!pip install pillow\n",
    "!pip install matplotlib"
   ]
  },
  {
   "cell_type": "code",
   "execution_count": 13,
   "id": "modular-novelty",
   "metadata": {},
   "outputs": [
    {
     "data": {
      "text/plain": [
       "'images/*'"
      ]
     },
     "execution_count": 13,
     "metadata": {},
     "output_type": "execute_result"
    }
   ],
   "source": [
    "#데이터 로드 \n",
    "data_path = os.path.join('images','*')\n",
    "data_path\n",
    "\n",
    "data_list = glob(data_path)#데이터 리스트\n",
    "len(data_list)"
   ]
  },
  {
   "cell_type": "code",
   "execution_count": 15,
   "id": "higher-roberts",
   "metadata": {},
   "outputs": [
    {
     "data": {
      "text/plain": [
       "'/home/ssac11/coding/contents'"
      ]
     },
     "execution_count": 15,
     "metadata": {},
     "output_type": "execute_result"
    }
   ],
   "source": [
    "os.getcwd() #현재 경로확인\n"
   ]
  },
  {
   "cell_type": "code",
   "execution_count": 19,
   "id": "close-import",
   "metadata": {},
   "outputs": [],
   "source": [
    "#데이터 확장자 확인\n",
    "file_extension = []\n",
    "for data in data_list:\n",
    "    basename = os.path.basename(data)\n",
    "    _,file=basename.split('.')\n",
    "    \n",
    "    if file in file_extension:\n",
    "        continue\n",
    "    else: \n",
    "        file_extension.append(file)"
   ]
  },
  {
   "cell_type": "code",
   "execution_count": 21,
   "id": "resident-rating",
   "metadata": {},
   "outputs": [
    {
     "ename": "AttributeError",
     "evalue": "'str' object has no attribute 'extension'",
     "output_type": "error",
     "traceback": [
      "\u001b[0;31m---------------------------------------------------------------------------\u001b[0m",
      "\u001b[0;31mAttributeError\u001b[0m                            Traceback (most recent call last)",
      "\u001b[0;32m<ipython-input-21-97217e475d4b>\u001b[0m in \u001b[0;36m<module>\u001b[0;34m\u001b[0m\n\u001b[0;32m----> 1\u001b[0;31m \u001b[0mfile\u001b[0m\u001b[0;34m.\u001b[0m\u001b[0mextension\u001b[0m\u001b[0;34m\u001b[0m\u001b[0;34m\u001b[0m\u001b[0m\n\u001b[0m",
      "\u001b[0;31mAttributeError\u001b[0m: 'str' object has no attribute 'extension'"
     ]
    }
   ],
   "source": [
    "file.extension"
   ]
  },
  {
   "cell_type": "code",
   "execution_count": 22,
   "id": "medium-supervision",
   "metadata": {},
   "outputs": [],
   "source": [
    "for i, data in  enumerate(data_list):\n",
    "    basename = os.path.basename(data)\n",
    "    _,file = basename.split('.')\n",
    "    \n",
    "    if file =='mat':\n",
    "        del data_list[i]"
   ]
  },
  {
   "cell_type": "code",
   "execution_count": 23,
   "id": "specialized-celtic",
   "metadata": {},
   "outputs": [
    {
     "data": {
      "text/plain": [
       "7390"
      ]
     },
     "execution_count": 23,
     "metadata": {},
     "output_type": "execute_result"
    }
   ],
   "source": [
    "len(data_list)"
   ]
  },
  {
   "cell_type": "code",
   "execution_count": 26,
   "id": "honey-general",
   "metadata": {},
   "outputs": [],
   "source": [
    "# chanel 수 확인\n",
    "# 3채널이 있을 수 있고 흑백1채널, 4채널도 있음\n",
    "#방법 1: 4채널을 3채널로 바꾸거나 \n",
    "#방법 2: 4채널을 지우거나 \n",
    "for i, data in enumerate(data_list):\n",
    "    image_data = Image.open(data)\n",
    "    mode = image_data.mode#mode는 이미지 채널의 형태를 볼 수 있습니다.  \n",
    "    \n",
    "    if mode !='RGB':\n",
    "        del data_list[i]"
   ]
  },
  {
   "cell_type": "code",
   "execution_count": 27,
   "id": "orange-quilt",
   "metadata": {},
   "outputs": [
    {
     "data": {
      "text/plain": [
       "7379"
      ]
     },
     "execution_count": 27,
     "metadata": {},
     "output_type": "execute_result"
    }
   ],
   "source": [
    "len(data_list)# 12개 줄었음\n"
   ]
  },
  {
   "cell_type": "code",
   "execution_count": 28,
   "id": "intensive-medication",
   "metadata": {},
   "outputs": [
    {
     "data": {
      "text/plain": [
       "['images/pug_160.jpg',\n",
       " 'images/Persian_201.jpg',\n",
       " 'images/Birman_185.jpg',\n",
       " 'images/pug_139.jpg',\n",
       " 'images/miniature_pinscher_37.jpg',\n",
       " 'images/Abyssinian_43.jpg',\n",
       " 'images/Abyssinian_106.jpg',\n",
       " 'images/Ragdoll_104.jpg',\n",
       " 'images/basset_hound_33.jpg',\n",
       " 'images/great_pyrenees_187.jpg']"
      ]
     },
     "execution_count": 28,
     "metadata": {},
     "output_type": "execute_result"
    }
   ],
   "source": [
    "data_list[:10]"
   ]
  },
  {
   "cell_type": "code",
   "execution_count": 33,
   "id": "ecological-swing",
   "metadata": {},
   "outputs": [],
   "source": [
    "#클래스를 만들어줍니다. \n",
    "class_list = []\n",
    "for data in data_list:\n",
    "    basename = os.path.basename(data)\n",
    "    label = os.path.splitext(basename)[0]\n",
    "    \n",
    "    label = re.sub('_\\d+','',label)\n",
    "    \n",
    "#     if label in class_list:\n",
    "#         continue\n",
    "        \n",
    "#     else:\n",
    "#         class_list.append(label)\n",
    "# len(class_list)\n",
    "    class_list.append(label)"
   ]
  },
  {
   "cell_type": "code",
   "execution_count": 34,
   "id": "senior-rubber",
   "metadata": {},
   "outputs": [],
   "source": [
    "class_list = list(set(class_list))"
   ]
  },
  {
   "cell_type": "code",
   "execution_count": 35,
   "id": "virtual-current",
   "metadata": {},
   "outputs": [
    {
     "data": {
      "text/plain": [
       "37"
      ]
     },
     "execution_count": 35,
     "metadata": {},
     "output_type": "execute_result"
    }
   ],
   "source": [
    "len(class_list)"
   ]
  },
  {
   "cell_type": "code",
   "execution_count": 36,
   "id": "promotional-server",
   "metadata": {},
   "outputs": [],
   "source": [
    "class_to_index = {cls : i for i, cls in enumerate(class_list)}"
   ]
  },
  {
   "cell_type": "code",
   "execution_count": 37,
   "id": "genuine-islam",
   "metadata": {},
   "outputs": [
    {
     "data": {
      "text/plain": [
       "{'Bombay': 0,\n",
       " 'Sphynx': 1,\n",
       " 'Birman': 2,\n",
       " 'samoyed': 3,\n",
       " 'British_Shorthair': 4,\n",
       " 'Abyssinian': 5,\n",
       " 'great_pyrenees': 6,\n",
       " 'miniature_pinscher': 7,\n",
       " 'scottish_terrier': 8,\n",
       " 'staffordshire_bull_terrier': 9,\n",
       " 'beagle': 10,\n",
       " 'Persian': 11,\n",
       " 'chihuahua': 12,\n",
       " 'japanese_chin': 13,\n",
       " 'american_bulldog': 14,\n",
       " 'havanese': 15,\n",
       " 'german_shorthaired': 16,\n",
       " 'leonberger': 17,\n",
       " 'Ragdoll': 18,\n",
       " 'pomeranian': 19,\n",
       " 'wheaten_terrier': 20,\n",
       " 'basset_hound': 21,\n",
       " 'boxer': 22,\n",
       " 'shiba_inu': 23,\n",
       " 'american_pit_bull_terrier': 24,\n",
       " 'english_setter': 25,\n",
       " 'Russian_Blue': 26,\n",
       " 'pug': 27,\n",
       " 'Maine_Coon': 28,\n",
       " 'Bengal': 29,\n",
       " 'Egyptian_Mau': 30,\n",
       " 'Siamese': 31,\n",
       " 'yorkshire_terrier': 32,\n",
       " 'english_cocker_spaniel': 33,\n",
       " 'keeshond': 34,\n",
       " 'saint_bernard': 35,\n",
       " 'newfoundland': 36}"
      ]
     },
     "execution_count": 37,
     "metadata": {},
     "output_type": "execute_result"
    }
   ],
   "source": [
    "class_to_index"
   ]
  },
  {
   "cell_type": "code",
   "execution_count": null,
   "id": "first-customer",
   "metadata": {},
   "outputs": [],
   "source": []
  }
 ],
 "metadata": {
  "kernelspec": {
   "display_name": "coding",
   "language": "python",
   "name": "myvenv"
  },
  "language_info": {
   "codemirror_mode": {
    "name": "ipython",
    "version": 3
   },
   "file_extension": ".py",
   "mimetype": "text/x-python",
   "name": "python",
   "nbconvert_exporter": "python",
   "pygments_lexer": "ipython3",
   "version": "3.7.10"
  }
 },
 "nbformat": 4,
 "nbformat_minor": 5
}
