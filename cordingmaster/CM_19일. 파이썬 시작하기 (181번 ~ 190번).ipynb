{
 "cells": [
  {
   "cell_type": "code",
   "execution_count": 3,
   "id": "sufficient-signal",
   "metadata": {},
   "outputs": [],
   "source": [
    "#181번 \n",
    "apart = [['101호','102호'],['201호','202호'],['301호','302호']]"
   ]
  },
  {
   "cell_type": "code",
   "execution_count": 7,
   "id": "central-recruitment",
   "metadata": {},
   "outputs": [],
   "source": [
    "#182번\n",
    "stock  =[['시가',100,200,300],['종가',80,210,330]]"
   ]
  },
  {
   "cell_type": "code",
   "execution_count": 8,
   "id": "external-participant",
   "metadata": {},
   "outputs": [],
   "source": [
    "#183번\n",
    "stock = {'시가':[100,200,300],'종가':[80,210,330]}"
   ]
  },
  {
   "cell_type": "code",
   "execution_count": 11,
   "id": "immune-birth",
   "metadata": {},
   "outputs": [],
   "source": [
    "#184번 \n",
    "stock = {'10/10':[80,110,70,90],'10/11':[210,230,190,200]}"
   ]
  },
  {
   "cell_type": "code",
   "execution_count": 17,
   "id": "identical-dealing",
   "metadata": {},
   "outputs": [
    {
     "name": "stdout",
     "output_type": "stream",
     "text": [
      "101 호\n",
      "102 호\n",
      "201 호\n",
      "202 호\n",
      "301 호\n",
      "302 호\n"
     ]
    }
   ],
   "source": [
    "#185번\n",
    "print(apart[0][0].split('호')[0] + ' 호')\n",
    "print(apart[0][1].split('호')[0] + ' 호')\n",
    "print(apart[1][0].split('호')[0] + ' 호')\n",
    "print(apart[1][1].split('호')[0] + ' 호')\n",
    "print(apart[2][0].split('호')[0] + ' 호')\n",
    "print(apart[2][1].split('호')[0] + ' 호')"
   ]
  },
  {
   "cell_type": "code",
   "execution_count": 19,
   "id": "coupled-senator",
   "metadata": {},
   "outputs": [
    {
     "name": "stdout",
     "output_type": "stream",
     "text": [
      "101호\n",
      "102호\n",
      "201호\n",
      "202호\n",
      "301호\n",
      "302호\n"
     ]
    }
   ],
   "source": [
    "#185번 \n",
    "for i in apart:\n",
    "    for j in i:\n",
    "        print(j)"
   ]
  },
  {
   "cell_type": "code",
   "execution_count": 21,
   "id": "certain-middle",
   "metadata": {},
   "outputs": [
    {
     "name": "stdout",
     "output_type": "stream",
     "text": [
      "301 호\n",
      "302 호\n",
      "201 호\n",
      "202 호\n",
      "101 호\n",
      "102 호\n"
     ]
    }
   ],
   "source": [
    "#186번 \n",
    "apart = [ [101, 102], [201, 202], [301, 302] ]\n",
    "\n",
    "for i in apart[::-1]:\n",
    "    for j in i:\n",
    "        print(j,'호')\n",
    "    "
   ]
  },
  {
   "cell_type": "code",
   "execution_count": 24,
   "id": "characteristic-repeat",
   "metadata": {},
   "outputs": [
    {
     "name": "stdout",
     "output_type": "stream",
     "text": [
      "302 호\n",
      "301 호\n",
      "202 호\n",
      "201 호\n",
      "102 호\n",
      "101 호\n"
     ]
    }
   ],
   "source": [
    "#189번\n",
    "for i in apart[::-1]:\n",
    "    for j in i[::-1]:\n",
    "        print(j,'호')"
   ]
  },
  {
   "cell_type": "code",
   "execution_count": 23,
   "id": "musical-deviation",
   "metadata": {},
   "outputs": [
    {
     "name": "stdout",
     "output_type": "stream",
     "text": [
      "101 호\n",
      "-----\n",
      "102 호\n",
      "-----\n",
      "201 호\n",
      "-----\n",
      "202 호\n",
      "-----\n",
      "301 호\n",
      "-----\n",
      "302 호\n",
      "-----\n"
     ]
    }
   ],
   "source": [
    "#188번\n",
    "for i in apart:\n",
    "    for j in i:\n",
    "        print(j,'호')\n",
    "        print('-----')\n",
    "        "
   ]
  },
  {
   "cell_type": "code",
   "execution_count": 26,
   "id": "august-eleven",
   "metadata": {},
   "outputs": [
    {
     "name": "stdout",
     "output_type": "stream",
     "text": [
      "101 호\n",
      "102 호\n",
      "-----\n",
      "201 호\n",
      "202 호\n",
      "-----\n",
      "301 호\n",
      "302 호\n",
      "-----\n"
     ]
    }
   ],
   "source": [
    "#189번\n",
    "for i in apart:\n",
    "    for j in i:\n",
    "        print(j,'호')\n",
    "    print('-'*5)\n",
    "        "
   ]
  },
  {
   "cell_type": "code",
   "execution_count": 27,
   "id": "separated-beast",
   "metadata": {},
   "outputs": [
    {
     "name": "stdout",
     "output_type": "stream",
     "text": [
      "101 호\n",
      "102 호\n",
      "201 호\n",
      "202 호\n",
      "301 호\n",
      "302 호\n",
      "-----\n"
     ]
    }
   ],
   "source": [
    "#190번 \n",
    "for i in apart:\n",
    "    for j in i:\n",
    "        print(j,'호')\n",
    "print('-'*5)"
   ]
  },
  {
   "cell_type": "code",
   "execution_count": null,
   "id": "searching-retirement",
   "metadata": {},
   "outputs": [],
   "source": []
  }
 ],
 "metadata": {
  "kernelspec": {
   "display_name": "aiffel",
   "language": "python",
   "name": "aiffel"
  },
  "language_info": {
   "codemirror_mode": {
    "name": "ipython",
    "version": 3
   },
   "file_extension": ".py",
   "mimetype": "text/x-python",
   "name": "python",
   "nbconvert_exporter": "python",
   "pygments_lexer": "ipython3",
   "version": "3.7.9"
  }
 },
 "nbformat": 4,
 "nbformat_minor": 5
}
