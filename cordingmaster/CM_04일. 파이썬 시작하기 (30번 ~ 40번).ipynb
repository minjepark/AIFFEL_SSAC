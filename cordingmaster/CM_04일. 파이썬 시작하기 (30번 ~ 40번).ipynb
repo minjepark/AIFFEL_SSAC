{
 "cells": [
  {
   "cell_type": "code",
   "execution_count": 1,
   "metadata": {},
   "outputs": [
    {
     "name": "stdout",
     "output_type": "stream",
     "text": [
      "34\n"
     ]
    }
   ],
   "source": [
    "a = '3'\n",
    "b = '4'\n",
    "print(a+b)"
   ]
  },
  {
   "cell_type": "code",
   "execution_count": 2,
   "metadata": {},
   "outputs": [
    {
     "name": "stdout",
     "output_type": "stream",
     "text": [
      "hihihi\n"
     ]
    }
   ],
   "source": [
    "print('hi'*3)"
   ]
  },
  {
   "cell_type": "code",
   "execution_count": 3,
   "metadata": {},
   "outputs": [
    {
     "name": "stdout",
     "output_type": "stream",
     "text": [
      "--------------------------------------------------------------------------------\n"
     ]
    }
   ],
   "source": [
    "print('-'*80)"
   ]
  },
  {
   "cell_type": "code",
   "execution_count": 7,
   "metadata": {},
   "outputs": [
    {
     "name": "stdout",
     "output_type": "stream",
     "text": [
      "python java python java python java python java \n"
     ]
    }
   ],
   "source": [
    "t1 = 'python'\n",
    "t2 = 'java'\n",
    "t3 = t1 + ' ' + t2 + ' '\n",
    "print(t3 *4)"
   ]
  },
  {
   "cell_type": "code",
   "execution_count": 9,
   "metadata": {},
   "outputs": [
    {
     "name": "stdout",
     "output_type": "stream",
     "text": [
      "이름: 김민수 나이: 10\n",
      "이름: 이철희 나이: 13\n",
      "이름: 김민수 나이: 10\n",
      "이름: 이철희 나이: 13\n"
     ]
    }
   ],
   "source": [
    "name1 = '김민수'\n",
    "age1 = 10\n",
    "name2 = '이철희'\n",
    "age2 = 13\n",
    "\n",
    "print('이름: %s 나이: %d' % (name1, age1)) \n",
    "print('이름: %s 나이: %d' % (name2, age2))\n",
    "\n",
    "print('이름: {0} 나이: {1}'.format(name1, age1))\n",
    "print('이름: {0} 나이: {1}'.format(name2, age2))"
   ]
  },
  {
   "cell_type": "code",
   "execution_count": 10,
   "metadata": {},
   "outputs": [
    {
     "name": "stdout",
     "output_type": "stream",
     "text": [
      "이름: 김민수 나이: 10\n",
      "이름: 이철희 나이: 13\n"
     ]
    }
   ],
   "source": [
    "name1 = '김민수'\n",
    "age1 = 10\n",
    "name2 = '이철희'\n",
    "age2 = 13\n",
    "\n",
    "print('이름: {0} 나이: {1}'.format(name1, age1))\n",
    "print('이름: {0} 나이: {1}'.format(name2, age2))"
   ]
  },
  {
   "cell_type": "code",
   "execution_count": 11,
   "metadata": {},
   "outputs": [
    {
     "name": "stdout",
     "output_type": "stream",
     "text": [
      "이름: 김민수 나이: 10\n",
      "이름: 이철희 나이: 13\n"
     ]
    }
   ],
   "source": [
    "name1 = '김민수'\n",
    "age1 = 10\n",
    "name2 = '이철희'\n",
    "age2 = 13\n",
    "\n",
    "print(f'이름: {name1} 나이: {age1}')\n",
    "print(f'이름: {name2} 나이: {age2}')"
   ]
  },
  {
   "cell_type": "code",
   "execution_count": 17,
   "metadata": {},
   "outputs": [
    {
     "name": "stdout",
     "output_type": "stream",
     "text": [
      "5969782550\n"
     ]
    },
    {
     "data": {
      "text/plain": [
       "int"
      ]
     },
     "execution_count": 17,
     "metadata": {},
     "output_type": "execute_result"
    }
   ],
   "source": [
    "상장주식수 = '5,969,782,550'\n",
    "상장주식수 = int(상장주식수.replace(',',''))\n",
    "print(상장주식수)\n",
    "type(상장주식수)"
   ]
  },
  {
   "cell_type": "code",
   "execution_count": 18,
   "metadata": {},
   "outputs": [
    {
     "name": "stdout",
     "output_type": "stream",
     "text": [
      "2020/03\n"
     ]
    }
   ],
   "source": [
    "분기 = '2020/03(E) (IFRS연결)'\n",
    "분기2 = 분기.split(' ')[0].split('(')[0]\n",
    "print(분기2)\n",
    " "
   ]
  },
  {
   "cell_type": "code",
   "execution_count": 20,
   "metadata": {},
   "outputs": [
    {
     "data": {
      "text/plain": [
       "'삼성전자'"
      ]
     },
     "execution_count": 20,
     "metadata": {},
     "output_type": "execute_result"
    }
   ],
   "source": [
    "data = '    삼성전자      '\n",
    "data2 = data.strip()\n",
    "data2"
   ]
  },
  {
   "cell_type": "markdown",
   "metadata": {},
   "source": [
    "### TIL \n",
    "\n",
    "31번 문제: 문자열은 합할 수 있다. \n",
    "\n",
    "34번 문제: t1 + t2를 할 때 한칸 띄고 싶으면 `t1 + ' ' + t2 + ' '` 이렇게 나타내면 된다.   \n",
    "\n",
    "35번 문제: `% formatting`은 `'%d, %s' %(변수1, 변수2)` 이 형식이다. \n",
    "\n",
    "37번 문제: `(f' 이름{변수1} 나이{변수2}')` 형태를 f-string이라고 한다. \n",
    "\n",
    "38번 문제: 문자열을 숫자형으로 형변환을 하려고 할 때 만약 숫자형에 `,`가 있다면 변환이 안되니 `replace`함수를 이용해서 컴마를 제거하고 `int()` 사용\n",
    "\n",
    "40번 문제: 문자열의 공백을 지우는 함수 `strip()`을 사용합니다. \n"
   ]
  },
  {
   "cell_type": "code",
   "execution_count": null,
   "metadata": {},
   "outputs": [],
   "source": []
  }
 ],
 "metadata": {
  "kernelspec": {
   "display_name": "aiffel",
   "language": "python",
   "name": "aiffel"
  },
  "language_info": {
   "codemirror_mode": {
    "name": "ipython",
    "version": 3
   },
   "file_extension": ".py",
   "mimetype": "text/x-python",
   "name": "python",
   "nbconvert_exporter": "python",
   "pygments_lexer": "ipython3",
   "version": "3.7.9"
  }
 },
 "nbformat": 4,
 "nbformat_minor": 4
}
