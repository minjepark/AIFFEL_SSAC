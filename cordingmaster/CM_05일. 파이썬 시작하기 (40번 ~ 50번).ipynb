{
 "cells": [
  {
   "cell_type": "code",
   "execution_count": 2,
   "metadata": {},
   "outputs": [
    {
     "data": {
      "text/plain": [
       "'BTC_KRW'"
      ]
     },
     "execution_count": 2,
     "metadata": {},
     "output_type": "execute_result"
    }
   ],
   "source": [
    "ticker = 'btc_krw'\n",
    "ticker2 = ticker.upper()\n",
    "ticker2"
   ]
  },
  {
   "cell_type": "code",
   "execution_count": 3,
   "metadata": {},
   "outputs": [
    {
     "name": "stdout",
     "output_type": "stream",
     "text": [
      "btc_krw\n"
     ]
    }
   ],
   "source": [
    "ticker = 'BTC_KRW'\n",
    "ticker3 = ticker.lower()\n",
    "print(ticker3)"
   ]
  },
  {
   "cell_type": "code",
   "execution_count": 5,
   "metadata": {},
   "outputs": [
    {
     "name": "stdout",
     "output_type": "stream",
     "text": [
      "Hellow\n"
     ]
    }
   ],
   "source": [
    "a = 'hellow'\n",
    "result1 = a.capitalize()\n",
    "print(result1)"
   ]
  },
  {
   "cell_type": "code",
   "execution_count": 6,
   "metadata": {},
   "outputs": [
    {
     "name": "stdout",
     "output_type": "stream",
     "text": [
      "Capitalize\n"
     ]
    }
   ],
   "source": [
    "a = 'capitalize'\n",
    "aa = a.capitalize()\n",
    "print(aa)"
   ]
  },
  {
   "cell_type": "code",
   "execution_count": 9,
   "metadata": {},
   "outputs": [
    {
     "data": {
      "text/plain": [
       "True"
      ]
     },
     "execution_count": 9,
     "metadata": {},
     "output_type": "execute_result"
    }
   ],
   "source": [
    "file_name = '보고서.xlsx'\n",
    "file_name.endswith('xlsx')"
   ]
  },
  {
   "cell_type": "code",
   "execution_count": 11,
   "metadata": {},
   "outputs": [
    {
     "data": {
      "text/plain": [
       "True"
      ]
     },
     "execution_count": 11,
     "metadata": {},
     "output_type": "execute_result"
    }
   ],
   "source": [
    "file_name.endswith('xlsx' or 'xls')"
   ]
  },
  {
   "cell_type": "code",
   "execution_count": 23,
   "metadata": {},
   "outputs": [
    {
     "data": {
      "text/plain": [
       "True"
      ]
     },
     "execution_count": 23,
     "metadata": {},
     "output_type": "execute_result"
    }
   ],
   "source": [
    "file_name = '2020_보고서.xlsx'\n",
    "# file_name1 = file_name.split('_')[0]\n",
    "# file_name1 = int(file_name1).startswitch('2020')\n",
    "file_name.startswith('2')"
   ]
  },
  {
   "cell_type": "code",
   "execution_count": 25,
   "metadata": {},
   "outputs": [
    {
     "name": "stdout",
     "output_type": "stream",
     "text": [
      "['hello', 'world']\n",
      "['hello', 'world']\n"
     ]
    }
   ],
   "source": [
    "a = 'hello world'\n",
    "aa = a.split(' ')\n",
    "aaa = a.split()\n",
    "print(aa)\n",
    "print(aaa)"
   ]
  },
  {
   "cell_type": "code",
   "execution_count": 26,
   "metadata": {},
   "outputs": [
    {
     "data": {
      "text/plain": [
       "['btc', 'krw']"
      ]
     },
     "execution_count": 26,
     "metadata": {},
     "output_type": "execute_result"
    }
   ],
   "source": [
    "ticker = 'btc_krw'\n",
    "ticker1 = ticker.split('_')\n",
    "ticker1"
   ]
  },
  {
   "cell_type": "code",
   "execution_count": 27,
   "metadata": {},
   "outputs": [
    {
     "name": "stdout",
     "output_type": "stream",
     "text": [
      "['2020', '05', '01']\n"
     ]
    }
   ],
   "source": [
    "date = '2020-05-01'\n",
    "date = date.split('-')\n",
    "print(date)"
   ]
  },
  {
   "cell_type": "code",
   "execution_count": 28,
   "metadata": {},
   "outputs": [
    {
     "name": "stdout",
     "output_type": "stream",
     "text": [
      "034234\n",
      "034234\n"
     ]
    }
   ],
   "source": [
    "data = '034234      '\n",
    "data1 = data.strip()\n",
    "data2 = data.rstrip()\n",
    "print(data1)\n",
    "print(data2)"
   ]
  },
  {
   "cell_type": "markdown",
   "metadata": {},
   "source": [
    "### TIL \n",
    "41 ,42번 문제: `upper(), lower()` 함수를 활용하여 전체 대소문자 만들기  \n",
    "\n",
    "43번 문제: `capitalize()`를 활용하여 첫번째 문자 대문자로 만들기   \n",
    "\n",
    "44, 45번 문제: `변수.endswitch('판별문자')`로 하면 끝이 어떻게 끝나는지 확인가능.  \n",
    "               끝나는 문자를 추가하고 싶다면 `endswitch('판별문자' or ' 판별문  자')`로 표현가능    \n",
    "  \n",
    "46번 문제: `변수.startswith('해당문자')`를 한다면 시작문자 확인가능    \n",
    "\n",
    "47번 문제: `변수.split(' ') 과 변수.split()`이 동일하다. 빈칸으로 split한다면 굳이 따옴표가 필요없다.     \n",
    "\n",
    "50번 문제: `rstrip() 과 strip()`을 strip()함수에 r을 붙이면 오른쪽이 공란이 삭제. \n",
    "\n",
    "\n",
    "       \n"
   ]
  },
  {
   "cell_type": "code",
   "execution_count": null,
   "metadata": {},
   "outputs": [],
   "source": []
  }
 ],
 "metadata": {
  "kernelspec": {
   "display_name": "aiffel",
   "language": "python",
   "name": "aiffel"
  },
  "language_info": {
   "codemirror_mode": {
    "name": "ipython",
    "version": 3
   },
   "file_extension": ".py",
   "mimetype": "text/x-python",
   "name": "python",
   "nbconvert_exporter": "python",
   "pygments_lexer": "ipython3",
   "version": "3.7.9"
  }
 },
 "nbformat": 4,
 "nbformat_minor": 4
}
