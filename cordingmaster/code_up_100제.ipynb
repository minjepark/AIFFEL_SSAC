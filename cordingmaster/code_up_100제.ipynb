{
 "cells": [
  {
   "cell_type": "code",
   "execution_count": 3,
   "id": "loose-induction",
   "metadata": {},
   "outputs": [
    {
     "name": "stdout",
     "output_type": "stream",
     "text": [
      "12312-123\n",
      "12312123\n"
     ]
    }
   ],
   "source": [
    "##주민번호 붙여 넣기 \n",
    "a,b = input().split('-')\n",
    "print(a+b)"
   ]
  },
  {
   "cell_type": "code",
   "execution_count": 4,
   "id": "unnecessary-turtle",
   "metadata": {},
   "outputs": [
    {
     "name": "stdout",
     "output_type": "stream",
     "text": [
      "12345\n",
      "1\n",
      "2\n",
      "3\n",
      "4\n",
      "5\n"
     ]
    }
   ],
   "source": [
    "##알파벳과 숫자 단어1개씩 출력하기 \n",
    "s = input()\n",
    "for i in range(len(s)):\n",
    "    print(s[i])"
   ]
  },
  {
   "cell_type": "code",
   "execution_count": 26,
   "id": "employed-flooring",
   "metadata": {},
   "outputs": [
    {
     "name": "stdout",
     "output_type": "stream",
     "text": [
      "901026\n",
      "90 10 26\n"
     ]
    }
   ],
   "source": [
    "##연월일 입력받아 나누어 출력하기 \n",
    "a = input()\n",
    "a,b,c,d,e,f = \" \".join(a).split()\n",
    "print(a+b,c+d,e+f)"
   ]
  },
  {
   "cell_type": "code",
   "execution_count": 27,
   "id": "twelve-freeze",
   "metadata": {},
   "outputs": [
    {
     "name": "stdout",
     "output_type": "stream",
     "text": [
      "90:10:26\n",
      "10\n"
     ]
    }
   ],
   "source": [
    "##시:분:초 형식으로 입력된 것 중 분만 출력하기 \n",
    "a = input()\n",
    "b = a.split(':')[1]\n",
    "print(b)"
   ]
  },
  {
   "cell_type": "code",
   "execution_count": 28,
   "id": "ranking-crisis",
   "metadata": {},
   "outputs": [
    {
     "name": "stdout",
     "output_type": "stream",
     "text": [
      "hellow wordl\n",
      "hellowwordl\n"
     ]
    }
   ],
   "source": [
    "##단어 2개 입력받아 이어붙이기 \n",
    "a, b = input().split()\n",
    "print(a+b)"
   ]
  },
  {
   "cell_type": "code",
   "execution_count": 38,
   "id": "reasonable-acceptance",
   "metadata": {},
   "outputs": [
    {
     "name": "stdout",
     "output_type": "stream",
     "text": [
      "1 2\n",
      "3\n"
     ]
    }
   ],
   "source": [
    "## 정수2개 입력받아 합을 출력하세요.\n",
    "c = input()\n",
    "a, b = c.split()\n",
    "print(int(a)+int(b))\n"
   ]
  },
  {
   "cell_type": "code",
   "execution_count": 39,
   "id": "precise-filter",
   "metadata": {},
   "outputs": [
    {
     "name": "stdout",
     "output_type": "stream",
     "text": [
      "2.3\n",
      "2.1\n",
      "4.4\n"
     ]
    }
   ],
   "source": [
    "## 실수2개 입력받아 합을 출력하세요. \n",
    "a = input()\n",
    "b = input()\n",
    "print(float(a)+float(b))"
   ]
  },
  {
   "cell_type": "code",
   "execution_count": 40,
   "id": "wrong-bulgaria",
   "metadata": {},
   "outputs": [
    {
     "name": "stdout",
     "output_type": "stream",
     "text": [
      "12\n",
      "c\n"
     ]
    }
   ],
   "source": [
    "## 10진수 16진수로 바꿔서 출력하기 \n",
    "\n",
    "a = input()\n",
    "n = int(a)\n",
    "print('%x'%n)"
   ]
  },
  {
   "cell_type": "code",
   "execution_count": 41,
   "id": "spread-immigration",
   "metadata": {},
   "outputs": [
    {
     "name": "stdout",
     "output_type": "stream",
     "text": [
      "10\n",
      "A\n"
     ]
    }
   ],
   "source": [
    "## 10진수를 입력받아 16로 출력해보자.\n",
    "\n",
    "a = int(input())\n",
    "print('%X'%a)#16진수는 X입니다. \n",
    "\n",
    "a = int(input())\n",
    "b = int(a,16)\n",
    "print(b)"
   ]
  },
  {
   "cell_type": "code",
   "execution_count": 43,
   "id": "eligible-employment",
   "metadata": {},
   "outputs": [
    {
     "name": "stdout",
     "output_type": "stream",
     "text": [
      "1\n",
      "1\n"
     ]
    }
   ],
   "source": [
    "## 16진수를 입력받아 8진수로 출력하자\n",
    "\n",
    "a = input()\n",
    "b = int(a,16)#16진수를 만드려면 int(입력받은값, 16) 진수 \n",
    "print('%o'%b)"
   ]
  },
  {
   "cell_type": "code",
   "execution_count": null,
   "id": "tribal-cholesterol",
   "metadata": {},
   "outputs": [],
   "source": []
  }
 ],
 "metadata": {
  "kernelspec": {
   "display_name": "aiffel",
   "language": "python",
   "name": "aiffel"
  },
  "language_info": {
   "codemirror_mode": {
    "name": "ipython",
    "version": 3
   },
   "file_extension": ".py",
   "mimetype": "text/x-python",
   "name": "python",
   "nbconvert_exporter": "python",
   "pygments_lexer": "ipython3",
   "version": "3.7.9"
  }
 },
 "nbformat": 4,
 "nbformat_minor": 5
}
