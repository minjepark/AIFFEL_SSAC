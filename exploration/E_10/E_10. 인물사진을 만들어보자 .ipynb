{
 "cells": [
  {
   "cell_type": "markdown",
   "id": "stone-theater",
   "metadata": {},
   "source": [
    "오늘의 구현순서\n",
    "\n",
    "1) 데이터 준비 (배경과 사람거리가 있는 것으로다가~)\n",
    "2)시멘틱 세그멘테이션으로 피사체와 배경을 분리 \n",
    "3)블러링 기술로 배경을 흐리게 만들기 \n",
    "4)피사체를 배경의 원래 위치로 합성 "
   ]
  },
  {
   "cell_type": "code",
   "execution_count": 2,
   "id": "collect-castle",
   "metadata": {},
   "outputs": [],
   "source": [
    "#패키지 불러오기 \n",
    "\n",
    "import cv2\n",
    "import numpy as np\n",
    "import os\n",
    "from glob import glob\n",
    "from os.path import join\n",
    "import tarfile\n",
    "import urllib # 웹에서 데이터를 다운받을 때 사용합니다. \n",
    "\n",
    "from matplotlib import pyplot as plt\n",
    "import tensorflow as tf"
   ]
  },
  {
   "cell_type": "code",
   "execution_count": 11,
   "id": "pressing-plasma",
   "metadata": {},
   "outputs": [
    {
     "name": "stdout",
     "output_type": "stream",
     "text": [
      "(183, 275, 3)\n"
     ]
    },
    {
     "data": {
      "text/plain": [
       "275"
      ]
     },
     "execution_count": 11,
     "metadata": {},
     "output_type": "execute_result"
    }
   ],
   "source": [
    "# 이미지 저장하기 \n",
    "\n",
    "#이미지 저장은 저장경로를 변수에 지정하고 그것이 이미지 파일이기에 cv2로 읽습니다. \n",
    "import os \n",
    "img_path = os.getenv('HOME') + '/aiffel/human_segmentation/images/market'\n",
    "img_orig = cv2.imread(img_path)\n",
    "print (img_orig.shape)\n",
    "len(img_orig[0]) #가로 세로..음...가로 183개, 세로 275인 RGB파일 "
   ]
  },
  {
   "attachments": {},
   "cell_type": "markdown",
   "id": "unable-double",
   "metadata": {},
   "source": [
    "# 세그멘테이션으로 사람 분리하기 \n",
    "![image](https://user-images.githubusercontent.com/68840414/108790657-9b068b00-75c0-11eb-9a05-9b1dddbc115e.png)\n",
    "\n",
    "* instance segmentation : 같은 클래스 분류 \n",
    "* semantic segmentaion: 같은 클래스 분류 하지 않음\n",
    "\n",
    "원본이미지 \n",
    "\n",
    "![image](https://user-images.githubusercontent.com/68840414/108791202-dd7c9780-75c1-11eb-9b8d-8d45205028db.png)\n",
    "\n",
    "인스턴스와 시멘틱 segmentation\n",
    "![image](https://user-images.githubusercontent.com/68840414/108791183-d5bcf300-75c1-11eb-9a3f-3043059a7d1b.png)\n",
    "\n",
    "\n",
    "\n"
   ]
  },
  {
   "cell_type": "code",
   "execution_count": null,
   "id": "brutal-carroll",
   "metadata": {},
   "outputs": [],
   "source": []
  }
 ],
 "metadata": {
  "kernelspec": {
   "display_name": "aiffel",
   "language": "python",
   "name": "aiffel"
  },
  "language_info": {
   "codemirror_mode": {
    "name": "ipython",
    "version": 3
   },
   "file_extension": ".py",
   "mimetype": "text/x-python",
   "name": "python",
   "nbconvert_exporter": "python",
   "pygments_lexer": "ipython3",
   "version": "3.7.9"
  }
 },
 "nbformat": 4,
 "nbformat_minor": 5
}
