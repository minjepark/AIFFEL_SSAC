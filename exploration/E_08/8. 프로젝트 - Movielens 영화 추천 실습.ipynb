{
 "cells": [
  {
   "cell_type": "markdown",
   "metadata": {},
   "source": [
    "## 프로젝트 - movielens 영화추천실습 "
   ]
  },
  {
   "cell_type": "markdown",
   "metadata": {},
   "source": [
    "### 1. 데이터 준비와 전처리 \n",
    "#### 1-1 데이터 불러오기 "
   ]
  },
  {
   "cell_type": "code",
   "execution_count": 1,
   "metadata": {},
   "outputs": [
    {
     "data": {
      "text/html": [
       "<div>\n",
       "<style scoped>\n",
       "    .dataframe tbody tr th:only-of-type {\n",
       "        vertical-align: middle;\n",
       "    }\n",
       "\n",
       "    .dataframe tbody tr th {\n",
       "        vertical-align: top;\n",
       "    }\n",
       "\n",
       "    .dataframe thead th {\n",
       "        text-align: right;\n",
       "    }\n",
       "</style>\n",
       "<table border=\"1\" class=\"dataframe\">\n",
       "  <thead>\n",
       "    <tr style=\"text-align: right;\">\n",
       "      <th></th>\n",
       "      <th>user_id</th>\n",
       "      <th>movie_id</th>\n",
       "      <th>rating</th>\n",
       "      <th>timestamp</th>\n",
       "    </tr>\n",
       "  </thead>\n",
       "  <tbody>\n",
       "    <tr>\n",
       "      <th>0</th>\n",
       "      <td>1</td>\n",
       "      <td>1193</td>\n",
       "      <td>5</td>\n",
       "      <td>978300760</td>\n",
       "    </tr>\n",
       "    <tr>\n",
       "      <th>1</th>\n",
       "      <td>1</td>\n",
       "      <td>661</td>\n",
       "      <td>3</td>\n",
       "      <td>978302109</td>\n",
       "    </tr>\n",
       "    <tr>\n",
       "      <th>2</th>\n",
       "      <td>1</td>\n",
       "      <td>914</td>\n",
       "      <td>3</td>\n",
       "      <td>978301968</td>\n",
       "    </tr>\n",
       "    <tr>\n",
       "      <th>3</th>\n",
       "      <td>1</td>\n",
       "      <td>3408</td>\n",
       "      <td>4</td>\n",
       "      <td>978300275</td>\n",
       "    </tr>\n",
       "    <tr>\n",
       "      <th>4</th>\n",
       "      <td>1</td>\n",
       "      <td>2355</td>\n",
       "      <td>5</td>\n",
       "      <td>978824291</td>\n",
       "    </tr>\n",
       "  </tbody>\n",
       "</table>\n",
       "</div>"
      ],
      "text/plain": [
       "   user_id  movie_id  rating  timestamp\n",
       "0        1      1193       5  978300760\n",
       "1        1       661       3  978302109\n",
       "2        1       914       3  978301968\n",
       "3        1      3408       4  978300275\n",
       "4        1      2355       5  978824291"
      ]
     },
     "execution_count": 1,
     "metadata": {},
     "output_type": "execute_result"
    }
   ],
   "source": [
    "import os \n",
    "import pandas as pd\n",
    "rating_file_path = os.getenv('HOME') + '/aiffel/recommendata_iu/data/ml-1m/ratings.dat'\n",
    "ratings_cols = ['user_id', 'movie_id','rating', 'timestamp']\n",
    "ratings = pd.read_csv(rating_file_path,sep = '::', names = ratings_cols,engine = 'python')\n",
    "orginal_data_size = len(ratings)\n",
    "ratings.head()"
   ]
  },
  {
   "cell_type": "markdown",
   "metadata": {},
   "source": [
    "### 1-2 3점 이상 데이터만 남기기 "
   ]
  },
  {
   "cell_type": "code",
   "execution_count": 2,
   "metadata": {},
   "outputs": [
    {
     "name": "stdout",
     "output_type": "stream",
     "text": [
      "orginal_data_size: 1000209, filtered_data_size:836478\n",
      "Ratio of Remaining Data is 83.63%\n"
     ]
    }
   ],
   "source": [
    "ratings = ratings[ratings['rating']>=3]\n",
    "filtered_data_size = len(ratings)\n",
    "\n",
    "print(f'orginal_data_size: {orginal_data_size}, filtered_data_size:{filtered_data_size}')\n",
    "print(f'Ratio of Remaining Data is {filtered_data_size/orginal_data_size:.2%}')"
   ]
  },
  {
   "cell_type": "markdown",
   "metadata": {},
   "source": [
    "### 1-3\n",
    "#### 데이터의 이름 변경 평가 > 점수"
   ]
  },
  {
   "cell_type": "code",
   "execution_count": 3,
   "metadata": {},
   "outputs": [],
   "source": [
    "ratings.rename(columns={'rating':'count'}, inplace=True)\n",
    "#원본데이터의 columns의 이름 변경 "
   ]
  },
  {
   "cell_type": "code",
   "execution_count": 4,
   "metadata": {},
   "outputs": [
    {
     "data": {
      "text/html": [
       "<div>\n",
       "<style scoped>\n",
       "    .dataframe tbody tr th:only-of-type {\n",
       "        vertical-align: middle;\n",
       "    }\n",
       "\n",
       "    .dataframe tbody tr th {\n",
       "        vertical-align: top;\n",
       "    }\n",
       "\n",
       "    .dataframe thead th {\n",
       "        text-align: right;\n",
       "    }\n",
       "</style>\n",
       "<table border=\"1\" class=\"dataframe\">\n",
       "  <thead>\n",
       "    <tr style=\"text-align: right;\">\n",
       "      <th></th>\n",
       "      <th>movie_id</th>\n",
       "      <th>title</th>\n",
       "      <th>genre</th>\n",
       "    </tr>\n",
       "  </thead>\n",
       "  <tbody>\n",
       "    <tr>\n",
       "      <th>0</th>\n",
       "      <td>1</td>\n",
       "      <td>Toy Story (1995)</td>\n",
       "      <td>Animation|Children's|Comedy</td>\n",
       "    </tr>\n",
       "    <tr>\n",
       "      <th>1</th>\n",
       "      <td>2</td>\n",
       "      <td>Jumanji (1995)</td>\n",
       "      <td>Adventure|Children's|Fantasy</td>\n",
       "    </tr>\n",
       "    <tr>\n",
       "      <th>2</th>\n",
       "      <td>3</td>\n",
       "      <td>Grumpier Old Men (1995)</td>\n",
       "      <td>Comedy|Romance</td>\n",
       "    </tr>\n",
       "    <tr>\n",
       "      <th>3</th>\n",
       "      <td>4</td>\n",
       "      <td>Waiting to Exhale (1995)</td>\n",
       "      <td>Comedy|Drama</td>\n",
       "    </tr>\n",
       "    <tr>\n",
       "      <th>4</th>\n",
       "      <td>5</td>\n",
       "      <td>Father of the Bride Part II (1995)</td>\n",
       "      <td>Comedy</td>\n",
       "    </tr>\n",
       "    <tr>\n",
       "      <th>...</th>\n",
       "      <td>...</td>\n",
       "      <td>...</td>\n",
       "      <td>...</td>\n",
       "    </tr>\n",
       "    <tr>\n",
       "      <th>295</th>\n",
       "      <td>298</td>\n",
       "      <td>Pushing Hands (1992)</td>\n",
       "      <td>Comedy</td>\n",
       "    </tr>\n",
       "    <tr>\n",
       "      <th>296</th>\n",
       "      <td>299</td>\n",
       "      <td>Priest (1994)</td>\n",
       "      <td>Drama</td>\n",
       "    </tr>\n",
       "    <tr>\n",
       "      <th>297</th>\n",
       "      <td>300</td>\n",
       "      <td>Quiz Show (1994)</td>\n",
       "      <td>Drama</td>\n",
       "    </tr>\n",
       "    <tr>\n",
       "      <th>298</th>\n",
       "      <td>301</td>\n",
       "      <td>Picture Bride (1995)</td>\n",
       "      <td>Drama|Romance</td>\n",
       "    </tr>\n",
       "    <tr>\n",
       "      <th>299</th>\n",
       "      <td>302</td>\n",
       "      <td>Queen Margot (La Reine Margot) (1994)</td>\n",
       "      <td>Drama|Romance</td>\n",
       "    </tr>\n",
       "  </tbody>\n",
       "</table>\n",
       "<p>300 rows × 3 columns</p>\n",
       "</div>"
      ],
      "text/plain": [
       "     movie_id                                  title  \\\n",
       "0           1                       Toy Story (1995)   \n",
       "1           2                         Jumanji (1995)   \n",
       "2           3                Grumpier Old Men (1995)   \n",
       "3           4               Waiting to Exhale (1995)   \n",
       "4           5     Father of the Bride Part II (1995)   \n",
       "..        ...                                    ...   \n",
       "295       298                   Pushing Hands (1992)   \n",
       "296       299                          Priest (1994)   \n",
       "297       300                       Quiz Show (1994)   \n",
       "298       301                   Picture Bride (1995)   \n",
       "299       302  Queen Margot (La Reine Margot) (1994)   \n",
       "\n",
       "                            genre  \n",
       "0     Animation|Children's|Comedy  \n",
       "1    Adventure|Children's|Fantasy  \n",
       "2                  Comedy|Romance  \n",
       "3                    Comedy|Drama  \n",
       "4                          Comedy  \n",
       "..                            ...  \n",
       "295                        Comedy  \n",
       "296                         Drama  \n",
       "297                         Drama  \n",
       "298                 Drama|Romance  \n",
       "299                 Drama|Romance  \n",
       "\n",
       "[300 rows x 3 columns]"
      ]
     },
     "execution_count": 4,
     "metadata": {},
     "output_type": "execute_result"
    }
   ],
   "source": [
    "movie_file_path = os.getenv(\"HOME\") + '/aiffel/recommendata_iu/data/ml-1m/movies.dat'\n",
    "cols =['movie_id','title','genre']\n",
    "movies = pd.read_csv(movie_file_path,sep='::', names=cols, engine='python')\n",
    "movies.head(300)"
   ]
  },
  {
   "cell_type": "code",
   "execution_count": 5,
   "metadata": {},
   "outputs": [],
   "source": [
    "def title_to_id(name):\n",
    "    t = movies['title'] == name\n",
    "    tt = movies[t]\n",
    "    r = tt['movie_id'].values[0].item()\n",
    "    return r\n",
    "\n",
    "def id_to_title(_id):\n",
    "    t = movies['movie_id'] == _id\n",
    "    tt = movies[t]\n",
    "    r = tt['title'].item()\n",
    "    return r"
   ]
  },
  {
   "cell_type": "markdown",
   "metadata": {},
   "source": [
    "### 2. 분석해봅시다. \n",
    "#### ratings에 있는 유니크한 영화 개수 (중복되지 않는 순수한 영화의 수)\n"
   ]
  },
  {
   "cell_type": "code",
   "execution_count": 6,
   "metadata": {},
   "outputs": [
    {
     "data": {
      "text/html": [
       "<div>\n",
       "<style scoped>\n",
       "    .dataframe tbody tr th:only-of-type {\n",
       "        vertical-align: middle;\n",
       "    }\n",
       "\n",
       "    .dataframe tbody tr th {\n",
       "        vertical-align: top;\n",
       "    }\n",
       "\n",
       "    .dataframe thead th {\n",
       "        text-align: right;\n",
       "    }\n",
       "</style>\n",
       "<table border=\"1\" class=\"dataframe\">\n",
       "  <thead>\n",
       "    <tr style=\"text-align: right;\">\n",
       "      <th></th>\n",
       "      <th>movie_id</th>\n",
       "      <th>title</th>\n",
       "      <th>genre</th>\n",
       "    </tr>\n",
       "  </thead>\n",
       "  <tbody>\n",
       "    <tr>\n",
       "      <th>0</th>\n",
       "      <td>1</td>\n",
       "      <td>toy story (1995)</td>\n",
       "      <td>Animation|Children's|Comedy</td>\n",
       "    </tr>\n",
       "    <tr>\n",
       "      <th>1</th>\n",
       "      <td>2</td>\n",
       "      <td>jumanji (1995)</td>\n",
       "      <td>Adventure|Children's|Fantasy</td>\n",
       "    </tr>\n",
       "    <tr>\n",
       "      <th>2</th>\n",
       "      <td>3</td>\n",
       "      <td>grumpier old men (1995)</td>\n",
       "      <td>Comedy|Romance</td>\n",
       "    </tr>\n",
       "    <tr>\n",
       "      <th>3</th>\n",
       "      <td>4</td>\n",
       "      <td>waiting to exhale (1995)</td>\n",
       "      <td>Comedy|Drama</td>\n",
       "    </tr>\n",
       "    <tr>\n",
       "      <th>4</th>\n",
       "      <td>5</td>\n",
       "      <td>father of the bride part ii (1995)</td>\n",
       "      <td>Comedy</td>\n",
       "    </tr>\n",
       "  </tbody>\n",
       "</table>\n",
       "</div>"
      ],
      "text/plain": [
       "   movie_id                               title                         genre\n",
       "0         1                    toy story (1995)   Animation|Children's|Comedy\n",
       "1         2                      jumanji (1995)  Adventure|Children's|Fantasy\n",
       "2         3             grumpier old men (1995)                Comedy|Romance\n",
       "3         4            waiting to exhale (1995)                  Comedy|Drama\n",
       "4         5  father of the bride part ii (1995)                        Comedy"
      ]
     },
     "execution_count": 6,
     "metadata": {},
     "output_type": "execute_result"
    }
   ],
   "source": [
    "movies['title'] = movies['title'].str.lower()\n",
    "movies.head()"
   ]
  },
  {
   "cell_type": "code",
   "execution_count": 7,
   "metadata": {},
   "outputs": [
    {
     "data": {
      "text/plain": [
       "3628"
      ]
     },
     "execution_count": 7,
     "metadata": {},
     "output_type": "execute_result"
    }
   ],
   "source": [
    "ratings['movie_id'].nunique() #여기서 유니크하다는건 어떤 의미일까? "
   ]
  },
  {
   "cell_type": "markdown",
   "metadata": {},
   "source": [
    "### 2-1. rating에 있는 유니크한 사용자 수\n"
   ]
  },
  {
   "cell_type": "code",
   "execution_count": 8,
   "metadata": {},
   "outputs": [
    {
     "data": {
      "text/plain": [
       "6039"
      ]
     },
     "execution_count": 8,
     "metadata": {},
     "output_type": "execute_result"
    }
   ],
   "source": [
    "ratings['user_id'].nunique()"
   ]
  },
  {
   "cell_type": "markdown",
   "metadata": {},
   "source": [
    "### 2-3. 가장 인기있는 영화 30개 "
   ]
  },
  {
   "cell_type": "code",
   "execution_count": 9,
   "metadata": {},
   "outputs": [
    {
     "data": {
      "text/plain": [
       "movie_id\n",
       "2858    3211\n",
       "260     2910\n",
       "1196    2885\n",
       "1210    2716\n",
       "2028    2561\n",
       "589     2509\n",
       "593     2498\n",
       "1198    2473\n",
       "1270    2460\n",
       "2571    2434\n",
       "480     2413\n",
       "2762    2385\n",
       "608     2371\n",
       "110     2314\n",
       "1580    2297\n",
       "527     2257\n",
       "1197    2252\n",
       "2396    2213\n",
       "1617    2210\n",
       "318     2194\n",
       "858     2167\n",
       "1265    2121\n",
       "1097    2102\n",
       "2997    2066\n",
       "2716    2051\n",
       "296     2030\n",
       "356     2022\n",
       "1240    2019\n",
       "1       2000\n",
       "457     1941\n",
       "Name: user_id, dtype: int64"
      ]
     },
     "execution_count": 9,
     "metadata": {},
     "output_type": "execute_result"
    }
   ],
   "source": [
    "movies_count = ratings.groupby('movie_id')['user_id'].count()\n",
    "movies_count.sort_values(ascending=False).head(30)"
   ]
  },
  {
   "cell_type": "markdown",
   "metadata": {},
   "source": [
    "### 3. 내가 좋아하는 영화 5개 넣기 "
   ]
  },
  {
   "cell_type": "code",
   "execution_count": 10,
   "metadata": {},
   "outputs": [
    {
     "data": {
      "text/html": [
       "<div>\n",
       "<style scoped>\n",
       "    .dataframe tbody tr th:only-of-type {\n",
       "        vertical-align: middle;\n",
       "    }\n",
       "\n",
       "    .dataframe tbody tr th {\n",
       "        vertical-align: top;\n",
       "    }\n",
       "\n",
       "    .dataframe thead th {\n",
       "        text-align: right;\n",
       "    }\n",
       "</style>\n",
       "<table border=\"1\" class=\"dataframe\">\n",
       "  <thead>\n",
       "    <tr style=\"text-align: right;\">\n",
       "      <th></th>\n",
       "      <th>user_id</th>\n",
       "      <th>movie_id</th>\n",
       "      <th>count</th>\n",
       "      <th>timestamp</th>\n",
       "    </tr>\n",
       "  </thead>\n",
       "  <tbody>\n",
       "    <tr>\n",
       "      <th>1000203</th>\n",
       "      <td>6040</td>\n",
       "      <td>1090</td>\n",
       "      <td>3</td>\n",
       "      <td>956715518.0</td>\n",
       "    </tr>\n",
       "    <tr>\n",
       "      <th>1000205</th>\n",
       "      <td>6040</td>\n",
       "      <td>1094</td>\n",
       "      <td>5</td>\n",
       "      <td>956704887.0</td>\n",
       "    </tr>\n",
       "    <tr>\n",
       "      <th>1000206</th>\n",
       "      <td>6040</td>\n",
       "      <td>562</td>\n",
       "      <td>5</td>\n",
       "      <td>956704746.0</td>\n",
       "    </tr>\n",
       "    <tr>\n",
       "      <th>1000207</th>\n",
       "      <td>6040</td>\n",
       "      <td>1096</td>\n",
       "      <td>4</td>\n",
       "      <td>956715648.0</td>\n",
       "    </tr>\n",
       "    <tr>\n",
       "      <th>1000208</th>\n",
       "      <td>6040</td>\n",
       "      <td>1097</td>\n",
       "      <td>4</td>\n",
       "      <td>956715569.0</td>\n",
       "    </tr>\n",
       "    <tr>\n",
       "      <th>0</th>\n",
       "      <td>minje</td>\n",
       "      <td>2858</td>\n",
       "      <td>5</td>\n",
       "      <td>NaN</td>\n",
       "    </tr>\n",
       "    <tr>\n",
       "      <th>1</th>\n",
       "      <td>minje</td>\n",
       "      <td>1094</td>\n",
       "      <td>5</td>\n",
       "      <td>NaN</td>\n",
       "    </tr>\n",
       "    <tr>\n",
       "      <th>2</th>\n",
       "      <td>minje</td>\n",
       "      <td>562</td>\n",
       "      <td>5</td>\n",
       "      <td>NaN</td>\n",
       "    </tr>\n",
       "    <tr>\n",
       "      <th>3</th>\n",
       "      <td>minje</td>\n",
       "      <td>1196</td>\n",
       "      <td>5</td>\n",
       "      <td>NaN</td>\n",
       "    </tr>\n",
       "    <tr>\n",
       "      <th>4</th>\n",
       "      <td>minje</td>\n",
       "      <td>2028</td>\n",
       "      <td>5</td>\n",
       "      <td>NaN</td>\n",
       "    </tr>\n",
       "  </tbody>\n",
       "</table>\n",
       "</div>"
      ],
      "text/plain": [
       "        user_id  movie_id  count    timestamp\n",
       "1000203    6040      1090      3  956715518.0\n",
       "1000205    6040      1094      5  956704887.0\n",
       "1000206    6040       562      5  956704746.0\n",
       "1000207    6040      1096      4  956715648.0\n",
       "1000208    6040      1097      4  956715569.0\n",
       "0         minje      2858      5          NaN\n",
       "1         minje      1094      5          NaN\n",
       "2         minje       562      5          NaN\n",
       "3         minje      1196      5          NaN\n",
       "4         minje      2028      5          NaN"
      ]
     },
     "execution_count": 10,
     "metadata": {},
     "output_type": "execute_result"
    }
   ],
   "source": [
    "my_favorite_movies = [2858,1094,562,1196,2028]\n",
    "my_favorite_movies = pd.DataFrame({'user_id':['minje']*5,'movie_id':my_favorite_movies,'count':[5]*5})\n",
    "if not ratings.isin({'user_id':['minje']})['user_id'].any():\n",
    "    ratings = ratings.append(my_favorite_movies)\n",
    "ratings.tail(10)"
   ]
  },
  {
   "cell_type": "markdown",
   "metadata": {},
   "source": [
    "\n",
    "4) CSR matrix를 직접 만들어 봅시다.\n",
    "5) als_model = AlternatingLeastSquares 모델을 직접 구성하여 훈련시켜 봅시다.\n",
    "6) 내가 선호하는 5가지 영화 중 하나와 그 외의 영화 하나를 골라 훈련된 모델이 예측한 나의 선호도를 파악해 보세요."
   ]
  },
  {
   "cell_type": "code",
   "execution_count": 11,
   "metadata": {},
   "outputs": [
    {
     "data": {
      "text/plain": [
       "array([1, 2, 3, ..., 6039, 6040, 'minje'], dtype=object)"
      ]
     },
     "execution_count": 11,
     "metadata": {},
     "output_type": "execute_result"
    }
   ],
   "source": [
    "user_unique = ratings['user_id'].unique()\n",
    "movies_unique = ratings['movie_id'].unique()\n",
    "user_unique"
   ]
  },
  {
   "cell_type": "code",
   "execution_count": 12,
   "metadata": {},
   "outputs": [],
   "source": [
    "user_to_idx = {v:k for k,v in enumerate(user_unique)}\n",
    "movies_to_idx = {v:k for k,v in enumerate(movies_unique)}"
   ]
  },
  {
   "cell_type": "code",
   "execution_count": 13,
   "metadata": {},
   "outputs": [
    {
     "name": "stdout",
     "output_type": "stream",
     "text": [
      "6039\n",
      "99\n"
     ]
    }
   ],
   "source": [
    "print(user_to_idx['minje'])\n",
    "print(movies_to_idx[2858])"
   ]
  },
  {
   "cell_type": "code",
   "execution_count": 14,
   "metadata": {},
   "outputs": [
    {
     "name": "stdout",
     "output_type": "stream",
     "text": [
      "user_id column indexing OK!!\n",
      "movies column indexing OK!!\n"
     ]
    },
    {
     "data": {
      "text/html": [
       "<div>\n",
       "<style scoped>\n",
       "    .dataframe tbody tr th:only-of-type {\n",
       "        vertical-align: middle;\n",
       "    }\n",
       "\n",
       "    .dataframe tbody tr th {\n",
       "        vertical-align: top;\n",
       "    }\n",
       "\n",
       "    .dataframe thead th {\n",
       "        text-align: right;\n",
       "    }\n",
       "</style>\n",
       "<table border=\"1\" class=\"dataframe\">\n",
       "  <thead>\n",
       "    <tr style=\"text-align: right;\">\n",
       "      <th></th>\n",
       "      <th>user_id</th>\n",
       "      <th>movie_id</th>\n",
       "      <th>count</th>\n",
       "      <th>timestamp</th>\n",
       "    </tr>\n",
       "  </thead>\n",
       "  <tbody>\n",
       "    <tr>\n",
       "      <th>0</th>\n",
       "      <td>0</td>\n",
       "      <td>0</td>\n",
       "      <td>5</td>\n",
       "      <td>978300760.0</td>\n",
       "    </tr>\n",
       "    <tr>\n",
       "      <th>1</th>\n",
       "      <td>0</td>\n",
       "      <td>1</td>\n",
       "      <td>3</td>\n",
       "      <td>978302109.0</td>\n",
       "    </tr>\n",
       "    <tr>\n",
       "      <th>2</th>\n",
       "      <td>0</td>\n",
       "      <td>2</td>\n",
       "      <td>3</td>\n",
       "      <td>978301968.0</td>\n",
       "    </tr>\n",
       "    <tr>\n",
       "      <th>3</th>\n",
       "      <td>0</td>\n",
       "      <td>3</td>\n",
       "      <td>4</td>\n",
       "      <td>978300275.0</td>\n",
       "    </tr>\n",
       "    <tr>\n",
       "      <th>4</th>\n",
       "      <td>0</td>\n",
       "      <td>4</td>\n",
       "      <td>5</td>\n",
       "      <td>978824291.0</td>\n",
       "    </tr>\n",
       "    <tr>\n",
       "      <th>...</th>\n",
       "      <td>...</td>\n",
       "      <td>...</td>\n",
       "      <td>...</td>\n",
       "      <td>...</td>\n",
       "    </tr>\n",
       "    <tr>\n",
       "      <th>0</th>\n",
       "      <td>6039</td>\n",
       "      <td>99</td>\n",
       "      <td>5</td>\n",
       "      <td>NaN</td>\n",
       "    </tr>\n",
       "    <tr>\n",
       "      <th>1</th>\n",
       "      <td>6039</td>\n",
       "      <td>986</td>\n",
       "      <td>5</td>\n",
       "      <td>NaN</td>\n",
       "    </tr>\n",
       "    <tr>\n",
       "      <th>2</th>\n",
       "      <td>6039</td>\n",
       "      <td>311</td>\n",
       "      <td>5</td>\n",
       "      <td>NaN</td>\n",
       "    </tr>\n",
       "    <tr>\n",
       "      <th>3</th>\n",
       "      <td>6039</td>\n",
       "      <td>117</td>\n",
       "      <td>5</td>\n",
       "      <td>NaN</td>\n",
       "    </tr>\n",
       "    <tr>\n",
       "      <th>4</th>\n",
       "      <td>6039</td>\n",
       "      <td>48</td>\n",
       "      <td>5</td>\n",
       "      <td>NaN</td>\n",
       "    </tr>\n",
       "  </tbody>\n",
       "</table>\n",
       "<p>836483 rows × 4 columns</p>\n",
       "</div>"
      ],
      "text/plain": [
       "    user_id  movie_id  count    timestamp\n",
       "0         0         0      5  978300760.0\n",
       "1         0         1      3  978302109.0\n",
       "2         0         2      3  978301968.0\n",
       "3         0         3      4  978300275.0\n",
       "4         0         4      5  978824291.0\n",
       "..      ...       ...    ...          ...\n",
       "0      6039        99      5          NaN\n",
       "1      6039       986      5          NaN\n",
       "2      6039       311      5          NaN\n",
       "3      6039       117      5          NaN\n",
       "4      6039        48      5          NaN\n",
       "\n",
       "[836483 rows x 4 columns]"
      ]
     },
     "execution_count": 14,
     "metadata": {},
     "output_type": "execute_result"
    }
   ],
   "source": [
    "temp_user_data = ratings['user_id'].map(user_to_idx.get).dropna()\n",
    "if len(temp_user_data) == len(ratings):   \n",
    "    print('user_id column indexing OK!!')\n",
    "    ratings['user_id'] = temp_user_data   \n",
    "else:\n",
    "    print('user_id column indexing Fail!!')\n",
    "\n",
    "temp_movies_data = ratings['movie_id'].map(movies_to_idx.get).dropna()\n",
    "if len(temp_movies_data) == len(ratings):\n",
    "    print('movies column indexing OK!!')\n",
    "    ratings['movie_id'] = temp_movies_data\n",
    "else:\n",
    "    print('movies column indexing Fail!!')\n",
    "\n",
    "ratings\n",
    "\n",
    "#우와! 무비 아이디로 넣었다고 되는게 신기함"
   ]
  },
  {
   "cell_type": "markdown",
   "metadata": {},
   "source": [
    "### 4. CSR matrix를 직접 만들어 봅시다. "
   ]
  },
  {
   "cell_type": "code",
   "execution_count": 15,
   "metadata": {},
   "outputs": [
    {
     "name": "stdout",
     "output_type": "stream",
     "text": [
      "0,836483\n",
      "Ratio of only_one over all data is 0.000000%\n"
     ]
    }
   ],
   "source": [
    "only_one = ratings[ratings['count']<3]\n",
    "one,all_data =len(only_one),len(ratings)\n",
    "print(f'{one},{all_data}')\n",
    "print(f'Ratio of only_one over all data is {one/all_data:2%}') \n",
    "#3미만은 모두 삭제함"
   ]
  },
  {
   "cell_type": "code",
   "execution_count": 16,
   "metadata": {},
   "outputs": [
    {
     "data": {
      "text/plain": [
       "<6040x3628 sparse matrix of type '<class 'numpy.int64'>'\n",
       "\twith 836483 stored elements in Compressed Sparse Row format>"
      ]
     },
     "execution_count": 16,
     "metadata": {},
     "output_type": "execute_result"
    }
   ],
   "source": [
    "from scipy.sparse import csr_matrix\n",
    "\n",
    "num_user = ratings['user_id'].nunique()\n",
    "num_movies = ratings['movie_id'].nunique()\n",
    "\n",
    "\n",
    "\n",
    "csr_data = csr_matrix((ratings['count'], (ratings.user_id,ratings.movie_id)),shape = (num_user,num_movies))\n",
    "csr_data"
   ]
  },
  {
   "cell_type": "markdown",
   "metadata": {},
   "source": [
    "### 5. als_model = AlternatingLeastSquares 모델을 직접 구성하여 훈련시켜 봅시다. "
   ]
  },
  {
   "cell_type": "code",
   "execution_count": 17,
   "metadata": {},
   "outputs": [],
   "source": [
    "from implicit.als import AlternatingLeastSquares\n",
    "import os\n",
    "import numpy as np\n",
    "\n",
    "os.environ['OPENBLAS_NUM_THREADS']='1'\n",
    "os.environ['KMP_DUPLICATE_LIB_OK']='True'\n",
    "os.environ['MKL_NUM_THREADS']='1'"
   ]
  },
  {
   "cell_type": "code",
   "execution_count": 18,
   "metadata": {},
   "outputs": [],
   "source": [
    "als_model = AlternatingLeastSquares(factors=1000, regularization=0.01, use_gpu=False, iterations=100, dtype=np.float32)"
   ]
  },
  {
   "cell_type": "code",
   "execution_count": 19,
   "metadata": {},
   "outputs": [
    {
     "data": {
      "text/plain": [
       "<3628x6040 sparse matrix of type '<class 'numpy.int64'>'\n",
       "\twith 836483 stored elements in Compressed Sparse Column format>"
      ]
     },
     "execution_count": 19,
     "metadata": {},
     "output_type": "execute_result"
    }
   ],
   "source": [
    "csr_data_transpose = csr_data.T\n",
    "csr_data_transpose"
   ]
  },
  {
   "cell_type": "code",
   "execution_count": 20,
   "metadata": {},
   "outputs": [
    {
     "data": {
      "application/vnd.jupyter.widget-view+json": {
       "model_id": "e66187caecc949cf931bbf5e6c49c8d9",
       "version_major": 2,
       "version_minor": 0
      },
      "text/plain": [
       "HBox(children=(FloatProgress(value=0.0), HTML(value='')))"
      ]
     },
     "metadata": {},
     "output_type": "display_data"
    },
    {
     "name": "stdout",
     "output_type": "stream",
     "text": [
      "\n"
     ]
    }
   ],
   "source": [
    "als_model.fit(csr_data_transpose)"
   ]
  },
  {
   "cell_type": "code",
   "execution_count": 22,
   "metadata": {},
   "outputs": [],
   "source": [
    "minje, m = user_to_idx['minje'], movies_to_idx[2858]\n",
    "minje_vector, m = als_model.user_factors[minje], als_model.item_factors[m]"
   ]
  },
  {
   "cell_type": "code",
   "execution_count": 23,
   "metadata": {},
   "outputs": [
    {
     "data": {
      "text/plain": [
       "array([-1.40539128e-02,  3.05406507e-02, -2.64236070e-02,  2.12192535e-01,\n",
       "        8.41539651e-02,  1.44212261e-01, -4.42454331e-02,  8.63520876e-02,\n",
       "        5.22930585e-02, -2.04888523e-01,  1.36393726e-01,  1.72523275e-01,\n",
       "       -1.75398722e-01,  4.35960218e-02, -5.00962771e-02, -8.12998340e-02,\n",
       "       -5.43136857e-02, -8.93302858e-02,  9.60494056e-02, -1.18892513e-01,\n",
       "       -4.83299829e-02,  4.14493531e-02,  9.44848880e-02, -1.95435569e-01,\n",
       "       -2.00889066e-01,  7.77408807e-03, -2.17279959e-02,  3.75228561e-02,\n",
       "        1.20168246e-01, -2.36865617e-02, -1.76379569e-02,  1.32830620e-01,\n",
       "       -1.24232555e-02,  1.16038367e-01, -9.86489877e-02, -9.40872282e-02,\n",
       "       -2.92318780e-02,  5.66696450e-02, -2.68462133e-02, -1.83238849e-01,\n",
       "       -4.12823893e-02,  1.76662728e-01,  9.55488011e-02,  2.11136043e-03,\n",
       "       -1.56875197e-02, -1.43646598e-02, -3.03084236e-02,  1.52933896e-01,\n",
       "       -5.16188778e-02,  6.22438304e-02, -4.15352210e-02,  6.10128082e-02,\n",
       "       -1.11827180e-01,  8.05222243e-02,  1.15012109e-01,  2.68160067e-02,\n",
       "       -2.19553094e-02,  5.19082742e-03, -1.87002644e-01,  5.25504649e-02,\n",
       "       -1.50019199e-01,  4.93878685e-02,  4.32539769e-02,  5.99403807e-04,\n",
       "        7.26427604e-03, -2.05789749e-02,  2.34646901e-01,  2.55632222e-01,\n",
       "       -1.02738142e-01, -1.63805131e-02, -3.67946550e-02,  1.11526705e-01,\n",
       "        2.96626054e-02, -2.00221147e-02, -1.01680726e-01,  1.95751756e-01,\n",
       "       -1.26396075e-01,  1.20481163e-01, -1.13714695e-01, -4.49260958e-02,\n",
       "       -1.24996081e-01,  3.09840590e-02,  2.29470953e-02,  1.87252209e-01,\n",
       "       -3.68063331e-01,  1.64026325e-03, -4.45289202e-02,  6.86637759e-02,\n",
       "        8.47704522e-03,  9.96577218e-02,  5.69250844e-02, -8.39074552e-02,\n",
       "       -4.63277549e-02, -2.08244056e-01, -1.67894349e-01, -4.97318245e-02,\n",
       "       -6.02248907e-02, -8.47383868e-03, -3.66654955e-02,  1.65288508e-01,\n",
       "       -2.43257046e-01, -1.18656971e-01, -2.47866046e-02,  1.18312195e-01,\n",
       "        6.48217052e-02,  4.24256325e-02, -8.40411782e-02, -1.12148829e-01,\n",
       "        1.04091186e-02, -1.09030969e-01,  9.48228836e-02,  3.02296355e-02,\n",
       "       -1.12901539e-01,  8.43485370e-02, -1.56136572e-01, -1.58160686e-01,\n",
       "        1.36803851e-01,  1.96567904e-02,  1.40444398e-01, -1.09988384e-01,\n",
       "       -9.19122696e-02, -1.37799293e-01,  4.20205146e-02, -1.69030622e-01,\n",
       "       -1.10783748e-01, -3.65367644e-02, -2.67029740e-02,  3.76576968e-02,\n",
       "       -4.38929088e-02, -1.47239670e-01,  6.18618168e-02,  2.96106394e-02,\n",
       "        2.14856602e-02,  1.20534152e-01, -2.45428130e-01, -5.56883179e-02,\n",
       "       -1.88218579e-02, -1.05165236e-01, -9.13270637e-02,  1.02233075e-01,\n",
       "       -1.39487028e-01, -7.42606297e-02,  2.33928561e-02, -8.97229929e-03,\n",
       "       -3.97494845e-02, -2.57299747e-02, -5.63760996e-02,  7.71393068e-03,\n",
       "       -3.16980407e-02,  1.67918712e-01, -2.16658507e-02, -6.66415542e-02,\n",
       "       -1.94335237e-01,  9.52165574e-02,  1.31724820e-01, -3.43463644e-02,\n",
       "       -1.84868574e-01,  8.00148174e-02, -1.69577189e-02,  1.94772452e-01,\n",
       "       -5.36520146e-02,  1.45427182e-01, -5.13536632e-02, -1.88386235e-02,\n",
       "       -1.47902504e-01,  5.63908070e-02, -1.13430962e-01,  9.39080790e-02,\n",
       "        4.52757217e-02, -1.38310090e-01,  1.61793604e-01,  7.66801462e-02,\n",
       "       -7.50406533e-02, -2.08456479e-02, -3.17099020e-02, -7.04605356e-02,\n",
       "        4.25259136e-02, -1.19399197e-01, -1.08446248e-01,  2.40782499e-01,\n",
       "       -5.59183247e-02,  2.51077592e-01,  1.33348942e-01,  6.39269277e-02,\n",
       "        1.23712607e-01,  1.17248945e-01,  4.90180328e-02,  2.77621392e-02,\n",
       "        6.84289262e-02,  2.11735249e-01, -9.83765647e-02, -1.29563203e-02,\n",
       "        2.16218662e-02,  8.67697224e-02, -1.70487180e-01,  2.89849900e-02,\n",
       "       -1.84841961e-01, -2.04532146e-02, -4.58056154e-03, -1.46115392e-01,\n",
       "        1.56385839e-01,  7.08798468e-02, -4.63356748e-02, -5.52129112e-02,\n",
       "       -1.42021209e-01,  6.91590132e-04, -1.32034153e-01,  5.51141724e-02,\n",
       "       -8.33102837e-02,  1.07078138e-03, -9.69397128e-02,  6.10551238e-02,\n",
       "        5.76879010e-02, -7.12403581e-02,  1.05223142e-01,  1.59843400e-01,\n",
       "       -1.29796237e-01,  3.00139517e-01,  4.29969691e-02, -2.47665197e-02,\n",
       "       -9.03267786e-02, -1.10457145e-01,  2.41558224e-01, -1.65125698e-01,\n",
       "        2.07223520e-01, -1.09719574e-01, -7.11776540e-02, -9.62147117e-02,\n",
       "       -1.80253778e-02,  4.42523286e-02, -1.32816717e-01,  1.08429514e-01,\n",
       "        2.72698462e-01, -1.10035308e-01, -6.92836270e-02,  9.21477824e-02,\n",
       "       -1.27758337e-02,  6.43858388e-02, -1.40593573e-01, -1.85391195e-02,\n",
       "       -7.18223602e-02,  8.30887409e-04,  9.30776447e-03,  1.03897065e-01,\n",
       "        6.91407993e-02, -3.11179280e-01, -1.59266904e-01, -1.71516985e-01,\n",
       "       -2.25771353e-01, -6.77439477e-03,  1.01300247e-01, -8.49892572e-02,\n",
       "        1.62325174e-01,  8.65104944e-02, -2.88722068e-02, -3.43459621e-02,\n",
       "       -1.02182418e-01, -1.15967676e-01,  6.19783066e-03,  2.71558821e-01,\n",
       "        1.10185156e-02, -1.32378325e-01,  2.19256788e-01,  2.13031143e-01,\n",
       "        1.48599297e-01, -3.36239338e-02, -3.74084897e-02, -1.60336569e-01,\n",
       "        1.37754366e-01,  6.62525371e-02, -6.48840293e-02,  1.00431949e-01,\n",
       "        1.34208426e-01,  7.74954110e-02, -4.33287956e-02,  3.94055247e-02,\n",
       "       -1.13782674e-01,  4.29767258e-02,  9.37526226e-02,  3.63058262e-02,\n",
       "       -1.72867030e-01,  2.03469276e-01, -1.72490209e-01, -2.93613365e-03,\n",
       "        7.85898641e-02, -5.10613155e-03,  7.68765807e-03, -1.33532241e-01,\n",
       "        6.34243786e-02,  7.29577988e-02, -2.27237791e-01, -1.21185534e-01,\n",
       "       -1.81027036e-02,  9.44136307e-02,  6.16304623e-03, -3.35293233e-01,\n",
       "        6.52623028e-02,  1.11648351e-01, -5.51570691e-02, -2.54853398e-01,\n",
       "        6.11750185e-02, -3.59186195e-02,  2.55037881e-02, -5.62126711e-02,\n",
       "        1.20800454e-02,  4.92968503e-03,  6.11294806e-02,  1.47481693e-03,\n",
       "       -5.45908846e-02, -9.54211503e-03,  1.27108291e-01, -6.48510009e-02,\n",
       "       -7.24010468e-02, -1.32185236e-01, -1.30763873e-01,  4.68570963e-02,\n",
       "        3.92257934e-03,  1.92479417e-01,  2.24151146e-02, -1.25846207e-01,\n",
       "        1.21795751e-01,  1.02244951e-01, -1.01926543e-01, -1.73478220e-02,\n",
       "        5.87615408e-02, -2.54486185e-02, -1.59882799e-01,  8.36566314e-02,\n",
       "        5.61923161e-02,  2.88082771e-02,  4.91409600e-02, -2.12763790e-02,\n",
       "        1.00604510e-02, -1.07415654e-01,  4.12452370e-02, -1.05864070e-01,\n",
       "       -6.46224692e-02, -5.26172221e-02, -1.12164486e-02,  1.20559551e-01,\n",
       "        1.30887777e-01, -1.23772085e-01,  1.08289704e-01, -4.37192433e-02,\n",
       "        3.21212374e-02,  9.91329923e-02, -6.26553297e-02,  7.33082741e-02,\n",
       "       -3.27672511e-01,  3.64841968e-01,  8.04015398e-02,  1.01681508e-01,\n",
       "        8.48310888e-02, -6.84768260e-02,  1.10438988e-01,  8.80661607e-02,\n",
       "        6.19047806e-02,  1.20889299e-01, -3.96443531e-02,  1.60860941e-01,\n",
       "       -2.08524000e-02, -5.28220460e-02, -2.01622263e-01, -7.04259723e-02,\n",
       "        1.27053317e-02,  6.82187900e-02,  6.11324795e-02,  2.70173931e-03,\n",
       "        9.54864919e-02,  1.32635519e-01,  3.55631299e-02,  7.55202174e-02,\n",
       "       -7.49914572e-02,  1.41659021e-01,  1.28806382e-03,  1.67872190e-01,\n",
       "       -9.26274657e-02, -2.11664215e-01, -3.04394439e-02, -6.12983555e-02,\n",
       "        5.41449375e-02, -1.69867352e-01,  5.40961027e-02,  2.13373103e-03,\n",
       "        1.62226737e-01,  1.07032597e-01,  1.08418971e-01, -1.01881832e-01,\n",
       "        2.58109719e-01,  1.75334848e-02, -7.30910376e-02,  7.13577792e-02,\n",
       "        4.25133444e-02,  5.96548580e-02, -1.11166462e-02, -1.13099769e-01,\n",
       "        7.37567171e-02, -1.33372605e-01,  2.01584920e-02,  6.04136195e-03,\n",
       "        3.62518914e-02, -1.98697940e-01,  6.24376796e-02, -1.85169578e-01,\n",
       "       -4.99519259e-02,  1.40661880e-01, -1.04768604e-01, -3.45078893e-02,\n",
       "       -4.12357226e-02, -2.92570621e-01,  1.05620183e-01, -3.56308445e-02,\n",
       "        7.72419423e-02,  1.06393583e-01, -2.20641308e-02,  5.49954548e-02,\n",
       "       -4.74642217e-02,  1.41744405e-01,  5.76996207e-02,  1.19164795e-01,\n",
       "       -1.97557807e-02,  1.46098658e-01,  2.02214345e-02, -6.05877377e-02,\n",
       "        1.00713231e-01,  1.34771556e-01,  4.20124121e-02, -1.53244913e-01,\n",
       "        2.87653562e-02, -3.01269405e-02,  8.59578103e-02,  1.59497671e-02,\n",
       "        3.04598063e-02, -1.40275493e-01, -1.32614031e-01,  1.72406048e-01,\n",
       "       -2.80977204e-03,  1.61660656e-01,  1.37252063e-01, -1.73469737e-01,\n",
       "        3.15550081e-02,  2.10416645e-01,  6.10442758e-02, -2.21385792e-01,\n",
       "        1.37835965e-01, -7.23314956e-02, -1.01497330e-01,  1.92319471e-02,\n",
       "       -7.33100548e-02,  1.98214322e-01,  6.76592737e-02, -1.79474074e-02,\n",
       "        7.38556534e-02,  3.59172300e-02,  1.44451588e-01, -8.22605640e-02,\n",
       "       -1.95790194e-02,  8.99878591e-02,  1.19538978e-01,  4.02541682e-02,\n",
       "        1.73733458e-01,  2.74500400e-01, -2.55784187e-02,  4.92703728e-02,\n",
       "        4.10860591e-02, -5.25823981e-02,  2.06798241e-01, -2.10524201e-01,\n",
       "        2.35870406e-02, -2.14587082e-03, -4.75834273e-02,  8.06725621e-02,\n",
       "       -9.43974592e-03, -1.47707626e-01, -4.77766581e-02,  1.32862270e-01,\n",
       "       -3.72848064e-02, -2.80445442e-02,  7.73859248e-02, -4.68259975e-02,\n",
       "        8.08079615e-02, -5.15440153e-03, -4.42296416e-02, -1.14558395e-02,\n",
       "       -1.69636995e-01, -1.01458974e-01, -3.49442631e-01, -1.13629602e-01,\n",
       "       -8.87744650e-02,  1.70651942e-01,  1.22807272e-01,  4.44698855e-02,\n",
       "       -9.59710963e-03, -6.91742375e-02,  2.18305930e-01, -1.46746501e-01,\n",
       "       -1.67566657e-01, -6.96102306e-02,  1.46270007e-01,  2.08359919e-02,\n",
       "        5.32393418e-02, -2.82711163e-02, -7.64981657e-02, -6.02026805e-02,\n",
       "       -7.15782195e-02, -3.27726603e-01, -3.41905989e-02,  5.58165251e-04,\n",
       "       -7.41009414e-02,  4.95561622e-02,  1.67358518e-02,  7.01236352e-02,\n",
       "        1.35328621e-01,  2.02960402e-01, -6.56783208e-02,  6.03283159e-02,\n",
       "       -2.22356878e-02,  2.42748380e-01, -3.44619039e-03, -4.16144496e-03,\n",
       "        2.46912688e-01,  1.43881038e-01, -7.72557035e-02,  3.92936692e-02,\n",
       "       -6.35864493e-03, -1.94158942e-01, -1.24035113e-01,  1.32402107e-01,\n",
       "        9.33031440e-02, -5.53656034e-02, -9.25434604e-02,  2.44628899e-02,\n",
       "        8.27305764e-02,  1.69972673e-01,  1.30878966e-02,  3.46621200e-02,\n",
       "       -3.98207009e-02,  1.23969704e-01,  4.66780253e-02, -1.35140195e-01,\n",
       "       -7.97263533e-02, -2.34765723e-01,  1.23639479e-01, -1.96825355e-01,\n",
       "       -1.37977719e-01,  3.87292951e-02,  1.11808598e-01,  8.32101181e-02,\n",
       "        2.12544925e-03, -1.25828549e-01, -1.50725231e-01, -1.42060071e-01,\n",
       "       -2.40916789e-01,  4.59547713e-03, -6.06161319e-02,  1.27999946e-01,\n",
       "       -1.58713654e-01,  2.02471197e-01, -2.04824120e-01,  3.00442949e-02,\n",
       "       -1.42372429e-01, -3.24197412e-02, -6.90932646e-02, -9.01489407e-02,\n",
       "        1.88741833e-01, -5.38227111e-02,  2.64842473e-02, -3.59329917e-02,\n",
       "        1.57112151e-01,  9.98344347e-02,  1.46839261e-01, -8.94196555e-02,\n",
       "        1.11660630e-01,  3.76960412e-02,  1.27514929e-01, -3.05238008e-01,\n",
       "        4.73335832e-02, -1.67207941e-01, -1.00794397e-01,  1.14225643e-02,\n",
       "        7.51562417e-02, -4.06934232e-01, -5.25070317e-02, -9.67016369e-02,\n",
       "        2.20346346e-01, -6.69047311e-02,  7.05334917e-02, -1.50415555e-01,\n",
       "        1.45808086e-02, -2.13876907e-02, -1.92439914e-01, -2.19996758e-02,\n",
       "       -1.02560677e-01,  3.78116518e-02,  5.22551946e-02,  2.42344681e-02,\n",
       "        2.01786906e-01, -1.56060934e-01, -8.18853229e-02, -7.33814910e-02,\n",
       "       -1.44466400e-01,  9.73660499e-02, -3.11628077e-02, -1.28641516e-01,\n",
       "        2.37881765e-03,  3.64640020e-02,  1.67579696e-01,  1.83377191e-02,\n",
       "        1.51904030e-02, -8.79698433e-03, -9.89866629e-02,  4.84846234e-02,\n",
       "       -1.14894122e-01,  1.33118182e-02,  2.34802976e-01, -7.38506094e-02,\n",
       "        1.08262561e-02, -1.00735296e-02,  1.37197345e-01,  1.14974871e-01,\n",
       "        1.69709653e-01,  1.16377153e-01, -9.34807062e-02,  2.29553264e-02,\n",
       "        8.98654684e-02, -2.70653274e-02,  1.67516500e-01, -2.35800400e-01,\n",
       "        9.41281989e-02,  1.30208015e-01,  4.69091535e-03, -4.76974919e-02,\n",
       "       -9.79479626e-02, -1.13044970e-01, -5.80928326e-02, -7.34703019e-02,\n",
       "        2.30892628e-01,  4.66275699e-02,  1.05020339e-02, -1.42261997e-01,\n",
       "        2.84429733e-02, -9.68818814e-02, -7.70174786e-02,  1.64803211e-02,\n",
       "       -9.71632972e-02, -2.44942874e-01, -4.84844558e-02, -1.51044965e-01,\n",
       "        1.99907482e-01,  1.19889967e-01, -8.93436447e-02,  1.16528742e-01,\n",
       "       -4.04894911e-02,  5.52362315e-02,  1.23477727e-01,  2.60676577e-04,\n",
       "        3.43428217e-02, -1.86018303e-01,  1.42450303e-01,  1.51796520e-01,\n",
       "       -4.15912457e-02, -8.66006091e-02, -2.76196562e-02, -1.95379511e-01,\n",
       "        6.80975690e-02, -1.33271605e-01, -7.09132105e-02, -8.84277225e-02,\n",
       "       -1.54874735e-02,  2.94233616e-02,  5.05325869e-02,  1.57724142e-01,\n",
       "        3.68174285e-01, -2.03154668e-01,  7.69377202e-02,  7.44061992e-02,\n",
       "       -9.07927975e-02,  6.11366741e-02,  1.18592732e-01, -1.62281930e-01,\n",
       "       -1.52499318e-01, -7.43184835e-02, -1.03676230e-01,  7.60894343e-02,\n",
       "       -1.58123687e-01, -8.60494822e-02,  1.45188898e-01, -5.99218309e-02,\n",
       "        1.23024024e-01, -4.00671735e-02,  7.28854630e-03, -5.28486259e-02,\n",
       "        4.46592793e-02, -4.48180512e-02,  2.88388342e-01, -2.08308861e-01,\n",
       "       -1.63690045e-01,  1.37197599e-01, -2.28019774e-01,  2.14115128e-01,\n",
       "        1.15924329e-01,  2.03241169e-01,  1.74890772e-01,  1.78769037e-01,\n",
       "        7.62252733e-02, -4.31714766e-02, -2.35814333e-01, -6.87124208e-02,\n",
       "        1.37335628e-01, -5.96543476e-02, -2.45857500e-02, -1.27532676e-01,\n",
       "        8.59120674e-03, -1.22678593e-01, -3.63902748e-02,  1.27745822e-01,\n",
       "        4.86207046e-02,  5.65007888e-02,  9.96196792e-02,  1.33942723e-01,\n",
       "       -1.61921829e-02,  5.51596843e-02,  2.79158242e-02,  7.76023045e-02,\n",
       "        9.47003346e-03,  1.59919158e-01,  1.42839685e-01, -1.52672544e-01,\n",
       "       -2.77843177e-01,  3.07760183e-02, -1.28296673e-01, -2.56063014e-01,\n",
       "        2.27099605e-04, -3.25487182e-02, -4.59974073e-02,  6.85857534e-02,\n",
       "       -7.39889517e-02, -2.03278214e-01,  2.13928357e-01,  2.37441566e-02,\n",
       "       -8.37464258e-02,  1.81828097e-01, -9.22842994e-02, -1.69077083e-01,\n",
       "       -6.60249218e-02,  1.72738448e-01,  3.39031965e-02, -5.32783978e-02,\n",
       "        3.31919342e-02, -1.78634538e-03,  5.20104654e-02,  3.84250641e-01,\n",
       "       -5.38819842e-02, -2.22599626e-01, -9.38439369e-03,  4.93438877e-02,\n",
       "       -1.28665522e-01,  7.16087073e-02,  2.00488299e-01,  5.17882481e-02,\n",
       "        9.42407548e-02, -4.38432209e-02, -1.41244277e-01, -2.07542963e-02,\n",
       "       -1.13938600e-01,  1.14524074e-01,  2.82852557e-02,  4.47771996e-02,\n",
       "        1.50794074e-01, -6.02223165e-02, -1.63449287e-01, -1.95493355e-01,\n",
       "        4.15904075e-03,  1.44881755e-03,  2.19804138e-01, -4.75537106e-02,\n",
       "        7.19645694e-02, -8.39162320e-02,  6.78803101e-02, -6.19945191e-02,\n",
       "       -4.34283689e-02,  6.96026534e-02,  1.06270656e-01,  4.78198156e-02,\n",
       "        6.32940307e-02, -2.44341767e-03, -5.48948087e-02,  1.18916288e-01,\n",
       "        8.28662142e-02,  4.93393801e-02, -1.11150071e-02,  1.26488015e-01,\n",
       "        1.66782481e-03, -5.86973205e-02,  6.43774569e-02, -5.40445410e-02,\n",
       "       -3.48221026e-02,  7.10419118e-02, -1.82951912e-01, -5.69060482e-02,\n",
       "       -3.95723581e-01,  3.37142646e-02, -7.68090189e-02,  3.20908800e-02,\n",
       "        1.37627810e-01,  7.45187402e-02, -3.58278379e-02,  6.88687637e-02,\n",
       "       -3.04168403e-01,  6.04405254e-02, -2.15190351e-02,  4.29944247e-02,\n",
       "        1.87176213e-01,  9.95709822e-02, -1.04247913e-01, -7.86547288e-02,\n",
       "        1.01691268e-01, -9.16804001e-02,  8.87609348e-02,  1.25537634e-01,\n",
       "       -2.63321083e-02, -5.96352294e-02, -2.05656141e-01, -1.25991300e-01,\n",
       "       -3.30404192e-01, -3.67323495e-02, -8.00055563e-02,  1.50336996e-01,\n",
       "       -1.02280788e-01, -7.02944994e-02,  3.55476998e-02, -1.65410955e-02,\n",
       "        3.50072980e-02, -7.28704855e-02, -5.30073307e-02,  1.13784693e-01,\n",
       "        2.24975497e-02,  9.03515890e-02,  1.03959516e-01, -1.55157685e-01,\n",
       "        2.35520840e-01,  6.05948605e-02, -1.04379065e-01, -1.01225302e-01,\n",
       "       -1.24189526e-01, -2.24743381e-01,  4.87099495e-03, -1.07872915e-02,\n",
       "       -2.29348317e-02,  1.32220551e-01, -1.22192493e-02,  1.42009094e-01,\n",
       "        9.73900966e-03, -2.53677256e-02,  1.04346294e-02,  1.13628991e-01,\n",
       "       -2.05777977e-02,  2.88331695e-02, -2.05506548e-01, -1.42061740e-01,\n",
       "       -8.45471919e-02,  7.67977163e-02, -8.38594697e-03, -2.36422066e-02,\n",
       "        1.39530957e-01, -1.33186817e-01,  1.42984793e-01, -4.95689176e-02,\n",
       "        5.26523106e-02, -7.49807656e-02,  1.74380802e-02, -6.86113238e-02,\n",
       "       -1.79641455e-01, -7.68743157e-02,  8.37683082e-02, -1.81158900e-01,\n",
       "        4.48362380e-02, -1.20244667e-01,  8.40779170e-02, -1.94394663e-01,\n",
       "       -2.65885293e-02, -2.63344020e-01, -6.55458421e-02, -2.49971375e-02,\n",
       "       -9.14226547e-02, -9.80700403e-02,  2.87615042e-02, -7.94574339e-03,\n",
       "       -1.27144247e-01,  1.61385745e-01,  1.26311824e-01, -1.53835490e-01,\n",
       "        2.56752633e-02, -1.12102643e-01,  9.36683416e-02,  1.42784089e-01,\n",
       "       -6.48775175e-02, -2.62065660e-02, -1.20423801e-01,  2.18780078e-02,\n",
       "        9.61120352e-02,  1.18286498e-01, -4.85209785e-02,  1.66145757e-01,\n",
       "        5.81754148e-02, -8.68025422e-02,  1.85554586e-02,  6.83868378e-02,\n",
       "       -7.76534230e-02, -8.05389602e-03, -1.39321491e-01, -1.56449601e-01,\n",
       "       -1.13354929e-01,  6.04145378e-02, -1.19895630e-01, -5.19285165e-02,\n",
       "       -7.30198473e-02, -1.54588213e-02, -1.62224211e-02,  5.86502813e-02,\n",
       "       -2.39970759e-02,  5.49850389e-02,  1.79322958e-01,  6.24999255e-02,\n",
       "        2.65003592e-01,  7.44914263e-02,  7.45092984e-03,  1.11843668e-01,\n",
       "        1.24572024e-01,  6.92048967e-02,  7.57453069e-02,  1.37366652e-01,\n",
       "        2.55677272e-02,  3.10182627e-02, -1.06630791e-02, -2.09225547e-02,\n",
       "        8.17493349e-02,  1.15192406e-01,  1.02462158e-01, -5.09877764e-02,\n",
       "       -8.34621117e-02, -1.53857563e-02, -5.63197322e-02, -1.32580847e-01,\n",
       "       -2.91955739e-01,  1.96249768e-01, -2.51971986e-02, -1.46202892e-01,\n",
       "        2.15436697e-01, -9.79988500e-02,  6.78999275e-02,  9.61092785e-02,\n",
       "       -1.41034603e-01, -1.23612247e-02,  1.35483900e-02, -4.28235121e-02,\n",
       "        5.00681028e-02,  1.06642149e-01,  1.11707918e-01,  5.10563934e-03,\n",
       "       -1.01369500e-01, -8.76209959e-02,  4.93681505e-02,  1.23023577e-02,\n",
       "        1.34665087e-01,  5.57089150e-02,  2.67487288e-01, -6.93752691e-02,\n",
       "        1.32743999e-01, -6.16590157e-02, -1.47060543e-01, -1.09391913e-01,\n",
       "       -1.84052914e-01,  1.64142728e-01, -1.19355485e-01,  2.13412613e-01,\n",
       "        3.11705079e-02, -6.22078888e-02,  2.81767458e-01, -1.69904634e-01,\n",
       "        5.91329485e-02, -5.15918471e-02,  2.05172837e-01, -9.70437005e-02,\n",
       "        5.87753952e-02,  2.39322726e-02,  1.37077302e-01, -9.56863686e-02,\n",
       "       -1.68781862e-01,  7.37962946e-02,  1.62000477e-01,  2.31862962e-01,\n",
       "        1.19802095e-02, -3.98344826e-04, -5.15140034e-02,  9.06781405e-02,\n",
       "       -1.11519389e-01, -1.06366217e-01,  5.20756915e-02, -5.26503194e-03],\n",
       "      dtype=float32)"
      ]
     },
     "execution_count": 23,
     "metadata": {},
     "output_type": "execute_result"
    }
   ],
   "source": [
    "minje_vector"
   ]
  },
  {
   "cell_type": "code",
   "execution_count": 24,
   "metadata": {},
   "outputs": [
    {
     "data": {
      "text/plain": [
       "array([-1.31910145e-02,  1.33689176e-02, -1.10711362e-02,  5.92903979e-03,\n",
       "        8.54512211e-03,  1.75750330e-02, -5.06115844e-03, -1.23147778e-02,\n",
       "        2.41983961e-02, -1.27103953e-02,  2.47083269e-02,  2.88766157e-02,\n",
       "        3.56378104e-03,  1.51056536e-02, -5.50292805e-03,  2.32637990e-02,\n",
       "        9.55655240e-03, -1.30235804e-02, -1.74554065e-02,  2.87376102e-02,\n",
       "       -9.96666029e-03, -1.66255329e-02, -1.00464569e-02,  1.79157797e-02,\n",
       "       -2.44214833e-02,  4.89103375e-03, -1.77869871e-02, -9.31286626e-03,\n",
       "        2.16166694e-02, -1.22693097e-02,  3.17299291e-02,  1.25633217e-02,\n",
       "       -1.84680000e-02,  1.93049423e-02, -2.11153049e-02,  3.04074157e-02,\n",
       "       -1.77690946e-02,  9.33377724e-03,  3.02797370e-02, -3.51517200e-02,\n",
       "       -3.75973992e-02,  2.70215888e-02,  2.37416234e-02,  2.76226960e-02,\n",
       "        5.16621536e-03,  1.75554231e-02,  3.30355391e-02, -1.01921801e-02,\n",
       "       -1.52936147e-03, -9.58501548e-03, -5.98992687e-03,  1.10651888e-02,\n",
       "       -7.48507492e-03,  2.30876319e-02,  2.72885561e-02,  2.33087428e-02,\n",
       "        3.43834865e-03,  9.80513636e-03, -1.02048395e-02, -2.58262064e-02,\n",
       "        1.11175328e-02,  3.88178863e-02, -1.41808938e-04, -1.55057926e-02,\n",
       "       -6.05361210e-03,  2.76297331e-02,  1.51800457e-02,  3.38730402e-02,\n",
       "       -1.59519855e-02,  9.99598764e-03,  4.26563201e-03,  4.03557159e-02,\n",
       "        3.97030526e-04, -1.27924802e-02,  3.46271805e-02,  1.32896109e-02,\n",
       "       -1.18398508e-02,  1.03592603e-02, -1.99860893e-02, -3.03132087e-02,\n",
       "        6.25619059e-03,  2.46486608e-02,  2.36860160e-02,  1.16710283e-03,\n",
       "       -1.08520966e-02, -1.45495972e-02, -1.56203518e-02,  2.51845326e-02,\n",
       "        1.18550807e-02,  3.60507555e-02,  1.76832248e-02, -1.40495636e-02,\n",
       "       -1.60373785e-02, -2.44274139e-02,  1.06021073e-02, -8.71652085e-03,\n",
       "        4.85727238e-03, -1.76951773e-02,  4.61301766e-03,  2.66426839e-02,\n",
       "        1.52037311e-02,  8.02101754e-03,  2.23883637e-03,  2.91938167e-02,\n",
       "        2.32538693e-02,  4.03628126e-03,  1.77291501e-02,  2.49098893e-03,\n",
       "        4.98029077e-03, -2.24679131e-02, -1.26495836e-02,  6.28540711e-03,\n",
       "        4.71814210e-03,  3.59726362e-02, -1.10203670e-02, -2.48924475e-02,\n",
       "        3.81149314e-02,  2.18242500e-02,  3.03582717e-02, -1.00793485e-02,\n",
       "        1.07290805e-03, -8.61410424e-03,  1.79600120e-02, -9.09778289e-03,\n",
       "       -9.18098725e-04,  3.62894014e-02,  2.70767417e-02,  2.54507679e-02,\n",
       "       -8.64388142e-03, -8.53713020e-04,  1.82023384e-02,  3.47457789e-02,\n",
       "        3.93679589e-02,  6.32929802e-03,  1.88794527e-02, -1.32570509e-02,\n",
       "        2.54605357e-02, -2.14894824e-02, -2.60862857e-02, -2.30761766e-02,\n",
       "       -2.14782599e-02, -2.49614995e-02, -1.05512040e-02,  1.14436867e-02,\n",
       "        2.83669047e-02, -1.38930222e-02,  5.43483421e-02,  3.02311815e-02,\n",
       "        2.11783424e-02,  2.47023739e-02,  2.69803277e-04, -1.24194939e-02,\n",
       "       -2.06618793e-02,  2.46198452e-03,  2.19676197e-02, -2.58821826e-02,\n",
       "        1.11855166e-02,  1.72337436e-03,  4.41104323e-02, -1.23336806e-03,\n",
       "       -2.24465672e-02, -1.39782885e-02,  2.92620137e-02, -6.28372841e-03,\n",
       "       -1.42104290e-02,  9.06777196e-03, -1.37466118e-02,  1.08947214e-02,\n",
       "       -7.91165605e-03, -1.79951023e-02,  9.28273331e-03,  8.11296888e-03,\n",
       "       -3.48446611e-03, -8.68656114e-03, -1.07108336e-02,  2.05013272e-03,\n",
       "        2.67142095e-02, -4.97447280e-03,  9.38082207e-03,  9.06842947e-03,\n",
       "       -8.83762818e-03,  1.54172760e-02,  2.49984296e-04,  7.98448734e-03,\n",
       "        7.94925634e-03,  5.56889828e-03, -5.14205731e-03,  4.08659987e-02,\n",
       "        1.74651109e-02, -2.06122883e-02, -2.90545616e-02,  1.65055543e-02,\n",
       "        4.42697257e-02, -2.43663806e-02, -2.14314573e-02,  4.25588293e-03,\n",
       "       -1.69451889e-02, -1.58740003e-02,  2.56083161e-02,  8.27814173e-03,\n",
       "        3.06210313e-02,  5.63486363e-04, -3.04912440e-02,  2.13255212e-02,\n",
       "       -2.66353413e-03, -1.92463454e-02,  1.20367846e-02,  1.63561497e-02,\n",
       "       -2.42435765e-02, -1.37130301e-02, -3.17914896e-02,  1.41207241e-02,\n",
       "        1.50928227e-02,  2.65847482e-02,  2.02578250e-02,  2.39271577e-02,\n",
       "        1.49797508e-03,  3.60077880e-02,  3.39746010e-03,  4.56662558e-04,\n",
       "       -4.84865298e-03, -2.76531298e-02,  4.16780673e-02,  1.69104878e-02,\n",
       "        3.16088200e-02, -6.48782589e-03,  3.74268251e-03, -1.94445029e-02,\n",
       "        6.02848711e-04,  1.86936893e-02,  2.22425852e-02,  1.80524942e-02,\n",
       "        3.85038443e-02,  3.28440927e-02, -4.30668937e-03,  4.19473611e-02,\n",
       "        7.26801157e-03,  1.30909001e-02, -2.48930492e-02, -1.03491656e-02,\n",
       "        1.16899353e-03,  1.83295496e-02,  1.61276039e-04,  1.14658661e-02,\n",
       "        2.04727594e-02,  2.50256471e-02,  7.53049180e-03, -5.35940472e-03,\n",
       "       -1.65525340e-02, -7.41541944e-03, -8.04616231e-03, -9.38913692e-03,\n",
       "        3.30293216e-02,  2.36360170e-02,  1.25996191e-02,  1.25933094e-02,\n",
       "       -4.75225644e-03,  2.45280489e-02,  2.15946082e-02,  4.33345772e-02,\n",
       "       -3.20015885e-02, -2.23464295e-02,  3.74153070e-02,  3.69911604e-02,\n",
       "        3.93458270e-02,  1.57973357e-02,  7.04303849e-03, -1.97377242e-02,\n",
       "        9.17749200e-03, -8.61952454e-03, -1.24425534e-02,  1.09716309e-02,\n",
       "        1.21930614e-02,  3.06253824e-02, -1.51548972e-02, -1.91538711e-04,\n",
       "        1.11161917e-03, -2.04987060e-02,  4.59294431e-02, -1.76418363e-03,\n",
       "       -2.27180645e-02,  3.09207588e-02,  9.80598945e-03, -1.72188152e-02,\n",
       "        3.34039554e-02,  3.11768167e-02, -1.91814341e-02,  2.39353534e-02,\n",
       "        3.53980288e-02,  2.23467238e-02, -1.67797934e-02, -9.95764416e-03,\n",
       "       -5.52571006e-03,  2.79549882e-02,  1.55141046e-02, -3.64027098e-02,\n",
       "       -1.69236604e-02,  2.18937788e-02,  1.48654711e-02, -1.65703893e-02,\n",
       "        2.65538786e-02, -4.80906526e-03,  2.23188587e-02, -2.88222302e-02,\n",
       "        4.71259020e-02,  2.87711695e-02, -6.66858722e-03, -3.27159911e-02,\n",
       "       -1.85172912e-02,  1.02090873e-02,  2.69523263e-02, -2.76882388e-03,\n",
       "        7.15553621e-03, -2.19747853e-02, -1.26605732e-02, -1.58051439e-02,\n",
       "        3.86272147e-02,  2.69693751e-02,  3.53462659e-02, -1.74435936e-02,\n",
       "       -2.00779396e-04,  2.98937038e-02,  1.42164743e-02, -1.03693679e-02,\n",
       "        6.93486165e-03,  2.22383090e-03, -3.12738568e-02, -4.04443312e-03,\n",
       "        1.23336818e-02,  2.80225347e-03, -9.10062343e-03,  2.37414390e-02,\n",
       "       -4.65469621e-03, -2.83870343e-02,  2.78790314e-02, -2.42422428e-02,\n",
       "        1.61181130e-02,  1.12698600e-02, -5.58849005e-03,  2.21283399e-02,\n",
       "       -1.44755766e-02, -1.99317820e-02, -3.72484960e-02,  2.82341167e-02,\n",
       "        1.56919174e-02,  9.18332022e-03, -1.16048530e-02,  1.57095995e-02,\n",
       "       -2.99246460e-02,  2.77980547e-02,  8.10228009e-03,  4.88558263e-02,\n",
       "        6.12405315e-03,  1.17382249e-02, -1.09103946e-02,  5.11700893e-03,\n",
       "        1.17364805e-02,  3.34783643e-02,  1.14237331e-02,  1.52326876e-03,\n",
       "       -1.37205692e-02, -3.03913467e-03, -4.00982164e-02,  2.02848166e-02,\n",
       "       -1.77680682e-02,  6.11630082e-03,  5.97273558e-03,  8.48104432e-03,\n",
       "        6.83185505e-03,  1.36649085e-03,  4.49320674e-03, -1.06055746e-02,\n",
       "       -1.78935798e-03,  1.87895522e-02,  2.24896017e-02, -5.46656735e-03,\n",
       "        1.17496448e-02, -2.24386360e-02,  3.45267951e-02, -2.60925415e-04,\n",
       "        1.17360242e-02,  1.47630442e-02,  2.46840417e-02,  2.87241787e-02,\n",
       "        2.56692972e-02,  4.05282155e-02,  2.50121243e-02,  4.48763883e-03,\n",
       "        4.32807989e-02, -1.38250832e-02, -4.18098085e-03,  2.80503072e-02,\n",
       "        1.14811752e-02,  2.05084775e-02,  2.16478743e-02, -1.03715202e-02,\n",
       "        2.72944011e-03, -2.16794219e-02, -1.52673740e-02,  9.41160228e-03,\n",
       "       -5.79984486e-03, -1.98418647e-02,  2.25625914e-02, -1.64467841e-02,\n",
       "       -7.03851273e-03, -2.50725658e-03,  8.27487651e-03,  1.77989248e-02,\n",
       "       -1.73108689e-02, -1.76777896e-02,  1.62344538e-02, -1.38643449e-02,\n",
       "        1.30848167e-02,  3.30924727e-02,  1.78982574e-03,  3.00690215e-02,\n",
       "        1.01487581e-02,  2.12004669e-02,  3.72878835e-02, -7.34743103e-03,\n",
       "       -1.46401366e-02,  1.72155891e-02,  5.28023988e-02, -3.14267091e-02,\n",
       "       -2.24137004e-03, -1.00688338e-02, -1.21738203e-02, -2.97791827e-02,\n",
       "        2.65759472e-02, -1.54364966e-02,  2.84481216e-02,  3.44035141e-02,\n",
       "       -2.31922232e-02,  2.30011307e-02, -1.31131941e-02,  2.71282047e-02,\n",
       "       -2.04946985e-03,  1.21055515e-02,  2.90720817e-02, -1.93889327e-02,\n",
       "        5.78780472e-03,  2.99336631e-02,  1.93718169e-02, -2.63379849e-02,\n",
       "        1.44838812e-02, -2.77145635e-02,  3.10837608e-02,  1.34627307e-02,\n",
       "        2.36059558e-02,  3.76697294e-02,  3.61555181e-02,  1.45838037e-02,\n",
       "       -3.49055566e-02,  2.81944554e-02,  2.36197636e-02,  1.84323527e-02,\n",
       "       -3.85288266e-03,  6.31426973e-03, -8.98817927e-03,  1.44819319e-02,\n",
       "        1.66981108e-02,  1.32231396e-02,  4.37137345e-03,  7.24013103e-03,\n",
       "        1.70102194e-02, -1.37745757e-02,  7.10555166e-03, -4.26353700e-03,\n",
       "        2.89491490e-02,  9.99110378e-03, -8.22715554e-03, -1.56423468e-02,\n",
       "       -3.78662231e-03, -2.25692485e-02,  1.48466544e-03,  1.36349937e-02,\n",
       "       -1.94552340e-04,  2.95686498e-02,  3.31377052e-02,  1.84321888e-02,\n",
       "        2.79052742e-02,  2.84158085e-02,  1.16032884e-02,  1.65823214e-02,\n",
       "       -1.84020270e-02,  2.11817287e-02, -2.51316894e-02,  3.16426344e-02,\n",
       "       -1.00240605e-02,  2.02776454e-02, -3.08146607e-02,  2.72329152e-02,\n",
       "        2.04117922e-03,  1.02064582e-02,  1.09977471e-02,  1.30999892e-03,\n",
       "        9.97963175e-03,  2.11947262e-02,  4.02641818e-02,  8.90764035e-03,\n",
       "        1.34621551e-02, -3.15715112e-02,  2.29189899e-02,  2.20950209e-02,\n",
       "       -1.16889467e-02, -2.99451184e-02,  9.37032886e-03,  5.25468029e-03,\n",
       "        2.58107614e-02,  3.08374688e-02,  2.61358898e-02,  3.32459472e-02,\n",
       "       -2.11849622e-02,  1.31549602e-02, -1.61260292e-02,  2.15784255e-02,\n",
       "        2.97497343e-02,  5.18739549e-03, -2.55728583e-03, -1.71166137e-02,\n",
       "        5.95337246e-03,  2.03646980e-02,  3.02063618e-02, -1.54148005e-02,\n",
       "       -2.93938834e-02, -3.87758017e-02, -1.23396395e-02,  1.26888566e-02,\n",
       "        3.15779597e-02, -3.71924043e-03, -1.74357686e-02, -2.79322453e-03,\n",
       "       -1.01246417e-03,  3.22491564e-02, -1.89681668e-02,  2.83817891e-02,\n",
       "        2.57005449e-03,  1.03562474e-02, -7.67580466e-03,  1.09528070e-02,\n",
       "        3.50376009e-03, -1.55907245e-02,  2.51923455e-03, -5.04331710e-03,\n",
       "       -2.22055074e-02,  3.14194076e-02,  2.65111960e-02,  3.54120806e-02,\n",
       "        1.76042523e-02, -1.93368588e-02, -3.27696418e-03, -1.81562118e-02,\n",
       "       -1.95630509e-02,  3.97468591e-03,  2.23382972e-02,  3.59941553e-03,\n",
       "       -2.05143485e-02,  3.57892960e-02,  1.12825222e-02,  4.50552255e-03,\n",
       "       -1.17477830e-02,  2.38528359e-03,  1.71564531e-03, -3.07979826e-02,\n",
       "        3.72725688e-02,  1.73929818e-02, -3.40111344e-03, -3.13429870e-02,\n",
       "       -4.96187108e-03, -1.67799015e-02,  1.09547507e-02,  4.10747752e-02,\n",
       "        3.12493322e-03, -2.09477842e-02,  3.56449038e-02,  3.98407178e-03,\n",
       "        2.19154246e-02, -1.91280264e-02,  6.52086106e-04, -1.95839051e-02,\n",
       "       -8.35538749e-03, -2.69774757e-02,  1.69031060e-04, -2.51999162e-02,\n",
       "        3.28977555e-02, -3.50766741e-02,  3.34895179e-02,  1.40427100e-02,\n",
       "       -9.12524294e-03,  2.35326719e-02,  7.58912088e-03,  2.13628858e-02,\n",
       "       -1.99160818e-02, -1.29670706e-02,  1.02874860e-02, -2.61255223e-02,\n",
       "        4.67250776e-03, -3.43976207e-02, -7.67749827e-03, -1.37232505e-02,\n",
       "        1.70817822e-02,  9.73499753e-03, -1.52536826e-02, -2.07798518e-02,\n",
       "        2.34963559e-02,  4.44593094e-02, -1.18203294e-02, -1.02894884e-02,\n",
       "       -5.49384253e-03, -6.50052354e-03, -1.84559114e-02,  7.36761698e-03,\n",
       "        4.34748875e-03, -5.69357164e-03,  2.62357183e-02,  1.09103636e-03,\n",
       "        2.20551454e-02, -1.55091742e-02, -4.64237668e-03,  3.03658308e-04,\n",
       "        5.05033834e-03, -3.91062442e-03, -5.81068778e-03,  5.23127355e-02,\n",
       "        7.24867685e-03,  2.01356839e-02,  2.52638012e-02, -1.87064316e-02,\n",
       "       -1.70147780e-03, -2.15699729e-02,  2.11355295e-02,  5.38806105e-03,\n",
       "       -1.38900224e-02,  2.21494846e-02,  2.18792576e-02, -1.01722293e-02,\n",
       "        1.45826954e-02, -2.56714709e-02,  1.12332022e-02, -1.88352764e-02,\n",
       "       -3.08305416e-02, -9.58637334e-03,  3.36494371e-02,  2.24066861e-02,\n",
       "       -2.21596267e-02, -1.11214805e-03, -3.81795433e-03, -2.67492924e-02,\n",
       "        9.89084877e-03,  5.40088629e-03, -1.51488064e-02, -4.73070843e-03,\n",
       "        2.06707069e-03,  3.98696549e-02, -1.67025756e-02, -5.11941919e-03,\n",
       "       -1.66662317e-02, -1.75476186e-02,  1.03686294e-02,  2.43102107e-02,\n",
       "       -1.29173221e-02, -7.48355407e-03,  1.38395848e-02,  1.43938710e-03,\n",
       "        4.09321152e-02, -6.40852191e-03, -2.24329922e-02,  1.08870780e-02,\n",
       "       -2.07192730e-03,  1.42460316e-02,  8.36793892e-03,  1.33757386e-02,\n",
       "        4.22213972e-02, -1.29192211e-02,  4.77746641e-03,  2.19343640e-02,\n",
       "       -1.59434769e-02, -1.13480315e-02, -8.07770714e-03, -3.72435749e-02,\n",
       "        2.82660145e-02, -1.30608585e-02,  1.31846434e-02,  2.51311008e-02,\n",
       "       -2.96808574e-02, -3.78441177e-02,  3.26875076e-02, -1.36435367e-02,\n",
       "       -9.77750495e-03,  8.84249434e-03, -2.10368726e-02,  3.36014368e-02,\n",
       "        1.28412154e-02, -2.29643378e-02,  3.83255035e-02, -1.59913488e-02,\n",
       "        2.40787212e-02,  2.11763848e-02,  2.10509775e-03,  3.21059227e-02,\n",
       "        2.97392141e-02,  9.12245363e-03,  2.69370172e-02,  9.95380059e-03,\n",
       "       -1.57120246e-02, -2.21196339e-02, -2.29906943e-02, -3.75430696e-02,\n",
       "        4.26765671e-03,  1.27019072e-02,  8.13623611e-03, -2.54390184e-02,\n",
       "       -2.59928927e-02, -1.45678716e-02, -3.49258743e-02,  3.76917818e-03,\n",
       "        4.33161221e-02, -1.86735466e-02,  1.93314720e-02,  3.18613835e-02,\n",
       "       -2.33783033e-02,  3.52493338e-02, -1.91993751e-02,  6.17721118e-03,\n",
       "        1.05110873e-02,  1.63194668e-02,  3.43173579e-03, -2.06614174e-02,\n",
       "       -1.67902466e-02,  1.00566046e-02, -8.07419326e-03, -1.19109033e-02,\n",
       "        2.36151516e-02, -2.02432591e-02, -2.23211795e-02,  7.37372367e-03,\n",
       "       -3.19140404e-02,  1.93474647e-02,  1.02315992e-02,  5.87086612e-03,\n",
       "        1.09545048e-02,  3.10304854e-02, -1.45503534e-02, -1.40408603e-02,\n",
       "       -8.37570056e-03,  2.81781740e-02,  2.90694535e-02,  2.06006467e-02,\n",
       "        2.77811848e-02,  1.14868199e-02,  1.60903111e-02,  2.47870870e-02,\n",
       "        3.04109715e-02, -4.76241717e-03, -7.82326143e-03, -1.91816203e-02,\n",
       "       -5.92310075e-03,  1.27843358e-02,  3.18493806e-02,  2.03707274e-02,\n",
       "       -4.29817475e-03, -5.07180532e-03, -2.84589222e-03,  3.93224023e-02,\n",
       "        1.67736784e-02,  4.34563048e-02,  2.08651274e-02, -9.12033115e-03,\n",
       "        3.13001983e-02, -9.14291479e-04,  1.12337004e-02, -9.72745998e-04,\n",
       "       -5.12130384e-04, -1.22499550e-02,  3.09213307e-02,  1.32679974e-03,\n",
       "       -1.50070293e-02,  2.63840761e-02, -1.22087132e-02,  8.45118891e-03,\n",
       "        1.26103722e-02, -2.45809387e-02, -2.96255312e-04,  3.95865887e-02,\n",
       "       -3.40763889e-02, -2.31300928e-02, -1.70657393e-02,  5.99603215e-03,\n",
       "       -1.23022906e-02, -1.08372467e-02, -4.03489498e-03, -2.05304497e-03,\n",
       "       -2.96233855e-02, -1.71778686e-02,  1.54898586e-02,  3.14416387e-03,\n",
       "        1.97692420e-02,  5.02735237e-03, -1.58517826e-02, -1.10331262e-02,\n",
       "       -6.43233256e-03,  4.31023277e-02, -2.10018679e-02,  3.93275581e-02,\n",
       "        1.19975451e-02, -3.34499218e-03,  2.62913462e-02,  9.47058946e-03,\n",
       "        2.91437330e-03,  3.41717713e-02, -1.67368818e-02,  1.80229973e-02,\n",
       "        7.80721614e-03,  5.79381920e-03, -5.16008446e-03, -8.61133169e-03,\n",
       "        8.03635106e-04,  2.83440873e-02,  2.19551139e-02, -2.68869521e-03,\n",
       "       -1.42720900e-02,  6.52023917e-03, -3.09742242e-02, -8.97062384e-03,\n",
       "       -2.19279490e-02, -7.94100296e-03, -9.72915161e-03,  3.97195108e-03,\n",
       "       -1.97352953e-02, -3.54421767e-03, -1.46366619e-02,  7.49617396e-03,\n",
       "       -5.65521326e-03, -3.67322937e-02,  1.07986834e-02,  1.38169313e-02,\n",
       "        1.96319316e-02, -6.42514508e-03,  1.98373292e-02, -1.57988053e-02,\n",
       "        3.68828252e-02,  1.54282069e-02, -1.81915928e-02,  1.42187541e-02,\n",
       "        2.61692825e-04, -2.30349768e-02,  3.99600305e-02,  1.83290038e-02,\n",
       "        1.24431532e-02,  1.74675416e-02,  8.94516634e-05,  2.22647097e-02,\n",
       "        6.37066411e-03,  5.69727877e-03,  8.38894676e-03,  7.36931991e-03,\n",
       "       -1.83994249e-02,  1.44541198e-02, -2.89746094e-02, -1.23055121e-02,\n",
       "       -1.62253138e-02,  1.76489856e-02, -3.39615229e-03, -2.87949387e-02,\n",
       "        9.25754104e-03,  1.65566057e-02,  1.06054414e-02,  3.98578215e-03,\n",
       "        9.43770818e-03, -8.59238580e-03,  1.24461893e-02,  1.08133852e-02,\n",
       "       -2.93222219e-02,  9.16043110e-03, -1.54100377e-02, -9.99629218e-03,\n",
       "        1.23643840e-03, -5.56822261e-03,  7.47786276e-03,  1.13249281e-02,\n",
       "        2.84574330e-02, -1.35306735e-02, -2.45429464e-02,  3.12143900e-02,\n",
       "       -7.34825199e-03, -1.73793025e-02,  4.88782069e-03,  4.59273495e-02,\n",
       "       -3.09330020e-02,  1.24058528e-02,  2.01307219e-02,  9.66035575e-03,\n",
       "        2.50995737e-02, -6.58220379e-03,  2.43697874e-03,  2.78829262e-02,\n",
       "        1.35747604e-02,  3.68097574e-02,  3.87109187e-03, -2.49728113e-02,\n",
       "        6.81779173e-04,  3.08994297e-02, -9.85257700e-03,  2.83472799e-02,\n",
       "        1.46360276e-02, -1.78368650e-02, -1.91274174e-02,  1.86615053e-03,\n",
       "        2.53540464e-02,  2.09046602e-02, -1.29547892e-02,  2.09819619e-02,\n",
       "       -4.55864239e-03,  9.67672840e-03, -2.43820045e-02, -1.17028095e-02,\n",
       "        2.52409503e-02,  1.55444806e-02, -4.12815949e-03,  3.41965929e-02,\n",
       "        3.35895531e-02,  8.36866722e-03,  2.30208728e-02, -3.00174160e-03,\n",
       "        3.65536734e-02, -6.58248784e-03,  9.83705651e-03,  2.27197427e-02,\n",
       "        4.40569855e-02,  5.28926812e-02, -1.09702032e-02,  4.36186837e-03,\n",
       "        1.76431127e-02, -1.99319478e-02, -2.63604801e-03, -6.87119877e-03,\n",
       "        2.72573400e-02, -8.98076314e-03,  2.56554522e-02,  5.57765970e-03,\n",
       "        2.23078784e-02,  2.73091290e-02, -1.41546624e-02,  2.24526562e-02,\n",
       "        1.38559751e-03,  3.09344623e-02, -1.33840498e-02,  5.28526586e-03,\n",
       "        1.04717826e-02, -7.56844506e-03, -2.41135880e-02,  7.34408526e-03,\n",
       "        1.52289700e-02,  1.53036248e-02,  8.94602574e-03, -1.23563055e-02,\n",
       "        9.01215617e-03,  2.28061136e-02, -8.89050867e-03,  3.46022993e-02,\n",
       "        2.41658930e-02, -1.98011212e-02, -5.62203676e-03, -6.56965142e-03,\n",
       "        3.86362374e-02,  3.61377606e-03,  2.75665689e-02,  2.15659328e-02,\n",
       "        3.85125130e-02,  1.09369159e-02, -3.72700766e-03,  1.54653527e-02,\n",
       "       -2.20713811e-03,  4.40339148e-02,  1.31887477e-02,  1.87132470e-02,\n",
       "       -2.51942594e-02, -1.91052370e-02,  4.06978019e-02,  1.75813120e-02,\n",
       "       -1.21680088e-03, -2.74387505e-02,  3.37116867e-02, -2.63826437e-02,\n",
       "        3.75419930e-02, -2.41093058e-03,  7.97015615e-03,  7.31944013e-03,\n",
       "       -1.28724920e-02,  1.51402028e-02,  4.51547233e-03,  7.56223733e-03,\n",
       "        2.57025231e-02, -2.06520762e-02,  2.48032599e-03,  1.75778549e-02,\n",
       "        2.72618290e-02,  3.57500074e-04,  2.12616343e-02, -6.08855207e-03],\n",
       "      dtype=float32)"
      ]
     },
     "execution_count": 24,
     "metadata": {},
     "output_type": "execute_result"
    }
   ],
   "source": [
    "m"
   ]
  },
  {
   "cell_type": "code",
   "execution_count": 25,
   "metadata": {},
   "outputs": [
    {
     "data": {
      "text/plain": [
       "0.987526"
      ]
     },
     "execution_count": 25,
     "metadata": {},
     "output_type": "execute_result"
    }
   ],
   "source": [
    "np.dot(minje_vector,m)"
   ]
  },
  {
   "cell_type": "markdown",
   "metadata": {},
   "source": [
    "### 6. 내가 선호하는 5가지 영화 중 하나와 그 외의 영화 하나를 골라 훈련된 모델이 예측한 나의 선호도를 파악해 보세요.\n"
   ]
  },
  {
   "cell_type": "code",
   "execution_count": 26,
   "metadata": {},
   "outputs": [],
   "source": [
    "def title_to_id(name):\n",
    "    t = movies['title'] == name\n",
    "    tt = movies[t]\n",
    "    r = tt['movie_id'].values[0].item()\n",
    "    return r\n",
    "\n",
    "def id_to_title(_id):\n",
    "    t = movies['movie_id'] == _id\n",
    "    tt = movies[t]\n",
    "    r = tt['title'].item()\n",
    "    return r"
   ]
  },
  {
   "cell_type": "code",
   "execution_count": 27,
   "metadata": {},
   "outputs": [
    {
     "data": {
      "text/plain": [
       "0.031448122"
      ]
     },
     "execution_count": 27,
     "metadata": {},
     "output_type": "execute_result"
    }
   ],
   "source": [
    "movie = movies_to_idx[2028]\n",
    "movie_vector = als_model.item_factors[2028]\n",
    "np.dot(minje_vector,movie_vector)"
   ]
  },
  {
   "cell_type": "markdown",
   "metadata": {},
   "source": [
    "### 7. 내가 좋아하는 영화와 비슷한 영화를 추천받아 봅시다."
   ]
  },
  {
   "cell_type": "code",
   "execution_count": 28,
   "metadata": {},
   "outputs": [
    {
     "data": {
      "text/plain": [
       "[(99, 0.6428484),\n",
       " (3517, 0.15954457),\n",
       " (3466, 0.15657629),\n",
       " (3480, 0.15597984),\n",
       " (3614, 0.15596683),\n",
       " (3534, 0.15568951),\n",
       " (3565, 0.15515502),\n",
       " (3420, 0.15512161),\n",
       " (3523, 0.1535697),\n",
       " (3604, 0.15333734),\n",
       " (3550, 0.15301484),\n",
       " (3374, 0.1527859),\n",
       " (3603, 0.15278156),\n",
       " (3600, 0.1524709),\n",
       " (3414, 0.15217182)]"
      ]
     },
     "execution_count": 28,
     "metadata": {},
     "output_type": "execute_result"
    }
   ],
   "source": [
    "favorite_movie = 2858\n",
    "movie_id = movies_to_idx[favorite_movie]\n",
    "similar_movie = als_model.similar_items(movie_id, N = 15)\n",
    "similar_movie"
   ]
  },
  {
   "cell_type": "code",
   "execution_count": 29,
   "metadata": {},
   "outputs": [
    {
     "data": {
      "text/plain": [
       "[2858,\n",
       " 1787,\n",
       " 989,\n",
       " 3890,\n",
       " 2438,\n",
       " 3779,\n",
       " 1316,\n",
       " 2591,\n",
       " 1886,\n",
       " 2576,\n",
       " 3876,\n",
       " 643,\n",
       " 1145,\n",
       " 3748,\n",
       " 1098]"
      ]
     },
     "execution_count": 29,
     "metadata": {},
     "output_type": "execute_result"
    }
   ],
   "source": [
    "idx_to_movies = {v:k for k,v in movies_to_idx.items()}\n",
    "[idx_to_movies[i[0]] for i in similar_movie]"
   ]
  },
  {
   "cell_type": "code",
   "execution_count": 30,
   "metadata": {},
   "outputs": [
    {
     "name": "stdout",
     "output_type": "stream",
     "text": [
      "american beauty (1999)\n",
      "paralyzing fear: the story of polio in america, a (1998)\n",
      "schlafes bruder (brother of sleep) (1995)\n",
      "back stage (2000)\n",
      "outside ozona (1998)\n",
      "project moon base (1953)\n",
      "anna (1996)\n",
      "jeanne and the perfect guy (jeanne et le gar�on formidable) (1998)\n",
      "i got the hook up (1998)\n",
      "love, etc. (1996)\n",
      "jerry & tom (1998)\n",
      "peanuts - die bank zahlt alles (1996)\n",
      "snowriders (1996)\n",
      "match, the (1999)\n",
      "search for one-eye jimmy, the (1996)\n"
     ]
    }
   ],
   "source": [
    "a = [idx_to_movies[i[0]] for i in similar_movie]\n",
    "for i in a:\n",
    "    print(id_to_title(i))"
   ]
  },
  {
   "cell_type": "markdown",
   "metadata": {},
   "source": [
    "### 8. 내가 가장 좋아할 만한 영화들을 추천받아 봅시다."
   ]
  },
  {
   "cell_type": "code",
   "execution_count": 31,
   "metadata": {},
   "outputs": [
    {
     "data": {
      "text/plain": [
       "[(1480, 0.082495905),\n",
       " (450, 0.06760685),\n",
       " (207, 0.06286987),\n",
       " (990, 0.057500787),\n",
       " (1487, 0.056678206),\n",
       " (1956, 0.05510632),\n",
       " (2037, 0.054605078),\n",
       " (1560, 0.05411025),\n",
       " (1731, 0.053904645),\n",
       " (2569, 0.051092092),\n",
       " (901, 0.05106592),\n",
       " (539, 0.050467357),\n",
       " (1821, 0.05006475),\n",
       " (61, 0.049708955),\n",
       " (1680, 0.048981413),\n",
       " (872, 0.048933893),\n",
       " (1391, 0.04891046),\n",
       " (1016, 0.048718233),\n",
       " (2290, 0.04842683),\n",
       " (2027, 0.048350133)]"
      ]
     },
     "execution_count": 31,
     "metadata": {},
     "output_type": "execute_result"
    }
   ],
   "source": [
    "user = user_to_idx['minje']\n",
    "movies_recommended = als_model.recommend(user, csr_data, N = 20, filter_already_liked_items = True)\n",
    "movies_recommended"
   ]
  },
  {
   "cell_type": "code",
   "execution_count": 32,
   "metadata": {},
   "outputs": [
    {
     "name": "stdout",
     "output_type": "stream",
     "text": [
      "slums of beverly hills, the (1998)\n",
      "life is beautiful (la vita � bella) (1997)\n",
      "citizen ruth (1996)\n",
      "american werewolf in london, an (1981)\n",
      "take the money and run (1969)\n",
      "restoration (1995)\n",
      "kicking and screaming (1995)\n",
      "dead men don't wear plaid (1982)\n",
      "picnic at hanging rock (1975)\n",
      "bastard out of carolina (1996)\n",
      "center stage (2000)\n",
      "mystery science theater 3000: the movie (1996)\n",
      "my science project (1985)\n",
      "rebel without a cause (1955)\n",
      "cemetery man (dellamorte dellamore) (1994)\n",
      "it came from outer space (1953)\n",
      "hairspray (1988)\n",
      "halloween (1978)\n",
      "ninth gate, the (2000)\n",
      "croupier (1998)\n"
     ]
    }
   ],
   "source": [
    "a = [idx_to_movies[i[0]] for i in movies_recommended]\n",
    "for i in a:\n",
    "    print(id_to_title(i))"
   ]
  },
  {
   "cell_type": "markdown",
   "metadata": {},
   "source": [
    "우와!!!!!!!!!!!먼가 중간중간 우여곡절이 많았지만 그래도 정말 오랜만에 하나를 끝냈다. \n",
    "\n",
    "\n",
    "als 모델이 어떻게 사용되는지 암묵적인 추천에 모델과 학습법  \n",
    "\n",
    "다량의 mf매트릭스일 때 빈값의 존재로 연산이 어려우니 csr로 기존데이터에서 추출해오는법 \n",
    "\n",
    "for문의 다양성 a = [idx_to_movies[i[0]] for i in movies_recommended] 이렇게 생긴 for문을 보다니..하하하하하하하하하 \n",
    "\n",
    "\n",
    "\n",
    "아직 어떻게해서 이 모델이 나에게 이런 추천을 해주는지는 잘 모른다. \n",
    "\n",
    "하지만 내 수준에서는 index할때 되도록이면 기존 이름으로 꼭꼭 챙겨와야 에러가 안나며 count라는 col을 찾고 싶은데 그 안에 col이 있다면 ''처리로 찾을 수 있다 것 등등..\n",
    "\n",
    "오늘 또 무언가를 배운 기분이다.근데 넘나 피곤하다..ㅠㅠ\n",
    "\n",
    "행복하다ㅎㅎㅎ"
   ]
  },
  {
   "cell_type": "code",
   "execution_count": null,
   "metadata": {},
   "outputs": [],
   "source": []
  },
  {
   "cell_type": "code",
   "execution_count": null,
   "metadata": {},
   "outputs": [],
   "source": []
  }
 ],
 "metadata": {
  "kernelspec": {
   "display_name": "aiffel",
   "language": "python",
   "name": "aiffel"
  },
  "language_info": {
   "codemirror_mode": {
    "name": "ipython",
    "version": 3
   },
   "file_extension": ".py",
   "mimetype": "text/x-python",
   "name": "python",
   "nbconvert_exporter": "python",
   "pygments_lexer": "ipython3",
   "version": "3.7.7"
  }
 },
 "nbformat": 4,
 "nbformat_minor": 4
}
