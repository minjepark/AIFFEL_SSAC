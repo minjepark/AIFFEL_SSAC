{
 "cells": [
  {
   "cell_type": "markdown",
   "metadata": {},
   "source": [
    "# 프로젝트 - 작사가 만들기\n",
    "\n",
    "\n",
    "## 1. 데이터 다운로드\n",
    "\n",
    "아래 링크에서 데이터를 다운받아 봅시다.\n",
    "\n",
    "- <https://www.kaggle.com/paultimothymooney/poetry/data>"
   ]
  },
  {
   "cell_type": "markdown",
   "metadata": {},
   "source": [
    "## 2. 데이터 읽어오기\n",
    "\n",
    "`glob` 모듈을 사용하면 파일을 읽어오는 작업을 하기 용이합니다. `glob`를 활용하여 모든 text 파일을 읽어온 후, `raw_corpus` 리스트에 문장 단위로 저장합시다."
   ]
  },
  {
   "cell_type": "code",
   "execution_count": 6,
   "metadata": {},
   "outputs": [
    {
     "name": "stdout",
     "output_type": "stream",
     "text": [
      "데이터의 크기 :  187088\n",
      "Examples : \n",
      " ['Yesterday, all my troubles seemed so far away', \"Now it looks as though they're here to stay\", \"Oh, I believe in yesterday Suddenly, I'm not half the man I used to be\"]\n"
     ]
    }
   ],
   "source": [
    "import glob\n",
    "import os\n",
    "\n",
    "txt_file_path = os.path.dirname(os.path.abspath('__file__')) + r'/data/lyrics/*'\n",
    "\n",
    "txt_list = glob.glob(txt_file_path)\n",
    "\n",
    "raw_corpus = []\n",
    "\n",
    "# 여러개의 txt 파일을 모두 읽어서 raw_corpus에 담습니다.\n",
    "for txt_file in txt_list:\n",
    "    with open(txt_file, \"r\") as f:\n",
    "        raw = f.read().splitlines()\n",
    "        raw_corpus.extend(raw)\n",
    "\n",
    "print(\"데이터의 크기 : \", len(raw_corpus))\n",
    "print(\"Examples : \\n\", raw_corpus[:3])"
   ]
  },
  {
   "cell_type": "markdown",
   "metadata": {},
   "source": [
    "## 3. 데이터 정제\n",
    "\n",
    "앞서 배운 테크닉들을 활용해 문장 생성에 적합한 모양새로 데이터를 정제하세요!\n",
    "\n",
    "`preprocess_sentence()` 함수를 만든 것을 기억하시죠? 이를 활용해 데이터를 정제하도록 하겠습니다.\n",
    "\n",
    "추가로 지나치게 긴 문장은 다른 데이터들이 과도한 Padding을 갖게 하므로 제거합니다. 문장을 **토큰화 했을 때 토큰의 개수가 15개를 넘어가면 잘라내기를 권합니다.**"
   ]
  },
  {
   "cell_type": "code",
   "execution_count": 11,
   "metadata": {},
   "outputs": [],
   "source": [
    "import re\n",
    "\n",
    "def preprocess_sentence(sentence):\n",
    "    sentence = sentence.lower().strip() # 문장을 모두 소문자로 바꾸고 양쪽 공백을 제거합니다.\n",
    "    \n",
    "    # 아래 3단계를 거쳐 sentence는 스페이스 1개를 delimeter로 하는 소문자 단어 시퀀스로 바꿉니다.\n",
    "    sentence = re.sub(r\"([?.!,¿])\", r\" \\1 \", sentence) # 패턴의 특수문자를 만나면 특수문자 양쪽에 공백을 추가\n",
    "    sentence = re.sub(r'[\" \"]+', \" \", sentence) # 공백 패턴을 만나면 스페이스 1개로 치환\n",
    "    sentence = re.sub(r\"[^a-zA-Z?.!,¿]+\", \" \", sentence)  # a-zA-Z?.!,¿ 패턴을 제외한 모든 문자(공백문자까지도)를 스페이스 1개로 치환\n",
    "    \n",
    "    sentence = sentence.strip()\n",
    "    \n",
    "    sentence = '<start> ' + sentence + ' <end>' # 문장의 앞뒤로 <start>와 <end>를 넣어줍니다.\n",
    "    \n",
    "    return sentence"
   ]
  },
  {
   "cell_type": "markdown",
   "metadata": {},
   "source": [
    "이 정제함수를 이용해 정제 데이터를 구해봅시다."
   ]
  },
  {
   "cell_type": "code",
   "execution_count": 42,
   "metadata": {},
   "outputs": [
    {
     "data": {
      "text/plain": [
       "['<start> yesterday , all my troubles seemed so far away <end>',\n",
       " '<start> now it looks as though they re here to stay <end>',\n",
       " '<start> there s a shadow hanging over me . <end>',\n",
       " '<start> now i need a place to hide away <end>',\n",
       " '<start> now i need a place to hide away <end>',\n",
       " '<start> oh , i believe in yesterday <end>',\n",
       " '<start> speaking words of wisdom , let it be <end>',\n",
       " '<start> speaking words of wisdom , let it be <end>',\n",
       " '<start> let it be , let it be , let it be , let it be <end>',\n",
       " '<start> there will be an answer , let it be <end>']"
      ]
     },
     "execution_count": 42,
     "metadata": {},
     "output_type": "execute_result"
    }
   ],
   "source": [
    "corpus = []\n",
    "\n",
    "for sentence in raw_corpus:\n",
    "    if len(sentence) == 0:\n",
    "        continue\n",
    "    if len(sentence.split()) >= 13:\n",
    "        continue\n",
    "    corpus.append(preprocess_sentence(sentence))\n",
    "\n",
    "corpus[:10]"
   ]
  },
  {
   "cell_type": "markdown",
   "metadata": {},
   "source": [
    "추가로 지나치게 긴 문장은 과도한 padding을 갖게 하므로 제거해 주었습니다. "
   ]
  },
  {
   "cell_type": "markdown",
   "metadata": {},
   "source": [
    "## 4. 평가 데이터셋 분리\n",
    "\n",
    "이제 훈련 데이터와 평가 데이터를 만들고 이를 분리해보도록 하겠습니다.\n",
    "\n",
    "#### tokenize() 함수로 데이터를 tensor로 변환하기"
   ]
  },
  {
   "cell_type": "code",
   "execution_count": 43,
   "metadata": {},
   "outputs": [
    {
     "name": "stdout",
     "output_type": "stream",
     "text": [
      "[[  2 861   4 ...   0   0   0]\n",
      " [  2  50  11 ...   0   0   0]\n",
      " [  2  62  16 ...   0   0   0]\n",
      " ...\n",
      " [  2 545  20 ...   0   0   0]\n",
      " [  2 121  36 ...   0   0   0]\n",
      " [  2   5  23 ...   0   0   0]] <keras_preprocessing.text.Tokenizer object at 0x7f691197c310>\n"
     ]
    }
   ],
   "source": [
    "import tensorflow as tf\n",
    "\n",
    "def tokenize(corpus):\n",
    "    # 텐서플로우에서 제공하는 Tokenizer 패키지 생성\n",
    "    tokenizer = tf.keras.preprocessing.text.Tokenizer(\n",
    "        num_words = 12000, # 전체 단어의 개수\n",
    "        filters = '',\n",
    "        oov_token = '<unk>' # out of vocabulary, 사전에 없는 단어는 어떤 토큰으로 대체할지를 말합니다.\n",
    "    )\n",
    "    tokenizer.fit_on_texts(corpus) # 만들었던 corpus로부터 Tokenizer가 사전을 자동으로 구축합니다.\n",
    "    \n",
    "    # 이후 tokenizer를 활용하여 모델에 입력할 데이터셋을 구축하게 됩니다.\n",
    "    tensor = tokenizer.texts_to_sequences(corpus) # tokenizer는 구축한 사전으로부터 corpus를 해석해 tensor로 반환합니다.\n",
    "    \n",
    "    tensor = tf.keras.preprocessing.sequence.pad_sequences(tensor, padding='post')\n",
    "    \n",
    "    print(tensor, tokenizer)\n",
    "    return tensor, tokenizer\n",
    "\n",
    "tensor, tokenizer = tokenize(corpus)"
   ]
  },
  {
   "cell_type": "markdown",
   "metadata": {},
   "source": [
    "#### 훈련 데이터와 평가 데이터로 나누기\n",
    "\n",
    "`sklearn`의 `train_test_split()`를 사용해 훈련 데이터와 평가 데이터를 나누어봅시다."
   ]
  },
  {
   "cell_type": "code",
   "execution_count": 44,
   "metadata": {},
   "outputs": [],
   "source": [
    "from sklearn.model_selection import train_test_split\n",
    "\n",
    "src_input = tensor[:, :-1]\n",
    "tgt_input = tensor[:, 1:]\n",
    "\n",
    "enc_train, enc_val, dec_train, dec_val = train_test_split(\n",
    "    src_input, tgt_input,\n",
    "    random_state=2020,\n",
    "    test_size = 0.2\n",
    ")"
   ]
  },
  {
   "cell_type": "code",
   "execution_count": 45,
   "metadata": {},
   "outputs": [
    {
     "name": "stdout",
     "output_type": "stream",
     "text": [
      "Source Train: (127100, 32)\n",
      "Target Train: (127100, 32)\n"
     ]
    }
   ],
   "source": [
    "print(\"Source Train:\", enc_train.shape)\n",
    "print(\"Target Train:\", dec_train.shape)"
   ]
  },
  {
   "cell_type": "markdown",
   "metadata": {},
   "source": [
    "#### 데이터셋 만들기"
   ]
  },
  {
   "cell_type": "code",
   "execution_count": 47,
   "metadata": {},
   "outputs": [
    {
     "data": {
      "text/plain": [
       "<BatchDataset shapes: ((256, 32), (256, 32)), types: (tf.int32, tf.int32)>"
      ]
     },
     "execution_count": 47,
     "metadata": {},
     "output_type": "execute_result"
    }
   ],
   "source": [
    "BUFFER_SIZE = len(src_input)\n",
    "BATCH_SIZE = 256\n",
    "steps_per_epoch = len(src_input) // BATCH_SIZE\n",
    "\n",
    "VOCAB_SIZE = tokenizer.num_words + 1\n",
    "\n",
    "train_dataset = tf.data.Dataset.from_tensor_slices((enc_train, dec_train)).shuffle(BUFFER_SIZE)\n",
    "train_dataset = train_dataset.batch(BATCH_SIZE, drop_remainder = True)\n",
    "train_dataset"
   ]
  },
  {
   "cell_type": "code",
   "execution_count": 49,
   "metadata": {},
   "outputs": [
    {
     "data": {
      "text/plain": [
       "<BatchDataset shapes: ((256, 32), (256, 32)), types: (tf.int32, tf.int32)>"
      ]
     },
     "execution_count": 49,
     "metadata": {},
     "output_type": "execute_result"
    }
   ],
   "source": [
    "test_dataset = tf.data.Dataset.from_tensor_slices((enc_val, dec_val)).shuffle(BUFFER_SIZE)\n",
    "test_dataset = test_dataset.batch(BATCH_SIZE, drop_remainder = True)\n",
    "test_dataset"
   ]
  },
  {
   "cell_type": "markdown",
   "metadata": {},
   "source": [
    "## 모델 만들기\n",
    "\n",
    "모델의 Embedding Size와 Hidden Size를 조절하며 10 Epoch 안에 val_loss 값을 2.2 수준으로 줄일 수 있는 모델을 설계하세요! (Loss는 아래 제시된 Loss 함수를 그대로 사용!)\n",
    "\n",
    "그리고 멋진 모델이 생성한 가사 한 줄을 제출하시길 바랍니다!"
   ]
  },
  {
   "cell_type": "code",
   "execution_count": 50,
   "metadata": {},
   "outputs": [],
   "source": [
    "class TextGenerator(tf.keras.Model):\n",
    "    def __init__(self, vocab_size, embedding_size, hidden_size):\n",
    "        super(TextGenerator, self).__init__()\n",
    "        \n",
    "        self.embedding = tf.keras.layers.Embedding(vocab_size, embedding_size)\n",
    "        self.rnn_1 = tf.keras.layers.LSTM(hidden_size, return_sequences=True)\n",
    "        self.rnn_2 = tf.keras.layers.LSTM(hidden_size, return_sequences=True)\n",
    "        self.linear = tf.keras.layers.Dense(vocab_size)\n",
    "        \n",
    "    def call(self, x):\n",
    "        out = self.embedding(x)\n",
    "        out = self.rnn_1(out)\n",
    "        out = self.rnn_2(out)\n",
    "        out = self.linear(out)\n",
    "        \n",
    "        return out\n",
    "\n",
    "embedding_size = 256\n",
    "hidden_size = 1024\n",
    "model = TextGenerator(tokenizer.num_words+1, embedding_size, hidden_size)"
   ]
  },
  {
   "cell_type": "code",
   "execution_count": 51,
   "metadata": {},
   "outputs": [
    {
     "data": {
      "text/plain": [
       "<tf.Tensor: shape=(256, 32, 12001), dtype=float32, numpy=\n",
       "array([[[ 7.6637974e-05,  1.5599812e-04,  1.3124074e-04, ...,\n",
       "         -3.1190895e-04,  1.5064520e-04, -3.3318790e-04],\n",
       "        [ 2.4329090e-04,  1.5494798e-04,  3.1254333e-04, ...,\n",
       "         -5.7013659e-04,  2.6466674e-04, -5.0529931e-04],\n",
       "        [ 2.4478821e-04, -8.3107014e-05,  2.1995611e-04, ...,\n",
       "         -6.1841123e-04,  1.3142187e-04, -6.5193570e-04],\n",
       "        ...,\n",
       "        [-7.3184312e-04,  3.3142702e-03, -9.1867003e-04, ...,\n",
       "         -1.6057574e-03,  1.0038075e-03,  1.5648381e-03],\n",
       "        [-6.7358831e-04,  3.3559101e-03, -9.9998701e-04, ...,\n",
       "         -1.5801726e-03,  8.9655840e-04,  1.6852310e-03],\n",
       "        [-6.2122627e-04,  3.3929434e-03, -1.0694895e-03, ...,\n",
       "         -1.5605048e-03,  8.0213707e-04,  1.7883484e-03]],\n",
       "\n",
       "       [[ 7.6637974e-05,  1.5599812e-04,  1.3124074e-04, ...,\n",
       "         -3.1190895e-04,  1.5064520e-04, -3.3318790e-04],\n",
       "        [-2.7697690e-05,  3.7741594e-04,  2.9193636e-04, ...,\n",
       "         -2.7541068e-04,  1.6324715e-04, -5.3263706e-04],\n",
       "        [-1.9339260e-04,  2.3412246e-04,  2.8201845e-04, ...,\n",
       "          4.2761785e-06, -9.8350814e-05, -4.6859670e-04],\n",
       "        ...,\n",
       "        [-1.0020303e-03,  3.6306740e-03, -1.6571674e-03, ...,\n",
       "         -1.4540942e-03,  4.4698894e-04,  1.9726567e-03],\n",
       "        [-9.1607834e-04,  3.6481456e-03, -1.6596159e-03, ...,\n",
       "         -1.4839383e-03,  4.6062336e-04,  2.0051668e-03],\n",
       "        [-8.3752157e-04,  3.6581566e-03, -1.6550364e-03, ...,\n",
       "         -1.5056040e-03,  4.6336738e-04,  2.0349261e-03]],\n",
       "\n",
       "       [[ 7.6637974e-05,  1.5599812e-04,  1.3124074e-04, ...,\n",
       "         -3.1190895e-04,  1.5064520e-04, -3.3318790e-04],\n",
       "        [ 1.9984855e-04, -5.6498782e-05,  2.1521100e-04, ...,\n",
       "         -5.1334023e-04,  2.4609987e-04, -1.8340904e-04],\n",
       "        [ 1.8813754e-04, -2.3258329e-04,  2.8263402e-04, ...,\n",
       "         -7.4670371e-04,  3.1158092e-04, -5.1507253e-05],\n",
       "        ...,\n",
       "        [-4.0409141e-04,  3.4111224e-03, -1.3531833e-03, ...,\n",
       "         -1.5095881e-03,  4.3475811e-04,  2.0760805e-03],\n",
       "        [-3.8274724e-04,  3.4449452e-03, -1.3669661e-03, ...,\n",
       "         -1.5166603e-03,  4.2299947e-04,  2.1071453e-03],\n",
       "        [-3.6295777e-04,  3.4747501e-03, -1.3765339e-03, ...,\n",
       "         -1.5228551e-03,  4.1288722e-04,  2.1337953e-03]],\n",
       "\n",
       "       ...,\n",
       "\n",
       "       [[ 7.6637974e-05,  1.5599812e-04,  1.3124074e-04, ...,\n",
       "         -3.1190895e-04,  1.5064520e-04, -3.3318790e-04],\n",
       "        [-2.7697690e-05,  3.7741594e-04,  2.9193636e-04, ...,\n",
       "         -2.7541068e-04,  1.6324715e-04, -5.3263706e-04],\n",
       "        [-2.7725936e-04,  3.9712517e-04,  3.9016671e-04, ...,\n",
       "         -1.9464196e-05,  1.2741900e-04, -9.7097654e-04],\n",
       "        ...,\n",
       "        [-4.9012009e-04,  3.4961568e-03, -1.3404943e-03, ...,\n",
       "         -1.5006915e-03,  4.7195825e-04,  2.0382283e-03],\n",
       "        [-4.5005642e-04,  3.5123145e-03, -1.3539698e-03, ...,\n",
       "         -1.5086776e-03,  4.5720063e-04,  2.0733792e-03],\n",
       "        [-4.1494335e-04,  3.5275673e-03, -1.3632604e-03, ...,\n",
       "         -1.5154105e-03,  4.4404730e-04,  2.1036207e-03]],\n",
       "\n",
       "       [[ 7.6637974e-05,  1.5599812e-04,  1.3124074e-04, ...,\n",
       "         -3.1190895e-04,  1.5064520e-04, -3.3318790e-04],\n",
       "        [-4.7343390e-05,  7.7021345e-05,  2.8049131e-04, ...,\n",
       "         -3.9761714e-04,  2.7894462e-04, -5.4713443e-04],\n",
       "        [ 1.3107857e-04,  8.3525694e-05,  3.2077605e-04, ...,\n",
       "         -4.4124908e-04,  2.3894681e-04, -5.4612564e-04],\n",
       "        ...,\n",
       "        [-3.9396502e-04,  3.5005899e-03, -1.2742003e-03, ...,\n",
       "         -1.5709054e-03,  5.1159575e-04,  2.1247535e-03],\n",
       "        [-3.6852510e-04,  3.5205989e-03, -1.2927682e-03, ...,\n",
       "         -1.5685011e-03,  4.8969552e-04,  2.1470175e-03],\n",
       "        [-3.4574050e-04,  3.5386775e-03, -1.3074744e-03, ...,\n",
       "         -1.5666235e-03,  4.7100146e-04,  2.1663103e-03]],\n",
       "\n",
       "       [[ 7.6637974e-05,  1.5599812e-04,  1.3124074e-04, ...,\n",
       "         -3.1190895e-04,  1.5064520e-04, -3.3318790e-04],\n",
       "        [ 1.1453009e-05,  2.5081279e-04,  2.9592420e-04, ...,\n",
       "         -4.1384308e-04,  4.9485639e-05, -4.3871786e-04],\n",
       "        [-5.0687559e-05,  3.7028198e-04,  3.3664700e-04, ...,\n",
       "         -4.6651415e-04, -1.8117928e-04, -6.4156583e-04],\n",
       "        ...,\n",
       "        [-3.8913390e-04,  3.5318302e-03, -1.4109821e-03, ...,\n",
       "         -1.5304125e-03,  4.3469883e-04,  2.1557070e-03],\n",
       "        [-3.6442120e-04,  3.5478326e-03, -1.4094422e-03, ...,\n",
       "         -1.5350536e-03,  4.2346085e-04,  2.1716640e-03],\n",
       "        [-3.4252583e-04,  3.5625903e-03, -1.4067508e-03, ...,\n",
       "         -1.5391592e-03,  4.1444335e-04,  2.1857515e-03]]], dtype=float32)>"
      ]
     },
     "execution_count": 51,
     "metadata": {},
     "output_type": "execute_result"
    }
   ],
   "source": [
    "for src_sample, tgt_sample in train_dataset.take(1):\n",
    "    break\n",
    "model(src_sample)"
   ]
  },
  {
   "cell_type": "code",
   "execution_count": 52,
   "metadata": {},
   "outputs": [
    {
     "name": "stdout",
     "output_type": "stream",
     "text": [
      "Model: \"text_generator\"\n",
      "_________________________________________________________________\n",
      "Layer (type)                 Output Shape              Param #   \n",
      "=================================================================\n",
      "embedding (Embedding)        multiple                  3072256   \n",
      "_________________________________________________________________\n",
      "lstm (LSTM)                  multiple                  5246976   \n",
      "_________________________________________________________________\n",
      "lstm_1 (LSTM)                multiple                  8392704   \n",
      "_________________________________________________________________\n",
      "dense (Dense)                multiple                  12301025  \n",
      "=================================================================\n",
      "Total params: 29,012,961\n",
      "Trainable params: 29,012,961\n",
      "Non-trainable params: 0\n",
      "_________________________________________________________________\n"
     ]
    }
   ],
   "source": [
    "model.summary()"
   ]
  },
  {
   "cell_type": "code",
   "execution_count": 55,
   "metadata": {},
   "outputs": [
    {
     "name": "stdout",
     "output_type": "stream",
     "text": [
      "Epoch 1/10\n",
      "496/496 [==============================] - 139s 280ms/step - loss: 1.3875 - val_loss: 1.3135\n",
      "Epoch 2/10\n",
      "496/496 [==============================] - 139s 281ms/step - loss: 1.2516 - val_loss: 1.2363\n",
      "Epoch 3/10\n",
      "496/496 [==============================] - 143s 289ms/step - loss: 1.1631 - val_loss: 1.1850\n",
      "Epoch 4/10\n",
      "496/496 [==============================] - 149s 301ms/step - loss: 1.0828 - val_loss: 1.1477\n",
      "Epoch 5/10\n",
      "496/496 [==============================] - 147s 297ms/step - loss: 1.0118 - val_loss: 1.1173\n",
      "Epoch 6/10\n",
      "496/496 [==============================] - 148s 298ms/step - loss: 0.9479 - val_loss: 1.0941\n",
      "Epoch 7/10\n",
      "496/496 [==============================] - 160s 323ms/step - loss: 0.8898 - val_loss: 1.0769\n",
      "Epoch 8/10\n",
      "496/496 [==============================] - 180s 363ms/step - loss: 0.8371 - val_loss: 1.0629\n",
      "Epoch 9/10\n",
      "496/496 [==============================] - 180s 364ms/step - loss: 0.7885 - val_loss: 1.0521\n",
      "Epoch 10/10\n",
      "496/496 [==============================] - 160s 323ms/step - loss: 0.7433 - val_loss: 1.0439\n"
     ]
    },
    {
     "data": {
      "text/plain": [
       "<tensorflow.python.keras.callbacks.History at 0x7f6924002510>"
      ]
     },
     "execution_count": 55,
     "metadata": {},
     "output_type": "execute_result"
    }
   ],
   "source": [
    "optimizer = tf.keras.optimizers.Adam()\n",
    "loss = tf.keras.losses.SparseCategoricalCrossentropy(\n",
    "    from_logits=True, reduction='none')\n",
    "\n",
    "model.compile(loss=loss, optimizer=optimizer)\n",
    "model.fit(train_dataset, validation_data = test_dataset, epochs=10)"
   ]
  },
  {
   "cell_type": "markdown",
   "metadata": {},
   "source": [
    "긴 시간이 지났습니다!\n",
    "\n",
    "val_loss는 1.04로 꽤 좋은 숫자를 보이고 있네요. 그럼 한번 작사를 시켜봅시다."
   ]
  },
  {
   "cell_type": "code",
   "execution_count": 56,
   "metadata": {},
   "outputs": [],
   "source": [
    "def generate_text(model, tokenizer, init_sentence=\"<start>\", max_len=20):\n",
    "    # 테스트를 위해서 입력받은 init_sentence도 일단 텐서로 변환합니다.\n",
    "    test_input = tokenizer.texts_to_sequences([init_sentence])\n",
    "    test_tensor = tf.convert_to_tensor(test_input, dtype=tf.int64)\n",
    "    end_token = tokenizer.word_index[\"<end>\"]\n",
    "    \n",
    "    # 텍스트를 실제로 생성할때는 루프를 돌면서 단어 하나씩 생성해야 합니다.\n",
    "    while True:\n",
    "        predict = model(test_tensor) # 입력받은 문장의 텐서를 입력합니다.\n",
    "        predict_word = tf.argmax(tf.nn.softmax(predict, axis=-1), axis=-1)[:, -1] # 우리 모델이 예측한 마지막 단어가 바로 새롭게 생성한 단어가 됩니다.\n",
    "        \n",
    "        # 우리 모델이 새롭계 예측한 단어를 입력 문장의 뒤에 붙여줍니다. \n",
    "        test_tensor = tf.concat([test_tensor, tf.expand_dims(predict_word, axis=0)], axis=-1)\n",
    "        \n",
    "        # 우리 모델이 <end>를 예측했거나, max_len에 도달하지 않았다면 while 루프를 돌면서 다음 단어를 예측해야합니다.\n",
    "        if predict_word.numpy()[0] == end_token:\n",
    "            break\n",
    "        if test_tensor.shape[1] >= max_len:\n",
    "            break\n",
    "    \n",
    "    generated = \"\"\n",
    "    \n",
    "    # 생성된 tensor 안에 있는 word index를 tokenizer.index_word 사전을 통해 실제 단어로 하나씩 변환합니다.\n",
    "    for word_index in test_tensor[0].numpy():\n",
    "        generated += tokenizer.index_word[word_index] + \" \"\n",
    "    \n",
    "    return generated # 이것이 최종적으로 모델이 생성한 자연어 문장입니다."
   ]
  },
  {
   "cell_type": "code",
   "execution_count": 57,
   "metadata": {},
   "outputs": [
    {
     "data": {
      "text/plain": [
       "'<start> i love you , i love you <end> '"
      ]
     },
     "execution_count": 57,
     "metadata": {},
     "output_type": "execute_result"
    }
   ],
   "source": [
    "generate_text(model, tokenizer, init_sentence=\"<start> i love\", max_len=20)"
   ]
  },
  {
   "cell_type": "markdown",
   "metadata": {},
   "source": [
    "뭔가 웃기죠? 한번 더 시도해봅시다."
   ]
  },
  {
   "cell_type": "code",
   "execution_count": 58,
   "metadata": {},
   "outputs": [
    {
     "data": {
      "text/plain": [
       "'<start> if you re ready <end> '"
      ]
     },
     "execution_count": 58,
     "metadata": {},
     "output_type": "execute_result"
    }
   ],
   "source": [
    "generate_text(model, tokenizer, init_sentence=\"<start> if you\", max_len=20)"
   ]
  },
  {
   "cell_type": "code",
   "execution_count": 59,
   "metadata": {},
   "outputs": [
    {
     "data": {
      "text/plain": [
       "'<start> i wonder if i could be your spouse <end> '"
      ]
     },
     "execution_count": 59,
     "metadata": {},
     "output_type": "execute_result"
    }
   ],
   "source": [
    "generate_text(model, tokenizer, init_sentence=\"<start> i wonder\", max_len=20)"
   ]
  },
  {
   "cell_type": "code",
   "execution_count": 60,
   "metadata": {},
   "outputs": [
    {
     "data": {
      "text/plain": [
       "'<start> i wanted to be your con man with a six story <end> '"
      ]
     },
     "execution_count": 60,
     "metadata": {},
     "output_type": "execute_result"
    }
   ],
   "source": [
    "generate_text(model, tokenizer, init_sentence=\"<start> i wanted\", max_len=20)"
   ]
  },
  {
   "cell_type": "code",
   "execution_count": 61,
   "metadata": {},
   "outputs": [
    {
     "data": {
      "text/plain": [
       "'<start> she loves me <end> '"
      ]
     },
     "execution_count": 61,
     "metadata": {},
     "output_type": "execute_result"
    }
   ],
   "source": [
    "generate_text(model, tokenizer, init_sentence=\"<start> she loves\", max_len=20)"
   ]
  },
  {
   "cell_type": "code",
   "execution_count": 64,
   "metadata": {},
   "outputs": [
    {
     "data": {
      "text/plain": [
       "'<start> please give me the <unk> of the night <end> '"
      ]
     },
     "execution_count": 64,
     "metadata": {},
     "output_type": "execute_result"
    }
   ],
   "source": [
    "generate_text(model, tokenizer, init_sentence=\"<start> please give \", max_len=20)"
   ]
  },
  {
   "cell_type": "code",
   "execution_count": 65,
   "metadata": {},
   "outputs": [
    {
     "data": {
      "text/plain": [
       "'<start> if you want me , you ll call me <end> '"
      ]
     },
     "execution_count": 65,
     "metadata": {},
     "output_type": "execute_result"
    }
   ],
   "source": [
    "generate_text(model, tokenizer, init_sentence=\"<start> if you want \", max_len=20)"
   ]
  },
  {
   "cell_type": "code",
   "execution_count": 66,
   "metadata": {},
   "outputs": [
    {
     "data": {
      "text/plain": [
       "'<start> say it all , <end> '"
      ]
     },
     "execution_count": 66,
     "metadata": {},
     "output_type": "execute_result"
    }
   ],
   "source": [
    "generate_text(model, tokenizer, init_sentence=\"<start> say \", max_len=20)"
   ]
  },
  {
   "cell_type": "markdown",
   "metadata": {},
   "source": [
    "## Conclusion\n",
    "\n",
    "재밌는 작사가 만들기 프로젝트를 해보았습니다. 'ㅅ'~ 생각보다 재밌는 문장을 말하네요! 저보다 더 감성적인 것 같습니다. :)\n",
    "\n"
   ]
  },
