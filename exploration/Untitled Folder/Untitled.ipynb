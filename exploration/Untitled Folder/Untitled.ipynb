{
 "cells": [
  {
   "cell_type": "code",
   "execution_count": null,
   "id": "driven-clinton",
   "metadata": {},
   "outputs": [],
   "source": [
    "transformer의 특징 \n",
    "input: 임베딩 벡터에 어떤 값을 더해준 뒤에 입력으로 사용한다. 이 부분이 positional encoding\n",
    "     문장에 있는 모든 단어를 한꺼번에 입력으로 받는다. 단어를 한 개씩 순차적으로 받는게 아니라 \n",
    "        Rnn은 어순대로 모델에 입력되기에 어순을 정보를 알려줄 필요가 없다. 트랜스포머는 한 번에 모든단어를 입력으로 받기때문에 어순을 알려줘야한다. \n",
    "        위치정보를 가진 벡터를 알려줍니다. 이 위치정보를 가진 벡터가 positional encoding입니다. \n",
    "        \n",
    "        사인, 코사인 함수의 그래프값을 임베딩벡터에 더해줌으로써 순서정보를 더해줄 수 있다. \n",
    "        \n",
    "        \n",
    "        . 위의 함수를 이해하기 위해서는 위에서 본 임베딩 벡터와 포지셔널 인코딩의 덧셈은 사실 임베딩 벡터가 모여 만들어진 문장 벡터 행렬과 포지셔널 인코딩 행렬의 덧셈 연산을 통해 이루어진다는 점을 이해해야 합니다."
   ]
  }
 ],
 "metadata": {
  "kernelspec": {
   "display_name": "aiffel",
   "language": "python",
   "name": "aiffel"
  },
  "language_info": {
   "codemirror_mode": {
    "name": "ipython",
    "version": 3
   },
   "file_extension": ".py",
   "mimetype": "text/x-python",
   "name": "python",
   "nbconvert_exporter": "python",
   "pygments_lexer": "ipython3",
   "version": "3.7.9"
  }
 },
 "nbformat": 4,
 "nbformat_minor": 5
}
