{
 "cells": [
  {
   "cell_type": "markdown",
   "metadata": {},
   "source": [
    "# 프로젝트 : 개구리는 안돼요! (CIFAR-10)\n",
    "\n",
    "이번 프로젝트는 지금까지의 실습과 동일한 방법으로 CIFAR-10 데이터셋에 대해 진행해보겠습니다.\n",
    "\n",
    "만들 모델은 CIFAR-10의 10가지 클래스 중 개구리 라벨을 이상 데이터로 처리하는 모델입니다. 혹시 개구리가 출현할 경우 이를 감지하여 이상감지 경과를 발생시키는 개구리 감지 모델이라고 할 수 있겠습니다.\n",
    "\n",
    "아래 순서를 따라 진행해주세요.\n",
    "\n",
    "- 이상 감지용 데이터셋 구축 (개구리 데이터를 학습 데이터셋에서 제외하며 테스트 데이터셋에 포함)\n",
    "- Skip-GANomaly 모델의 구현\n",
    "- 모델의 학습과 검증\n",
    "- 검증 결과의 시각화 (정상 - 이상 데이터의 anomaly score 분포 시각화, 적절한 threshold에 따른 이상감지율 계산, 감지 성공/실패 사례 시각화 포함)"
   ]
  },
  {
   "cell_type": "code",
   "execution_count": 1,
   "metadata": {},
   "outputs": [],
   "source": [
    "#필요한 모듈 import\n",
    "import tensorflow as tf\n",
    "\n",
    "from sklearn.metrics import roc_curve, auc, accuracy_score, confusion_matrix, precision_recall_curve, average_precision_score\n",
    "from scipy.interpolate import interp1d\n",
    "from inspect import signature\n",
    "from scipy.optimize import brentq\n",
    "\n",
    "import glob\n",
    "import imageio\n",
    "import matplotlib.pyplot as plt\n",
    "import numpy as np\n",
    "import os\n",
    "\n",
    "import PIL\n",
    "from tensorflow.keras import layers\n",
    "import time\n",
    "from scipy.stats import norm\n",
    "\n",
    "from IPython import display"
   ]
  },
  {
   "cell_type": "markdown",
   "metadata": {},
   "source": [
    "## Step 1. 이상감지 데이터셋 구축"
   ]
  },
  {
   "cell_type": "code",
   "execution_count": 3,
   "metadata": {},
   "outputs": [],
   "source": [
    "(train_data, train_labels), (test_data, test_labels) = tf.keras.datasets.cifar10.load_data()\n",
    "\n",
    "train_data = (train_data - 127.5) / 127.5\n",
    "test_data = (test_data - 127.5) / 127.5"
   ]
  },
  {
   "cell_type": "code",
   "execution_count": 4,
   "metadata": {},
   "outputs": [
    {
     "data": {
      "text/plain": [
       "(50000, 32, 32, 3)"
      ]
     },
     "execution_count": 4,
     "metadata": {},
     "output_type": "execute_result"
    }
   ],
   "source": [
    "train_data.shape"
   ]
  },
  {
   "cell_type": "code",
   "execution_count": 12,
   "metadata": {},
   "outputs": [
    {
     "name": "stderr",
     "output_type": "stream",
     "text": [
      "Clipping input data to the valid range for imshow with RGB data ([0..1] for floats or [0..255] for integers).\n",
      "Clipping input data to the valid range for imshow with RGB data ([0..1] for floats or [0..255] for integers).\n",
      "Clipping input data to the valid range for imshow with RGB data ([0..1] for floats or [0..255] for integers).\n",
      "Clipping input data to the valid range for imshow with RGB data ([0..1] for floats or [0..255] for integers).\n",
      "Clipping input data to the valid range for imshow with RGB data ([0..1] for floats or [0..255] for integers).\n",
      "Clipping input data to the valid range for imshow with RGB data ([0..1] for floats or [0..255] for integers).\n",
      "Clipping input data to the valid range for imshow with RGB data ([0..1] for floats or [0..255] for integers).\n",
      "Clipping input data to the valid range for imshow with RGB data ([0..1] for floats or [0..255] for integers).\n",
      "Clipping input data to the valid range for imshow with RGB data ([0..1] for floats or [0..255] for integers).\n",
      "Clipping input data to the valid range for imshow with RGB data ([0..1] for floats or [0..255] for integers).\n"
     ]
    },
    {
     "data": {
      "image/png": "[encoded data removed]",
      "text/plain": [
       "<Figure size 720x360 with 10 Axes>"
      ]
     },
     "metadata": {
      "needs_background": "light"
     },
     "output_type": "display_data"
    }
   ],
   "source": [
    "from PIL import Image\n",
    "\n",
    "plt.figure(figsize=(10, 5))\n",
    "\n",
    "for i in range(10):\n",
    "    plt.subplot(2, 5, i+1)\n",
    "    plt.imshow(train_data[i])\n",
    "    plt.title(f'index:{i}')\n",
    "    plt.axis('off')\n",
    "plt.show()"
   ]
  },
  {
   "cell_type": "code",
   "execution_count": 19,
   "metadata": {},
   "outputs": [
    {
     "data": {
      "text/plain": [
       "array([[6],\n",
       "       [9],\n",
       "       [9],\n",
       "       ...,\n",
       "       [9],\n",
       "       [1],\n",
       "       [1]], dtype=uint8)"
      ]
     },
     "execution_count": 19,
     "metadata": {},
     "output_type": "execute_result"
    }
   ],
   "source": [
    "train_labels"
   ]
  },
  {
   "cell_type": "markdown",
   "metadata": {},
   "source": [
    "개구리 라벨은 6번입니다. 이상 데이터로 선정된 6번 라벨 데이터를 제외하도록 합시다."
   ]
  },
  {
   "cell_type": "code",
   "execution_count": 30,
   "metadata": {},
   "outputs": [],
   "source": [
    "def set_labels(labels):\n",
    "    new_t_labels = []\n",
    "    for old_label in labels:\n",
    "        if old_label == 6:\n",
    "            #print(old_label)\n",
    "            new_t_labels.append([0]) # 이상치로 처리\n",
    "        else:\n",
    "            new_t_labels.append([1])\n",
    "    return new_t_labels"
   ]
  },
  {
   "cell_type": "code",
   "execution_count": 31,
   "metadata": {},
   "outputs": [],
   "source": [
    "bol_train_labels = set_labels(train_labels)\n",
    "bol_test_labels = set_labels(test_labels)"
   ]
  },
  {
   "cell_type": "code",
   "execution_count": 36,
   "metadata": {},
   "outputs": [],
   "source": [
    "normal_data = []\n",
    "normal_labels = []\n",
    "anomaly_data = []\n",
    "anomaly_labels = []\n",
    "\n",
    "for data, label in zip(train_data, bol_train_labels):\n",
    "    if label == [0]:\n",
    "        anomaly_data.append(data)\n",
    "        anomaly_labels.append(label)\n",
    "    else:\n",
    "        normal_data.append(data)\n",
    "        normal_labels.append(label)\n",
    "        \n",
    "normal_data = np.array(normal_data)\n",
    "normal_labels = np.array(normal_labels)\n",
    "anomaly_data = np.array(anomaly_data)\n",
    "anomaly_labels = np.array(anomaly_labels)"
   ]
  },
  {
   "cell_type": "code",
   "execution_count": 37,
   "metadata": {},
   "outputs": [
    {
     "name": "stdout",
     "output_type": "stream",
     "text": [
      "(45000, 32, 32, 3) (45000, 1)\n",
      "(5000, 32, 32, 3) (5000, 1)\n"
     ]
    }
   ],
   "source": [
    "print(normal_data.shape, normal_labels.shape)\n",
    "print(anomaly_data.shape, anomaly_labels.shape)"
   ]
  },
  {
   "cell_type": "code",
   "execution_count": 38,
   "metadata": {},
   "outputs": [],
   "source": [
    "train_data = normal_data\n",
    "bol_train_labels = normal_labels\n",
    "test_data = tf.concat([test_data, anomaly_data], 0)\n",
    "bol_test_labels = tf.concat([bol_test_labels, anomaly_labels], 0)"
   ]
  },
  {
   "cell_type": "code",
   "execution_count": 39,
   "metadata": {},
   "outputs": [
    {
     "name": "stdout",
     "output_type": "stream",
     "text": [
      "(45000, 32, 32, 3)\n",
      "(15000, 32, 32, 3)\n"
     ]
    }
   ],
   "source": [
    "print(train_data.shape)\n",
    "print(test_data.shape)"
   ]
  },
  {
   "cell_type": "code",
   "execution_count": 40,
   "metadata": {},
   "outputs": [
    {
     "name": "stdout",
     "output_type": "stream",
     "text": [
      "(45000, 1)\n",
      "(15000, 1)\n"
     ]
    }
   ],
   "source": [
    "print(bol_train_labels.shape)\n",
    "print(bol_test_labels.shape)"
   ]
  },
  {
   "cell_type": "markdown",
   "metadata": {},
   "source": [
    "50000건의 데이터를 잘 나눈 것 같습니다. 개구리만 5000장이나 있네요?"
   ]
  },
  {
   "cell_type": "code",
   "execution_count": 44,
   "metadata": {},
   "outputs": [
    {
     "name": "stdout",
     "output_type": "stream",
     "text": [
      "Done\n"
     ]
    }
   ],
   "source": [
    "for label in bol_train_labels:\n",
    "    if label == 0:\n",
    "        print(label)\n",
    "print(\"Done\")"
   ]
  },
  {
   "cell_type": "markdown",
   "metadata": {},
   "source": [
    "데이터셋을 구성하고 label을 검증해봅시다. \n",
    "\n",
    "훈련 데이터셋에는 라벨이 1인 데이터만 존재하고 테스트 데이터에는 0과 1이 섞여있어야 합니다."
   ]
  },
  {
   "cell_type": "code",
   "execution_count": 45,
   "metadata": {},
   "outputs": [],
   "source": [
    "BUFFER_SIZE = 10000\n",
    "BATCH_SIZE = 8\n",
    "\n",
    "train_dataset = tf.data.Dataset.from_tensor_slices((train_data, bol_train_labels))\n",
    "train_dataset = train_dataset.shuffle(BUFFER_SIZE).batch(BATCH_SIZE)\n",
    "\n",
    "test_dataset = tf.data.Dataset.from_tensor_slices((test_data, bol_test_labels))\n",
    "test_dataset = test_dataset.shuffle(BUFFER_SIZE).batch(BATCH_SIZE)"
   ]
  },
  {
   "cell_type": "code",
   "execution_count": 46,
   "metadata": {},
   "outputs": [
    {
     "name": "stdout",
     "output_type": "stream",
     "text": [
      "tf.Tensor(\n",
      "[[1]\n",
      " [1]\n",
      " [1]\n",
      " [1]\n",
      " [1]\n",
      " [1]\n",
      " [1]\n",
      " [1]], shape=(8, 1), dtype=int64)\n"
     ]
    }
   ],
   "source": [
    "for data, label in train_dataset.take(1):\n",
    "    print(label)"
   ]
  },
  {
   "cell_type": "code",
   "execution_count": 48,
   "metadata": {},
   "outputs": [
    {
     "name": "stdout",
     "output_type": "stream",
     "text": [
      "tf.Tensor(\n",
      "[[0]\n",
      " [1]\n",
      " [1]\n",
      " [1]\n",
      " [1]\n",
      " [1]\n",
      " [0]\n",
      " [1]], shape=(8, 1), dtype=int32)\n"
     ]
    }
   ],
   "source": [
    "for data, label in test_dataset.take(1):\n",
    "    print(label)"
   ]
  },
  {
   "cell_type": "markdown",
   "metadata": {},
   "source": [
    "## Step 2. Skip-GANomaly 모델의 구현\n",
    "\n",
    "\n",
    "### Generator"
   ]
  },
  {
   "cell_type": "code",
   "execution_count": 89,
   "metadata": {},
   "outputs": [],
   "source": [
    "class Conv_block(tf.keras.Model):\n",
    "    def __init__(self, num_filters):\n",
    "        super(Conv_block, self).__init__()\n",
    "        self.conv_layer = tf.keras.Sequential([\n",
    "            layers.Conv2D(num_filters, 3, strides=2, padding='same', use_bias=False,\n",
    "                          kernel_initializer=tf.random_normal_initializer(0., 0.02)),\n",
    "            layers.BatchNormalization(),\n",
    "            layers.LeakyReLU(0.2),\n",
    "        ])\n",
    "        \n",
    "    def call(self, inputs, training=False):\n",
    "        outputs = self.conv_layer(inputs)\n",
    "        \n",
    "        return outputs"
   ]
  },
  {
   "cell_type": "code",
   "execution_count": 90,
   "metadata": {},
   "outputs": [],
   "source": [
    "class Conv_T_block(tf.keras.Model):\n",
    "    def __init__(self, num_filters):\n",
    "        super(Conv_T_block, self).__init__()\n",
    "        self.conv_T_layer = tf.keras.Sequential([\n",
    "            layers.Conv2DTranspose(num_filters, 3, strides=2, padding='same', use_bias=False,\n",
    "                                   kernel_initializer=tf.random_normal_initializer(0., 0.02)),\n",
    "            layers.BatchNormalization(),\n",
    "            layers.ReLU(),\n",
    "        ])\n",
    "        \n",
    "    def call(self, inputs, concat, training=False):\n",
    "        upsample = self.conv_T_layer(inputs)\n",
    "        outputs = tf.concat([upsample, concat], -1)\n",
    "        \n",
    "        return outputs"
   ]
  },
  {
   "cell_type": "code",
   "execution_count": 79,
   "metadata": {},
   "outputs": [],
   "source": [
    "class Generator(tf.keras.Model):\n",
    "    def __init__(self, num_output_channel = 3):\n",
    "        super(Generator, self).__init__()\n",
    "        \n",
    "        self.encoder_1 = Conv_block(64) # 16\n",
    "        self.encoder_2 = Conv_block(128) # 8\n",
    "        self.encoder_3 = Conv_block(256) # 4\n",
    "        self.encoder_4 = Conv_block(512) # 2\n",
    "        \n",
    "        self.center = Conv_block(512) # 1\n",
    "        \n",
    "        self.decoder_4 = Conv_T_block(512) # 2\n",
    "        self.decoder_3 = Conv_T_block(256) # 4\n",
    "        self.decoder_2 = Conv_T_block(128) # 8\n",
    "        self.decoder_1 = Conv_T_block(64) # 16\n",
    "        \n",
    "        self.output_layer = layers.Conv2DTranspose(num_output_channel, 1, strides=2,\n",
    "                                                  padding='same', use_bias=False,\n",
    "                                                  kernel_initializer=tf.random_normal_initializer(0., 0.02))\n",
    "        \n",
    "    def call(self, inputs, training=False):\n",
    "        en_1 = self.encoder_1(inputs) # gen\n",
    "        en_2 = self.encoder_2(en_1)\n",
    "        en_3 = self.encoder_3(en_2)\n",
    "        en_4 = self.encoder_4(en_3)\n",
    "        \n",
    "        center = self.center(en_4)\n",
    "        \n",
    "        de_4 = self.decoder_4(center, en_4)\n",
    "        de_3 = self.decoder_3(de_4, en_3)\n",
    "        de_2 = self.decoder_2(de_3, en_2)\n",
    "        de_1 = self.decoder_1(de_2, en_1)\n",
    "        \n",
    "        outputs = self.output_layer(de_1)\n",
    "        \n",
    "        return outputs"
   ]
  },
  {
   "cell_type": "markdown",
   "metadata": {},
   "source": [
    "### Discriminator\n",
    "\n",
    "Discriminator도 Generator처럼 Conv_block을 활용하며, 최종적으로 sigmoid를 거쳐 0~1 사이의 숫자를 리턴합니다.\n",
    "\n"
   ]
  },
  {
   "cell_type": "code",
   "execution_count": 80,
   "metadata": {},
   "outputs": [],
   "source": [
    "class Discriminator(tf.keras.Model):\n",
    "    def __init__(self):\n",
    "        super(Discriminator, self).__init__()\n",
    "        \n",
    "        self.encoder_1 = Conv_block(64) # 16\n",
    "        self.encoder_2 = Conv_block(128) # 8\n",
    "        self.encoder_3 = Conv_block(256) # 4\n",
    "        self.encoder_4 = Conv_block(512) # 2\n",
    "        \n",
    "        self.center = Conv_block(100) # 1\n",
    "        \n",
    "        self.outputs = layers.Conv2D(1, 3, strides=1, padding='same',\n",
    "                                    use_bias = False, activation='sigmoid')\n",
    "        \n",
    "    def call(self, inputs, training=False):\n",
    "        en_1 = self.encoder_1(inputs) # dis\n",
    "        en_2 = self.encoder_2(en_1)\n",
    "        en_3 = self.encoder_3(en_2)\n",
    "        en_4 = self.encoder_4(en_3)\n",
    "        \n",
    "        center = self.center(en_4)\n",
    "        \n",
    "        outputs = self.outputs(center)\n",
    "        \n",
    "        return outputs, center"
   ]
  },
  {
   "cell_type": "code",
   "execution_count": 91,
   "metadata": {},
   "outputs": [],
   "source": [
    "generator = Generator(num_output_channel=3)\n",
    "discriminator = Discriminator()"
   ]
  },
  {
   "cell_type": "markdown",
   "metadata": {},
   "source": [
    "### Loss 함수\n",
    "\n",
    "GAN 모델의 핵심은 Loss 함수의 구성방법에 달려 있다고 해도 과언이 아닙니다. Skip-GANomaly는 이전 모델들과 달리 일반적인 GAN의 학습 절차와 같은 형태의 Loss 구성이 진행됩니다."
   ]
  },
  {
   "cell_type": "code",
   "execution_count": 82,
   "metadata": {},
   "outputs": [],
   "source": [
    "l2_loss = tf.keras.losses.MeanSquaredError()\n",
    "l1_loss = tf.keras.losses.MeanAbsoluteError()\n",
    "cross_entropy = tf.keras.losses.BinaryCrossentropy(from_logits = False)"
   ]
  },
  {
   "cell_type": "code",
   "execution_count": 83,
   "metadata": {},
   "outputs": [],
   "source": [
    "def discriminator_loss(pred_real, pred_fake):\n",
    "    real_loss = cross_entropy(tf.ones_like(pred_real), pred_real)\n",
    "    fake_loss = cross_entropy(tf.zeros_like(pred_fake), pred_fake)\n",
    "    \n",
    "    total_dis_loss = (real_loss + fake_loss) * 0.5\n",
    "    \n",
    "    return total_dis_loss"
   ]
  },
  {
   "cell_type": "code",
   "execution_count": 84,
   "metadata": {},
   "outputs": [],
   "source": [
    "def generator_loss(real_output, fake_output, \n",
    "                   input_data, gen_data, \n",
    "                   latent_first, latent_sec):\n",
    "    w_adv = 1.\n",
    "    w_context = 40.\n",
    "    w_encoder = 1.\n",
    "    \n",
    "    adv_loss = cross_entropy(real_output, fake_output)\n",
    "    context_loss = l1_loss(input_data, gen_data)\n",
    "    encoder_loss = l2_loss(latent_first, latent_sec)\n",
    "    \n",
    "    total_gen_loss = w_adv * adv_loss + \\\n",
    "        w_context * context_loss + \\\n",
    "        w_encoder * encoder_loss\n",
    "\n",
    "    return total_gen_loss"
   ]
  },
  {
   "cell_type": "code",
   "execution_count": 85,
   "metadata": {},
   "outputs": [],
   "source": [
    "# Optimizer 설정\n",
    "generator_optimizer = tf.keras.optimizers.Adam(2e-3, 0.5)\n",
    "discriminator_optimizer = tf.keras.optimizers.Adam(2e-3, 0.5)"
   ]
  },
  {
   "cell_type": "markdown",
   "metadata": {},
   "source": [
    "## Step 3. 모델 학습과 검증\n",
    "\n",
    "### Model Train\n",
    "\n",
    "본격적으로 모델을 학습시켜봅시다!"
   ]
  },
  {
   "cell_type": "code",
   "execution_count": 86,
   "metadata": {},
   "outputs": [],
   "source": [
    "def train_step(images):\n",
    "    with tf.GradientTape() as gen_tape, tf.GradientTape() as disc_tape:\n",
    "        generated_images = generator(images, training=True)\n",
    "        \n",
    "        pred_real, feat_real = discriminator(images, training=True)\n",
    "        pred_fake, feat_fake = discriminator(generated_images, training=True)\n",
    "\n",
    "        gen_loss = generator_loss(pred_real, pred_fake,\n",
    "                                  images, generated_images,\n",
    "                                  feat_real, feat_fake)\n",
    "\n",
    "        disc_loss = discriminator_loss(pred_real, pred_fake)        \n",
    "\n",
    "    gradients_of_generator = gen_tape.gradient(gen_loss, generator.trainable_variables)\n",
    "    gradients_of_discriminator = disc_tape.gradient(disc_loss, discriminator.trainable_variables)\n",
    "\n",
    "    generator_optimizer.apply_gradients(zip(gradients_of_generator, generator.trainable_variables))\n",
    "    discriminator_optimizer.apply_gradients(zip(gradients_of_discriminator, discriminator.trainable_variables))\n",
    "    \n",
    "    return gen_loss, disc_loss"
   ]
  },
  {
   "cell_type": "code",
   "execution_count": 87,
   "metadata": {},
   "outputs": [],
   "source": [
    "checkpoint_path = os.path.join(os.getenv('HOME'),'aiffel/ganomaly_skip_no_norm/ckpt')\n",
    "\n",
    "if not os.path.isdir(checkpoint_path):\n",
    "    os.makedirs(checkpoint_path)\n",
    "    \n",
    "checkpoint = tf.train.Checkpoint(generator_optimizer=generator_optimizer,\n",
    "                                 discriminator_optimizer=discriminator_optimizer,\n",
    "                                 generator=generator,\n",
    "                                 discriminator=discriminator)"
   ]
  },
  {
   "cell_type": "code",
   "execution_count": 93,
   "metadata": {},
   "outputs": [
    {
     "name": "stdout",
     "output_type": "stream",
     "text": [
      "Steps : 100, \t Total Gen Loss : 26.599557876586914, \t Total Dis Loss : 0.001720196334645152\n",
      "Steps : 200, \t Total Gen Loss : 28.153732299804688, \t Total Dis Loss : 0.004021925386041403\n",
      "Steps : 300, \t Total Gen Loss : 24.85429573059082, \t Total Dis Loss : 0.0010040960041806102\n",
      "Steps : 400, \t Total Gen Loss : 20.88897132873535, \t Total Dis Loss : 0.002625041175633669\n",
      "Steps : 500, \t Total Gen Loss : 23.213520050048828, \t Total Dis Loss : 0.001350597944110632\n",
      "Steps : 600, \t Total Gen Loss : 21.140586853027344, \t Total Dis Loss : 0.001834370894357562\n",
      "Steps : 700, \t Total Gen Loss : 26.333003997802734, \t Total Dis Loss : 0.0006029372452758253\n",
      "Steps : 800, \t Total Gen Loss : 20.940448760986328, \t Total Dis Loss : 0.002944812411442399\n",
      "Steps : 900, \t Total Gen Loss : 20.459575653076172, \t Total Dis Loss : 0.0008829345460981131\n",
      "Steps : 1000, \t Total Gen Loss : 19.959625244140625, \t Total Dis Loss : 0.005904758349061012\n",
      "Steps : 1100, \t Total Gen Loss : 27.42235565185547, \t Total Dis Loss : 0.00421613734215498\n",
      "Steps : 1200, \t Total Gen Loss : 29.11911964416504, \t Total Dis Loss : 0.0016920567722991109\n",
      "Steps : 1300, \t Total Gen Loss : 21.430105209350586, \t Total Dis Loss : 0.003542534075677395\n",
      "Steps : 1400, \t Total Gen Loss : 20.60399055480957, \t Total Dis Loss : 0.0009524609777145088\n",
      "Steps : 1500, \t Total Gen Loss : 24.248966217041016, \t Total Dis Loss : 0.0005390639416873455\n",
      "Steps : 1600, \t Total Gen Loss : 19.74721336364746, \t Total Dis Loss : 0.001399834407493472\n",
      "Steps : 1700, \t Total Gen Loss : 21.95838737487793, \t Total Dis Loss : 0.0005691663245670497\n",
      "Steps : 1800, \t Total Gen Loss : 23.65198516845703, \t Total Dis Loss : 0.0002057527017313987\n",
      "Steps : 1900, \t Total Gen Loss : 25.81576919555664, \t Total Dis Loss : 0.0008213297696784139\n",
      "Steps : 2000, \t Total Gen Loss : 21.9221248626709, \t Total Dis Loss : 0.0007677294779568911\n",
      "Steps : 2100, \t Total Gen Loss : 24.939218521118164, \t Total Dis Loss : 0.0002714114380069077\n",
      "Steps : 2200, \t Total Gen Loss : 27.793542861938477, \t Total Dis Loss : 0.0016172714531421661\n",
      "Steps : 2300, \t Total Gen Loss : 22.98529815673828, \t Total Dis Loss : 0.0010953157907351851\n",
      "Steps : 2400, \t Total Gen Loss : 22.24456024169922, \t Total Dis Loss : 0.0013962864177301526\n",
      "Steps : 2500, \t Total Gen Loss : 27.964981079101562, \t Total Dis Loss : 0.00022852835536468774\n",
      "Steps : 2600, \t Total Gen Loss : 26.321544647216797, \t Total Dis Loss : 0.0006182339857332408\n",
      "Steps : 2700, \t Total Gen Loss : 25.149824142456055, \t Total Dis Loss : 0.000311411393340677\n",
      "Steps : 2800, \t Total Gen Loss : 26.683795928955078, \t Total Dis Loss : 0.0022857312578707933\n",
      "Steps : 2900, \t Total Gen Loss : 23.810871124267578, \t Total Dis Loss : 0.0008667565416544676\n",
      "Steps : 3000, \t Total Gen Loss : 25.002010345458984, \t Total Dis Loss : 0.0003341787087265402\n",
      "Steps : 3100, \t Total Gen Loss : 22.122806549072266, \t Total Dis Loss : 0.0009254190954379737\n",
      "Steps : 3200, \t Total Gen Loss : 26.55274200439453, \t Total Dis Loss : 0.0006738740485161543\n",
      "Steps : 3300, \t Total Gen Loss : 22.704744338989258, \t Total Dis Loss : 0.0008661611936986446\n",
      "Steps : 3400, \t Total Gen Loss : 24.275733947753906, \t Total Dis Loss : 0.0005399457877501845\n",
      "Steps : 3500, \t Total Gen Loss : 28.223814010620117, \t Total Dis Loss : 0.0001521299418527633\n",
      "Steps : 3600, \t Total Gen Loss : 26.042631149291992, \t Total Dis Loss : 0.00014732852287124842\n",
      "Steps : 3700, \t Total Gen Loss : 28.82793617248535, \t Total Dis Loss : 0.0001235880481544882\n",
      "Steps : 3800, \t Total Gen Loss : 24.450897216796875, \t Total Dis Loss : 0.00039540795842185616\n",
      "Steps : 3900, \t Total Gen Loss : 25.377784729003906, \t Total Dis Loss : 0.00018730292504187673\n",
      "Steps : 4000, \t Total Gen Loss : 25.08708381652832, \t Total Dis Loss : 0.0005937155801802874\n",
      "Steps : 4100, \t Total Gen Loss : 24.01190948486328, \t Total Dis Loss : 0.0012123767519369721\n",
      "Steps : 4200, \t Total Gen Loss : 24.41107940673828, \t Total Dis Loss : 0.0005456632934510708\n",
      "Steps : 4300, \t Total Gen Loss : 26.343107223510742, \t Total Dis Loss : 0.0005289653199724853\n",
      "Steps : 4400, \t Total Gen Loss : 23.007553100585938, \t Total Dis Loss : 0.001168751041404903\n",
      "Steps : 4500, \t Total Gen Loss : 25.07125473022461, \t Total Dis Loss : 0.0003136644372716546\n",
      "Steps : 4600, \t Total Gen Loss : 23.836891174316406, \t Total Dis Loss : 0.0003545584040693939\n",
      "Steps : 4700, \t Total Gen Loss : 22.298837661743164, \t Total Dis Loss : 0.001004094840027392\n",
      "Steps : 4800, \t Total Gen Loss : 22.757915496826172, \t Total Dis Loss : 0.0005019289092160761\n",
      "Steps : 4900, \t Total Gen Loss : 26.1291561126709, \t Total Dis Loss : 0.00031808140920475125\n",
      "Steps : 5000, \t Total Gen Loss : 27.164453506469727, \t Total Dis Loss : 0.0004055490717291832\n",
      "Steps : 5100, \t Total Gen Loss : 29.49431800842285, \t Total Dis Loss : 0.0002952858048956841\n",
      "Steps : 5200, \t Total Gen Loss : 21.98861312866211, \t Total Dis Loss : 0.00044910257565788925\n",
      "Steps : 5300, \t Total Gen Loss : 24.379840850830078, \t Total Dis Loss : 0.0004180007672403008\n",
      "Steps : 5400, \t Total Gen Loss : 25.518943786621094, \t Total Dis Loss : 0.000803553790319711\n",
      "Steps : 5500, \t Total Gen Loss : 24.255268096923828, \t Total Dis Loss : 0.0004023521323688328\n",
      "Steps : 5600, \t Total Gen Loss : 23.337820053100586, \t Total Dis Loss : 0.0004034177400171757\n",
      "Time for epoch 1 is 286.9764955043793 sec\n",
      "Steps : 5700, \t Total Gen Loss : 27.127593994140625, \t Total Dis Loss : 0.00018003841978497803\n",
      "Steps : 5800, \t Total Gen Loss : 27.123714447021484, \t Total Dis Loss : 0.001025420962832868\n",
      "Steps : 5900, \t Total Gen Loss : 26.011232376098633, \t Total Dis Loss : 0.0023044883273541927\n",
      "Steps : 6000, \t Total Gen Loss : 21.130821228027344, \t Total Dis Loss : 0.007175549864768982\n",
      "Steps : 6100, \t Total Gen Loss : 24.328210830688477, \t Total Dis Loss : 0.0011649582302197814\n",
      "Steps : 6200, \t Total Gen Loss : 25.599437713623047, \t Total Dis Loss : 0.0012651355937123299\n",
      "Steps : 6300, \t Total Gen Loss : 25.621267318725586, \t Total Dis Loss : 0.00184870813973248\n",
      "Steps : 6400, \t Total Gen Loss : 26.466670989990234, \t Total Dis Loss : 0.0005281581543385983\n",
      "Steps : 6500, \t Total Gen Loss : 25.517080307006836, \t Total Dis Loss : 0.0010213806526735425\n",
      "Steps : 6600, \t Total Gen Loss : 29.21238136291504, \t Total Dis Loss : 0.0006706487038172781\n",
      "Steps : 6700, \t Total Gen Loss : 23.471452713012695, \t Total Dis Loss : 0.0008800351060926914\n",
      "Steps : 6800, \t Total Gen Loss : 24.828983306884766, \t Total Dis Loss : 0.010707834735512733\n",
      "Steps : 6900, \t Total Gen Loss : 20.860610961914062, \t Total Dis Loss : 0.001889907754957676\n",
      "Steps : 7000, \t Total Gen Loss : 24.632160186767578, \t Total Dis Loss : 0.0007884145015850663\n",
      "Steps : 7100, \t Total Gen Loss : 24.164880752563477, \t Total Dis Loss : 0.00035896903136745095\n",
      "Steps : 7200, \t Total Gen Loss : 24.017940521240234, \t Total Dis Loss : 0.00034547297400422394\n",
      "Steps : 7300, \t Total Gen Loss : 26.998268127441406, \t Total Dis Loss : 0.00023445246915798634\n",
      "Steps : 7400, \t Total Gen Loss : 24.399782180786133, \t Total Dis Loss : 0.0003375682863406837\n",
      "Steps : 7500, \t Total Gen Loss : 23.897926330566406, \t Total Dis Loss : 0.00037405636976473033\n",
      "Steps : 7600, \t Total Gen Loss : 23.344627380371094, \t Total Dis Loss : 0.0004121075035072863\n",
      "Steps : 7700, \t Total Gen Loss : 26.49951171875, \t Total Dis Loss : 0.0002988019259646535\n",
      "Steps : 7800, \t Total Gen Loss : 23.6755313873291, \t Total Dis Loss : 0.00017638361896388233\n",
      "Steps : 7900, \t Total Gen Loss : 24.79947280883789, \t Total Dis Loss : 0.0002618427388370037\n",
      "Steps : 8000, \t Total Gen Loss : 24.69873046875, \t Total Dis Loss : 0.00025044436915777624\n",
      "Steps : 8100, \t Total Gen Loss : 22.999155044555664, \t Total Dis Loss : 0.000731199630536139\n",
      "Steps : 8200, \t Total Gen Loss : 23.87934684753418, \t Total Dis Loss : 0.0008881506510078907\n",
      "Steps : 8300, \t Total Gen Loss : 23.510343551635742, \t Total Dis Loss : 0.016146717593073845\n",
      "Steps : 8400, \t Total Gen Loss : 23.56043815612793, \t Total Dis Loss : 0.0016361468005925417\n",
      "Steps : 8500, \t Total Gen Loss : 24.61322784423828, \t Total Dis Loss : 0.00039590016240254045\n",
      "Steps : 8600, \t Total Gen Loss : 23.668081283569336, \t Total Dis Loss : 0.0008098086691461504\n",
      "Steps : 8700, \t Total Gen Loss : 25.961009979248047, \t Total Dis Loss : 0.0010665906593203545\n",
      "Steps : 8800, \t Total Gen Loss : 23.161449432373047, \t Total Dis Loss : 0.0005123417358845472\n"
     ]
    },
    {
     "name": "stdout",
     "output_type": "stream",
     "text": [
      "Steps : 8900, \t Total Gen Loss : 22.987178802490234, \t Total Dis Loss : 0.0005946144228801131\n",
      "Steps : 9000, \t Total Gen Loss : 25.530370712280273, \t Total Dis Loss : 0.00040964604704640806\n",
      "Steps : 9100, \t Total Gen Loss : 23.11440086364746, \t Total Dis Loss : 0.0005223599728196859\n",
      "Steps : 9200, \t Total Gen Loss : 23.904560089111328, \t Total Dis Loss : 0.0008143869345076382\n",
      "Steps : 9300, \t Total Gen Loss : 24.018875122070312, \t Total Dis Loss : 0.0014595839893445373\n",
      "Steps : 9400, \t Total Gen Loss : 26.30617332458496, \t Total Dis Loss : 0.0011058237869292498\n",
      "Steps : 9500, \t Total Gen Loss : 22.738971710205078, \t Total Dis Loss : 0.0005065264413133264\n",
      "Steps : 9600, \t Total Gen Loss : 23.387592315673828, \t Total Dis Loss : 0.0006531958933919668\n",
      "Steps : 9700, \t Total Gen Loss : 23.168407440185547, \t Total Dis Loss : 0.00036161692696623504\n",
      "Steps : 9800, \t Total Gen Loss : 22.49827003479004, \t Total Dis Loss : 0.00041362910997122526\n",
      "Steps : 9900, \t Total Gen Loss : 23.352140426635742, \t Total Dis Loss : 0.00024041719734668732\n",
      "Steps : 10000, \t Total Gen Loss : 26.73719024658203, \t Total Dis Loss : 0.00020600893185473979\n",
      "Steps : 10100, \t Total Gen Loss : 23.445741653442383, \t Total Dis Loss : 4.794611595571041e-05\n",
      "Steps : 10200, \t Total Gen Loss : 25.726966857910156, \t Total Dis Loss : 0.0002884241403080523\n",
      "Steps : 10300, \t Total Gen Loss : 28.926307678222656, \t Total Dis Loss : 8.985630847746506e-05\n",
      "Steps : 10400, \t Total Gen Loss : 22.105545043945312, \t Total Dis Loss : 0.0012656472390517592\n",
      "Steps : 10500, \t Total Gen Loss : 25.502531051635742, \t Total Dis Loss : 0.0006314037018455565\n",
      "Steps : 10600, \t Total Gen Loss : 24.604124069213867, \t Total Dis Loss : 0.0005124612362124026\n",
      "Steps : 10700, \t Total Gen Loss : 23.435705184936523, \t Total Dis Loss : 0.00410133320838213\n",
      "Steps : 10800, \t Total Gen Loss : 25.530418395996094, \t Total Dis Loss : 0.006355092860758305\n",
      "Steps : 10900, \t Total Gen Loss : 25.92899513244629, \t Total Dis Loss : 0.0005199075676500797\n",
      "Steps : 11000, \t Total Gen Loss : 23.780109405517578, \t Total Dis Loss : 0.1666564792394638\n",
      "Steps : 11100, \t Total Gen Loss : 25.333385467529297, \t Total Dis Loss : 0.0010378067381680012\n",
      "Steps : 11200, \t Total Gen Loss : 26.94355583190918, \t Total Dis Loss : 0.0007453208090737462\n",
      "Time for epoch 2 is 273.38745498657227 sec\n",
      "Steps : 11300, \t Total Gen Loss : 23.782089233398438, \t Total Dis Loss : 0.0001802251790650189\n",
      "Steps : 11400, \t Total Gen Loss : 27.39478874206543, \t Total Dis Loss : 0.0005142830195836723\n",
      "Steps : 11500, \t Total Gen Loss : 30.708696365356445, \t Total Dis Loss : 9.543110354570672e-05\n",
      "Steps : 11600, \t Total Gen Loss : 24.748565673828125, \t Total Dis Loss : 0.00016460753977298737\n",
      "Steps : 11700, \t Total Gen Loss : 27.25909423828125, \t Total Dis Loss : 0.00021191808627918363\n",
      "Steps : 11800, \t Total Gen Loss : 25.903650283813477, \t Total Dis Loss : 0.00022342779266182333\n",
      "Steps : 11900, \t Total Gen Loss : 29.17430305480957, \t Total Dis Loss : 0.00014930925681255758\n",
      "Steps : 12000, \t Total Gen Loss : 30.683338165283203, \t Total Dis Loss : 0.000104617873148527\n",
      "Steps : 12100, \t Total Gen Loss : 26.40241813659668, \t Total Dis Loss : 0.0002488266909494996\n",
      "Steps : 12200, \t Total Gen Loss : 26.31416893005371, \t Total Dis Loss : 9.939754090737551e-05\n",
      "Steps : 12300, \t Total Gen Loss : 25.930063247680664, \t Total Dis Loss : 7.121865201042965e-05\n",
      "Steps : 12400, \t Total Gen Loss : 25.900835037231445, \t Total Dis Loss : 6.0793561715399846e-05\n",
      "Steps : 12500, \t Total Gen Loss : 23.484756469726562, \t Total Dis Loss : 0.0003124843933619559\n",
      "Steps : 12600, \t Total Gen Loss : 25.335847854614258, \t Total Dis Loss : 9.014952229335904e-05\n",
      "Steps : 12700, \t Total Gen Loss : 25.51736831665039, \t Total Dis Loss : 0.0002433498448226601\n",
      "Steps : 12800, \t Total Gen Loss : 29.0872745513916, \t Total Dis Loss : 6.019883949193172e-05\n",
      "Steps : 12900, \t Total Gen Loss : 26.631345748901367, \t Total Dis Loss : 0.00011956013622693717\n",
      "Steps : 13000, \t Total Gen Loss : 26.999454498291016, \t Total Dis Loss : 7.644046127097681e-05\n",
      "Steps : 13100, \t Total Gen Loss : 27.651308059692383, \t Total Dis Loss : 3.5957687941845506e-05\n",
      "Steps : 13200, \t Total Gen Loss : 27.608850479125977, \t Total Dis Loss : 7.489769632229581e-05\n",
      "Steps : 13300, \t Total Gen Loss : 27.710092544555664, \t Total Dis Loss : 3.048504368052818e-05\n",
      "Steps : 13400, \t Total Gen Loss : 25.3268985748291, \t Total Dis Loss : 0.00019784596224781126\n",
      "Steps : 13500, \t Total Gen Loss : 25.09433937072754, \t Total Dis Loss : 7.113386527635157e-05\n",
      "Steps : 13600, \t Total Gen Loss : 25.408226013183594, \t Total Dis Loss : 0.0005762373330071568\n",
      "Steps : 13700, \t Total Gen Loss : 25.4595890045166, \t Total Dis Loss : 0.00020869725267402828\n",
      "Steps : 13800, \t Total Gen Loss : 29.786930084228516, \t Total Dis Loss : 8.78515638760291e-05\n",
      "Steps : 13900, \t Total Gen Loss : 23.89722442626953, \t Total Dis Loss : 7.427255332004279e-05\n",
      "Steps : 14000, \t Total Gen Loss : 27.528470993041992, \t Total Dis Loss : 0.000321911764331162\n",
      "Steps : 14100, \t Total Gen Loss : 22.392663955688477, \t Total Dis Loss : 0.9380075335502625\n",
      "Steps : 14200, \t Total Gen Loss : 28.69622802734375, \t Total Dis Loss : 0.00011490353790577501\n",
      "Steps : 14300, \t Total Gen Loss : 27.558887481689453, \t Total Dis Loss : 0.0005367120029404759\n",
      "Steps : 14400, \t Total Gen Loss : 25.181251525878906, \t Total Dis Loss : 0.00166828534565866\n",
      "Steps : 14500, \t Total Gen Loss : 24.754032135009766, \t Total Dis Loss : 0.0016640563262626529\n",
      "Steps : 14600, \t Total Gen Loss : 25.27662467956543, \t Total Dis Loss : 0.0007745617185719311\n",
      "Steps : 14700, \t Total Gen Loss : 24.298879623413086, \t Total Dis Loss : 0.0004930494469590485\n",
      "Steps : 14800, \t Total Gen Loss : 29.417953491210938, \t Total Dis Loss : 0.0011049022432416677\n",
      "Steps : 14900, \t Total Gen Loss : 25.64998435974121, \t Total Dis Loss : 0.00028022975311614573\n",
      "Steps : 15000, \t Total Gen Loss : 29.763378143310547, \t Total Dis Loss : 0.0002650201495271176\n",
      "Steps : 15100, \t Total Gen Loss : 26.44646644592285, \t Total Dis Loss : 0.0011568828485906124\n",
      "Steps : 15200, \t Total Gen Loss : 23.729337692260742, \t Total Dis Loss : 0.06215095892548561\n",
      "Steps : 15300, \t Total Gen Loss : 32.324790954589844, \t Total Dis Loss : 0.0005048518069088459\n",
      "Steps : 15400, \t Total Gen Loss : 28.527620315551758, \t Total Dis Loss : 0.00093023048248142\n",
      "Steps : 15500, \t Total Gen Loss : 29.947792053222656, \t Total Dis Loss : 0.000142467106343247\n",
      "Steps : 15600, \t Total Gen Loss : 27.93657684326172, \t Total Dis Loss : 0.0011754429433494806\n",
      "Steps : 15700, \t Total Gen Loss : 27.014812469482422, \t Total Dis Loss : 0.0007425618823617697\n",
      "Steps : 15800, \t Total Gen Loss : 25.85155487060547, \t Total Dis Loss : 0.0002696700976230204\n",
      "Steps : 15900, \t Total Gen Loss : 24.52378273010254, \t Total Dis Loss : 0.0006210443680174649\n",
      "Steps : 16000, \t Total Gen Loss : 24.590402603149414, \t Total Dis Loss : 0.00030383747071027756\n",
      "Steps : 16100, \t Total Gen Loss : 23.4219970703125, \t Total Dis Loss : 0.00024120465968735516\n",
      "Steps : 16200, \t Total Gen Loss : 25.00858497619629, \t Total Dis Loss : 0.0002732591237872839\n",
      "Steps : 16300, \t Total Gen Loss : 26.398677825927734, \t Total Dis Loss : 0.005852260626852512\n",
      "Steps : 16400, \t Total Gen Loss : 25.85643196105957, \t Total Dis Loss : 0.0022408703807741404\n",
      "Steps : 16500, \t Total Gen Loss : 28.223928451538086, \t Total Dis Loss : 0.00018362168339081109\n",
      "Steps : 16600, \t Total Gen Loss : 25.590120315551758, \t Total Dis Loss : 9.141926420852542e-05\n",
      "Steps : 16700, \t Total Gen Loss : 26.28948211669922, \t Total Dis Loss : 0.0002814455365296453\n",
      "Steps : 16800, \t Total Gen Loss : 29.318553924560547, \t Total Dis Loss : 0.00014805517275817692\n",
      "Time for epoch 3 is 273.0527560710907 sec\n",
      "Steps : 16900, \t Total Gen Loss : 25.858917236328125, \t Total Dis Loss : 0.0001785287749953568\n",
      "Steps : 17000, \t Total Gen Loss : 26.555938720703125, \t Total Dis Loss : 0.00014769341214559972\n",
      "Steps : 17100, \t Total Gen Loss : 27.11279296875, \t Total Dis Loss : 0.000101952682598494\n",
      "Steps : 17200, \t Total Gen Loss : 27.6527042388916, \t Total Dis Loss : 5.390026490204036e-05\n",
      "Steps : 17300, \t Total Gen Loss : 27.949405670166016, \t Total Dis Loss : 0.25936606526374817\n",
      "Steps : 17400, \t Total Gen Loss : 28.704242706298828, \t Total Dis Loss : 0.0008756944444030523\n"
     ]
    },
    {
     "name": "stdout",
     "output_type": "stream",
     "text": [
      "Steps : 17500, \t Total Gen Loss : 25.47000503540039, \t Total Dis Loss : 0.00037722045090049505\n",
      "Steps : 17600, \t Total Gen Loss : 25.089515686035156, \t Total Dis Loss : 0.00013479817425832152\n",
      "Steps : 17700, \t Total Gen Loss : 25.119949340820312, \t Total Dis Loss : 0.00039011065382510424\n",
      "Steps : 17800, \t Total Gen Loss : 25.595638275146484, \t Total Dis Loss : 0.00010469598055351526\n",
      "Steps : 17900, \t Total Gen Loss : 25.220947265625, \t Total Dis Loss : 7.233826909214258e-05\n",
      "Steps : 18000, \t Total Gen Loss : 24.707977294921875, \t Total Dis Loss : 0.000280372507404536\n",
      "Steps : 18100, \t Total Gen Loss : 25.80998420715332, \t Total Dis Loss : 0.0005242583574727178\n",
      "Steps : 18200, \t Total Gen Loss : 27.511253356933594, \t Total Dis Loss : 0.00010227962047792971\n",
      "Steps : 18300, \t Total Gen Loss : 27.68001937866211, \t Total Dis Loss : 0.355838805437088\n",
      "Steps : 18400, \t Total Gen Loss : 26.55247688293457, \t Total Dis Loss : 0.001136715873144567\n",
      "Steps : 18500, \t Total Gen Loss : 29.292104721069336, \t Total Dis Loss : 0.002869179705157876\n",
      "Steps : 18600, \t Total Gen Loss : 26.93157196044922, \t Total Dis Loss : 0.00011831283336505294\n",
      "Steps : 18700, \t Total Gen Loss : 26.02071762084961, \t Total Dis Loss : 0.00034721093834377825\n",
      "Steps : 18800, \t Total Gen Loss : 23.330951690673828, \t Total Dis Loss : 0.003685194067656994\n",
      "Steps : 18900, \t Total Gen Loss : 25.836307525634766, \t Total Dis Loss : 0.00048641543253324926\n",
      "Steps : 19000, \t Total Gen Loss : 20.719493865966797, \t Total Dis Loss : 0.0015910661313682795\n",
      "Steps : 19100, \t Total Gen Loss : 24.387813568115234, \t Total Dis Loss : 0.0006593319121748209\n",
      "Steps : 19200, \t Total Gen Loss : 20.40176010131836, \t Total Dis Loss : 0.0009545966750010848\n",
      "Steps : 19300, \t Total Gen Loss : 22.543659210205078, \t Total Dis Loss : 0.0010448810644447803\n",
      "Steps : 19400, \t Total Gen Loss : 18.512863159179688, \t Total Dis Loss : 0.023330865427851677\n",
      "Steps : 19500, \t Total Gen Loss : 29.64577293395996, \t Total Dis Loss : 0.0003537118900567293\n",
      "Steps : 19600, \t Total Gen Loss : 23.506677627563477, \t Total Dis Loss : 0.0013865667860955\n",
      "Steps : 19700, \t Total Gen Loss : 21.768165588378906, \t Total Dis Loss : 0.00038778933230787516\n",
      "Steps : 19800, \t Total Gen Loss : 25.66421890258789, \t Total Dis Loss : 0.00022579729557037354\n",
      "Steps : 19900, \t Total Gen Loss : 25.115821838378906, \t Total Dis Loss : 0.0003537913435138762\n",
      "Steps : 20000, \t Total Gen Loss : 28.904279708862305, \t Total Dis Loss : 0.00021683381055481732\n",
      "Steps : 20100, \t Total Gen Loss : 25.474069595336914, \t Total Dis Loss : 0.00038590613985434175\n",
      "Steps : 20200, \t Total Gen Loss : 30.132028579711914, \t Total Dis Loss : 0.00010257968096993864\n",
      "Steps : 20300, \t Total Gen Loss : 22.07942771911621, \t Total Dis Loss : 0.0008752376306802034\n",
      "Steps : 20400, \t Total Gen Loss : 22.41107749938965, \t Total Dis Loss : 0.0012241783551871777\n",
      "Steps : 20500, \t Total Gen Loss : 24.713857650756836, \t Total Dis Loss : 0.00047574786003679037\n",
      "Steps : 20600, \t Total Gen Loss : 24.04389190673828, \t Total Dis Loss : 0.0004796982684638351\n",
      "Steps : 20700, \t Total Gen Loss : 26.762161254882812, \t Total Dis Loss : 0.00017855712212622166\n",
      "Steps : 20800, \t Total Gen Loss : 23.89592170715332, \t Total Dis Loss : 0.0003139167674817145\n",
      "Steps : 20900, \t Total Gen Loss : 28.067270278930664, \t Total Dis Loss : 0.00016073623555712402\n",
      "Steps : 21000, \t Total Gen Loss : 23.66693115234375, \t Total Dis Loss : 0.00023748379317112267\n",
      "Steps : 21100, \t Total Gen Loss : 23.459293365478516, \t Total Dis Loss : 0.00017430572188459337\n",
      "Steps : 21200, \t Total Gen Loss : 24.84054183959961, \t Total Dis Loss : 0.00010314100654795766\n",
      "Steps : 21300, \t Total Gen Loss : 22.68423080444336, \t Total Dis Loss : 0.00030684511875733733\n",
      "Steps : 21400, \t Total Gen Loss : 26.160289764404297, \t Total Dis Loss : 0.000278518651612103\n",
      "Steps : 21500, \t Total Gen Loss : 23.076805114746094, \t Total Dis Loss : 0.00018911511870101094\n",
      "Steps : 21600, \t Total Gen Loss : 27.185592651367188, \t Total Dis Loss : 0.00012690425501205027\n",
      "Steps : 21700, \t Total Gen Loss : 27.017314910888672, \t Total Dis Loss : 0.0005033472552895546\n",
      "Steps : 21800, \t Total Gen Loss : 26.023683547973633, \t Total Dis Loss : 0.0001227851607836783\n",
      "Steps : 21900, \t Total Gen Loss : 28.886211395263672, \t Total Dis Loss : 8.193972462322563e-05\n",
      "Steps : 22000, \t Total Gen Loss : 22.88263511657715, \t Total Dis Loss : 0.0001116757994168438\n",
      "Steps : 22100, \t Total Gen Loss : 26.123647689819336, \t Total Dis Loss : 0.00016509764827787876\n",
      "Steps : 22200, \t Total Gen Loss : 24.464691162109375, \t Total Dis Loss : 0.0005444013513624668\n",
      "Steps : 22300, \t Total Gen Loss : 25.448198318481445, \t Total Dis Loss : 0.0001431400451110676\n",
      "Steps : 22400, \t Total Gen Loss : 25.17182159423828, \t Total Dis Loss : 8.079205872491002e-05\n",
      "Steps : 22500, \t Total Gen Loss : 23.915863037109375, \t Total Dis Loss : 0.00011233898840146139\n",
      "Time for epoch 4 is 272.41143679618835 sec\n",
      "Steps : 22600, \t Total Gen Loss : 30.02429962158203, \t Total Dis Loss : 0.00021473677770700306\n",
      "Steps : 22700, \t Total Gen Loss : 27.296106338500977, \t Total Dis Loss : 0.00015716333291493356\n",
      "Steps : 22800, \t Total Gen Loss : 25.633159637451172, \t Total Dis Loss : 0.0004834196297451854\n",
      "Steps : 22900, \t Total Gen Loss : 27.32508087158203, \t Total Dis Loss : 0.0005659098387695849\n",
      "Steps : 23000, \t Total Gen Loss : 24.878904342651367, \t Total Dis Loss : 0.0003959007153753191\n",
      "Steps : 23100, \t Total Gen Loss : 26.984054565429688, \t Total Dis Loss : 0.0001553259207867086\n",
      "Steps : 23200, \t Total Gen Loss : 24.604516983032227, \t Total Dis Loss : 0.00015392558998428285\n",
      "Steps : 23300, \t Total Gen Loss : 28.685813903808594, \t Total Dis Loss : 4.169503154116683e-05\n",
      "Steps : 23400, \t Total Gen Loss : 29.70818328857422, \t Total Dis Loss : 0.00045748072443529963\n",
      "Steps : 23500, \t Total Gen Loss : 26.268596649169922, \t Total Dis Loss : 0.000295179255772382\n",
      "Steps : 23600, \t Total Gen Loss : 26.320409774780273, \t Total Dis Loss : 0.00016634949133731425\n",
      "Steps : 23700, \t Total Gen Loss : 27.13912010192871, \t Total Dis Loss : 0.0005754107842221856\n",
      "Steps : 23800, \t Total Gen Loss : 28.121105194091797, \t Total Dis Loss : 0.00014002200623508543\n",
      "Steps : 23900, \t Total Gen Loss : 24.04132652282715, \t Total Dis Loss : 0.0001525611151009798\n",
      "Steps : 24000, \t Total Gen Loss : 26.477005004882812, \t Total Dis Loss : 0.00017922781989909708\n",
      "Steps : 24100, \t Total Gen Loss : 25.648286819458008, \t Total Dis Loss : 0.000151839034515433\n",
      "Steps : 24200, \t Total Gen Loss : 25.725406646728516, \t Total Dis Loss : 6.935470446478575e-05\n",
      "Steps : 24300, \t Total Gen Loss : 29.777997970581055, \t Total Dis Loss : 5.510736446012743e-05\n",
      "Steps : 24400, \t Total Gen Loss : 27.311891555786133, \t Total Dis Loss : 9.975752618629485e-05\n",
      "Steps : 24500, \t Total Gen Loss : 26.483203887939453, \t Total Dis Loss : 0.00012855447130277753\n",
      "Steps : 24600, \t Total Gen Loss : 25.578018188476562, \t Total Dis Loss : 7.51744446461089e-05\n",
      "Steps : 24700, \t Total Gen Loss : 28.61019515991211, \t Total Dis Loss : 0.00017144999583251774\n",
      "Steps : 24800, \t Total Gen Loss : 24.842864990234375, \t Total Dis Loss : 0.00016792595852166414\n",
      "Steps : 24900, \t Total Gen Loss : 27.675987243652344, \t Total Dis Loss : 0.0005815309705212712\n",
      "Steps : 25000, \t Total Gen Loss : 25.60346221923828, \t Total Dis Loss : 8.97985155461356e-05\n",
      "Steps : 25100, \t Total Gen Loss : 25.676315307617188, \t Total Dis Loss : 0.00035232282243669033\n",
      "Steps : 25200, \t Total Gen Loss : 29.11686134338379, \t Total Dis Loss : 3.733274570549838e-05\n",
      "Steps : 25300, \t Total Gen Loss : 23.433656692504883, \t Total Dis Loss : 0.00654261838644743\n",
      "Steps : 25400, \t Total Gen Loss : 26.58519172668457, \t Total Dis Loss : 4.859928594669327e-05\n",
      "Steps : 25500, \t Total Gen Loss : 27.687437057495117, \t Total Dis Loss : 4.885179805569351e-05\n",
      "Steps : 25600, \t Total Gen Loss : 26.245725631713867, \t Total Dis Loss : 3.854937313008122e-05\n",
      "Steps : 25700, \t Total Gen Loss : 31.76405906677246, \t Total Dis Loss : 0.00011275755969109014\n",
      "Steps : 25800, \t Total Gen Loss : 27.919532775878906, \t Total Dis Loss : 0.00012348699965514243\n",
      "Steps : 25900, \t Total Gen Loss : 25.710485458374023, \t Total Dis Loss : 0.0006180258351378143\n",
      "Steps : 26000, \t Total Gen Loss : 29.30255699157715, \t Total Dis Loss : 0.00045335121103562415\n"
     ]
    },
    {
     "name": "stdout",
     "output_type": "stream",
     "text": [
      "Steps : 26100, \t Total Gen Loss : 28.634815216064453, \t Total Dis Loss : 0.0005208835937082767\n",
      "Steps : 26200, \t Total Gen Loss : 28.341089248657227, \t Total Dis Loss : 0.0004232387582305819\n",
      "Steps : 26300, \t Total Gen Loss : 30.55772590637207, \t Total Dis Loss : 9.993785351980478e-05\n",
      "Steps : 26400, \t Total Gen Loss : 29.10812759399414, \t Total Dis Loss : 0.0012847951147705317\n",
      "Steps : 26500, \t Total Gen Loss : 25.634307861328125, \t Total Dis Loss : 0.003317257622256875\n",
      "Steps : 26600, \t Total Gen Loss : 25.94975471496582, \t Total Dis Loss : 0.00033227595849893987\n",
      "Steps : 26700, \t Total Gen Loss : 28.958904266357422, \t Total Dis Loss : 0.0005574804381467402\n",
      "Steps : 26800, \t Total Gen Loss : 30.20517349243164, \t Total Dis Loss : 4.613501369021833e-05\n",
      "Steps : 26900, \t Total Gen Loss : 30.466785430908203, \t Total Dis Loss : 0.0001448128023184836\n",
      "Steps : 27000, \t Total Gen Loss : 28.409177780151367, \t Total Dis Loss : 0.0015518636209890246\n",
      "Steps : 27100, \t Total Gen Loss : 28.91691780090332, \t Total Dis Loss : 0.0003740643442142755\n",
      "Steps : 27200, \t Total Gen Loss : 28.412391662597656, \t Total Dis Loss : 0.0001121105597121641\n",
      "Steps : 27300, \t Total Gen Loss : 32.16746139526367, \t Total Dis Loss : 0.0003014160320162773\n",
      "Steps : 27400, \t Total Gen Loss : 30.475494384765625, \t Total Dis Loss : 0.0028244939167052507\n",
      "Steps : 27500, \t Total Gen Loss : 27.622272491455078, \t Total Dis Loss : 0.0003057529975194484\n",
      "Steps : 27600, \t Total Gen Loss : 27.980785369873047, \t Total Dis Loss : 0.00020369600679259747\n",
      "Steps : 27700, \t Total Gen Loss : 30.270265579223633, \t Total Dis Loss : 9.880815196083859e-05\n",
      "Steps : 27800, \t Total Gen Loss : 28.904678344726562, \t Total Dis Loss : 0.0011455093044787645\n",
      "Steps : 27900, \t Total Gen Loss : 28.127416610717773, \t Total Dis Loss : 0.00037444906774908304\n",
      "Steps : 28000, \t Total Gen Loss : 24.985069274902344, \t Total Dis Loss : 0.00015269755385816097\n",
      "Steps : 28100, \t Total Gen Loss : 30.384662628173828, \t Total Dis Loss : 0.00028533197473734617\n",
      "Time for epoch 5 is 278.41400599479675 sec\n"
     ]
    }
   ],
   "source": [
    "max_epochs = 5\n",
    "steps = 0\n",
    "\n",
    "for epoch in range(max_epochs):\n",
    "    start = time.time()\n",
    "\n",
    "    for images, labels in train_dataset:\n",
    "        steps += 1\n",
    "        gen_loss, disc_loss = train_step(images)\n",
    "        \n",
    "        if steps % 100 == 0:\n",
    "            print ('Steps : {}, \\t Total Gen Loss : {}, \\t Total Dis Loss : {}'.format(steps, gen_loss.numpy(), disc_loss.numpy()))\n",
    "        \n",
    "    if (epoch + 1) % 1 == 0:\n",
    "        checkpoint.save(checkpoint_path)\n",
    "        \n",
    "    print ('Time for epoch {} is {} sec'.format(epoch + 1, time.time() - start))"
   ]
  },
  {
   "cell_type": "code",
   "execution_count": 94,
   "metadata": {},
   "outputs": [
    {
     "data": {
      "text/plain": [
       "<tensorflow.python.training.tracking.util.InitializationOnlyStatus at 0x7ff41a4b0150>"
      ]
     },
     "execution_count": 94,
     "metadata": {},
     "output_type": "execute_result"
    }
   ],
   "source": [
    "checkpoint.restore(tf.train.latest_checkpoint(checkpoint_path))"
   ]
  },
  {
   "cell_type": "markdown",
   "metadata": {},
   "source": [
    "## Step 4. 모델 평가하기"
   ]
  },
  {
   "cell_type": "code",
   "execution_count": 95,
   "metadata": {},
   "outputs": [],
   "source": [
    "def _evaluate(test_dataset, set_lambda=0.9):\n",
    "    an_scores = []\n",
    "    gt_labels = []\n",
    "    for step, (x_batch_train, y_batch_train) in enumerate(test_dataset):\n",
    "        generated_images = generator(x_batch_train, training=True)\n",
    "        _, feat_real = discriminator(x_batch_train, training=True)\n",
    "        _, feat_fake = discriminator(generated_images, training=True)\n",
    "\n",
    "        generated_images, feat_real, feat_fake = generated_images.numpy(), feat_real.numpy(), feat_fake.numpy()        \n",
    "\n",
    "        rec = abs(x_batch_train - generated_images)\n",
    "        lat = (feat_real - feat_fake) ** 2\n",
    "\n",
    "        rec = tf.reduce_sum(rec, [1,2,3])\n",
    "        lat = tf.reduce_sum(lat, [1,2,3])\n",
    "        \n",
    "        error = (set_lambda * tf.cast(rec, tf.float32)) + ((1 - set_lambda) * tf.cast(lat, tf.float32))\n",
    "        \n",
    "        an_scores.append(error)\n",
    "        gt_labels.append(y_batch_train)\n",
    "        \n",
    "    an_scores = np.concatenate(an_scores, axis=0).reshape([-1])\n",
    "    gt_labels = np.concatenate(gt_labels, axis=0).reshape([-1])\n",
    "    \n",
    "    an_scores = (an_scores - np.amin(an_scores)) / (np.amax(an_scores) - np.amin(an_scores))\n",
    "    \n",
    "    return an_scores, gt_labels"
   ]
  },
  {
   "cell_type": "code",
   "execution_count": 96,
   "metadata": {},
   "outputs": [
    {
     "name": "stdout",
     "output_type": "stream",
     "text": [
      "15000 15000\n"
     ]
    }
   ],
   "source": [
    "an_scores, gt_labels = _evaluate(test_dataset)\n",
    "\n",
    "print(len(an_scores), len(gt_labels))"
   ]
  },
  {
   "cell_type": "code",
   "execution_count": 97,
   "metadata": {},
   "outputs": [
    {
     "name": "stdout",
     "output_type": "stream",
     "text": [
      "(9000,)\n",
      "(6000,)\n"
     ]
    }
   ],
   "source": [
    "normal = []\n",
    "anormaly = []\n",
    "for score, label in zip(an_scores, gt_labels):\n",
    "    if label == 0:\n",
    "        anormaly.append(score)\n",
    "    else:\n",
    "        normal.append(score)\n",
    "\n",
    "normal = np.array(normal)\n",
    "print(normal.shape)\n",
    "anormaly = np.array(anormaly)\n",
    "print(anormaly.shape)"
   ]
  },
  {
   "cell_type": "code",
   "execution_count": 98,
   "metadata": {},
   "outputs": [
    {
     "data": {
      "image/png": "[encoded data removed]",
      "text/plain": [
       "<Figure size 432x288 with 1 Axes>"
      ]
     },
     "metadata": {
      "needs_background": "light"
     },
     "output_type": "display_data"
    }
   ],
   "source": [
    "plt.hist(normal, bins=np.linspace(0.0, 1.0, num=100))\n",
    "plt.hist(anormaly, bins=np.linspace(0.0, 1.0, num=100))\n",
    "plt.show()"
   ]
  },
  {
   "cell_type": "code",
   "execution_count": 99,
   "metadata": {},
   "outputs": [
    {
     "name": "stdout",
     "output_type": "stream",
     "text": [
      "0.3252508 0.2992694\n",
      "0.12729788 0.11795122\n"
     ]
    },
    {
     "data": {
      "image/png": "[encoded data removed]",
      "text/plain": [
       "<Figure size 432x288 with 1 Axes>"
      ]
     },
     "metadata": {
      "needs_background": "light"
     },
     "output_type": "display_data"
    }
   ],
   "source": [
    "plt.plot(normal, norm.pdf(normal, np.mean(normal), np.std(normal)), 'o')\n",
    "plt.plot(anormaly, norm.pdf(anormaly, np.mean(anormaly), np.std(anormaly)), 'o')\n",
    "\n",
    "print(np.mean(normal), np.mean(anormaly))\n",
    "print(np.std(normal), np.std(anormaly))"
   ]
  },
  {
   "cell_type": "markdown",
   "metadata": {},
   "source": [
    "모델을 만들고 학습가지 시켜보았습니다! \n",
    "\n",
    "normal 데이터와 anomaly 데이터의 분포 차이가 있습니다. 개구리 사진이 나오면 이상하다고 잘 탐지할 수 있겠죠?"
   ]
  }
 ],
 "metadata": {
  "kernelspec": {
   "display_name": "aiffel",
   "language": "python",
   "name": "aiffel"
  },
  "language_info": {
   "codemirror_mode": {
    "name": "ipython",
    "version": 3
   },
   "file_extension": ".py",
   "mimetype": "text/x-python",
   "name": "python",
   "nbconvert_exporter": "python",
   "pygments_lexer": "ipython3",
   "version": "3.7.7"
  }
 },
 "nbformat": 4,
 "nbformat_minor": 4
}
